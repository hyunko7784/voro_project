{
 "cells": [
  {
   "cell_type": "code",
   "execution_count": 7,
   "id": "55f5ec83",
   "metadata": {},
   "outputs": [],
   "source": [
    "import numpy as np  \n",
    "import pandas as pd \n",
    "from operator import itemgetter\n",
    "from openpyxl import load_workbook\n",
    " "
   ]
  },
  {
   "cell_type": "code",
   "execution_count": 8,
   "id": "5819ab16",
   "metadata": {},
   "outputs": [
    {
     "name": "stdout",
     "output_type": "stream",
     "text": [
      "Requirement already satisfied: prophet in c:\\users\\hyunk\\anaconda3\\lib\\site-packages (1.1)\n",
      "Requirement already satisfied: numpy>=1.15.4 in c:\\users\\hyunk\\anaconda3\\lib\\site-packages (from prophet) (1.23.1)\n",
      "Requirement already satisfied: Cython>=0.22 in c:\\users\\hyunk\\anaconda3\\lib\\site-packages (from prophet) (0.29.24)\n",
      "Requirement already satisfied: setuptools-git>=1.2 in c:\\users\\hyunk\\anaconda3\\lib\\site-packages (from prophet) (1.2)\n",
      "Requirement already satisfied: pandas>=1.0.4 in c:\\users\\hyunk\\anaconda3\\lib\\site-packages (from prophet) (1.3.4)\n",
      "Requirement already satisfied: wheel>=0.37.0 in c:\\users\\hyunk\\anaconda3\\lib\\site-packages (from prophet) (0.37.0)\n",
      "Requirement already satisfied: LunarCalendar>=0.0.9 in c:\\users\\hyunk\\anaconda3\\lib\\site-packages (from prophet) (0.0.9)\n",
      "Requirement already satisfied: cmdstanpy>=1.0.1 in c:\\users\\hyunk\\anaconda3\\lib\\site-packages (from prophet) (1.0.4)\n",
      "Requirement already satisfied: convertdate>=2.1.2 in c:\\users\\hyunk\\anaconda3\\lib\\site-packages (from prophet) (2.4.0)\n",
      "Requirement already satisfied: matplotlib>=2.0.0 in c:\\users\\hyunk\\anaconda3\\lib\\site-packages (from prophet) (3.4.3)\n",
      "Requirement already satisfied: holidays>=0.13 in c:\\users\\hyunk\\anaconda3\\lib\\site-packages (from prophet) (0.14.2)\n",
      "Requirement already satisfied: python-dateutil>=2.8.0 in c:\\users\\hyunk\\anaconda3\\lib\\site-packages (from prophet) (2.8.2)\n",
      "Requirement already satisfied: tqdm>=4.36.1 in c:\\users\\hyunk\\anaconda3\\lib\\site-packages (from prophet) (4.62.3)\n",
      "Requirement already satisfied: setuptools>=42 in c:\\users\\hyunk\\anaconda3\\lib\\site-packages (from prophet) (58.0.4)\n",
      "Requirement already satisfied: ujson in c:\\users\\hyunk\\anaconda3\\lib\\site-packages (from cmdstanpy>=1.0.1->prophet) (4.0.2)\n",
      "Requirement already satisfied: pymeeus<=1,>=0.3.13 in c:\\users\\hyunk\\anaconda3\\lib\\site-packages (from convertdate>=2.1.2->prophet) (0.5.11)\n",
      "Requirement already satisfied: hijri-converter in c:\\users\\hyunk\\anaconda3\\lib\\site-packages (from holidays>=0.13->prophet) (2.2.4)\n",
      "Requirement already satisfied: korean-lunar-calendar in c:\\users\\hyunk\\anaconda3\\lib\\site-packages (from holidays>=0.13->prophet) (0.2.1)\n",
      "Requirement already satisfied: pytz in c:\\users\\hyunk\\anaconda3\\lib\\site-packages (from LunarCalendar>=0.0.9->prophet) (2021.3)\n",
      "Requirement already satisfied: ephem>=3.7.5.3 in c:\\users\\hyunk\\anaconda3\\lib\\site-packages (from LunarCalendar>=0.0.9->prophet) (4.1.3)\n",
      "Requirement already satisfied: cycler>=0.10 in c:\\users\\hyunk\\anaconda3\\lib\\site-packages (from matplotlib>=2.0.0->prophet) (0.10.0)\n",
      "Requirement already satisfied: kiwisolver>=1.0.1 in c:\\users\\hyunk\\anaconda3\\lib\\site-packages (from matplotlib>=2.0.0->prophet) (1.3.1)\n",
      "Requirement already satisfied: pillow>=6.2.0 in c:\\users\\hyunk\\anaconda3\\lib\\site-packages (from matplotlib>=2.0.0->prophet) (8.4.0)\n",
      "Requirement already satisfied: pyparsing>=2.2.1 in c:\\users\\hyunk\\anaconda3\\lib\\site-packages (from matplotlib>=2.0.0->prophet) (3.0.4)\n",
      "Requirement already satisfied: six in c:\\users\\hyunk\\anaconda3\\lib\\site-packages (from cycler>=0.10->matplotlib>=2.0.0->prophet) (1.16.0)\n",
      "Requirement already satisfied: colorama in c:\\users\\hyunk\\anaconda3\\lib\\site-packages (from tqdm>=4.36.1->prophet) (0.4.4)\n",
      "Note: you may need to restart the kernel to use updated packages.\n"
     ]
    }
   ],
   "source": [
    "pip install --upgrade prophet"
   ]
  },
  {
   "cell_type": "code",
   "execution_count": 9,
   "id": "f1a899ef",
   "metadata": {},
   "outputs": [],
   "source": [
    "#Prophet 모델\n",
    "\n",
    "import pandas as pd\n",
    "from prophet import Prophet\n",
    "import numpy as np\n",
    "import matplotlib.pyplot as plt\n",
    "import matplotlib.dates as mdates\n",
    "import seaborn as sns\n",
    "import warnings\n",
    "import os\n",
    "import itertools\n",
    "from prophet.diagnostics import performance_metrics\n",
    "import joblib\n",
    "from sklearn.linear_model import Lasso\n",
    "from sklearn.metrics import mean_squared_error, r2_score"
   ]
  },
  {
   "cell_type": "code",
   "execution_count": 6,
   "id": "e30fe2bf",
   "metadata": {},
   "outputs": [
    {
     "ename": "FileNotFoundError",
     "evalue": "[Errno 2] No such file or directory: './Order_data/Cruiser/sales_2019-01-01_2022-08-15.csv'",
     "output_type": "error",
     "traceback": [
      "\u001b[1;31m---------------------------------------------------------------------------\u001b[0m",
      "\u001b[1;31mFileNotFoundError\u001b[0m                         Traceback (most recent call last)",
      "\u001b[1;32m~\\AppData\\Local\\Temp/ipykernel_39304/1557486342.py\u001b[0m in \u001b[0;36m<module>\u001b[1;34m\u001b[0m\n\u001b[0;32m      2\u001b[0m \u001b[1;33m\u001b[0m\u001b[0m\n\u001b[0;32m      3\u001b[0m \u001b[0morders_file\u001b[0m \u001b[1;33m=\u001b[0m \u001b[1;34m\"./Order_data/Cruiser/sales_2019-01-01_2022-08-15.csv\"\u001b[0m\u001b[1;33m\u001b[0m\u001b[1;33m\u001b[0m\u001b[0m\n\u001b[1;32m----> 4\u001b[1;33m \u001b[0mcruiser_df\u001b[0m \u001b[1;33m=\u001b[0m \u001b[0mpd\u001b[0m\u001b[1;33m.\u001b[0m\u001b[0mread_csv\u001b[0m\u001b[1;33m(\u001b[0m\u001b[0morders_file\u001b[0m\u001b[1;33m,\u001b[0m \u001b[0mkeep_default_na\u001b[0m\u001b[1;33m=\u001b[0m\u001b[1;32mFalse\u001b[0m\u001b[1;33m)\u001b[0m \u001b[1;31m#daily order file\u001b[0m\u001b[1;33m\u001b[0m\u001b[1;33m\u001b[0m\u001b[0m\n\u001b[0m\u001b[0;32m      5\u001b[0m \u001b[1;33m\u001b[0m\u001b[0m\n\u001b[0;32m      6\u001b[0m \u001b[1;31m#setting up the dates\u001b[0m\u001b[1;33m\u001b[0m\u001b[1;33m\u001b[0m\u001b[0m\n",
      "\u001b[1;32m~\\anaconda3\\lib\\site-packages\\pandas\\util\\_decorators.py\u001b[0m in \u001b[0;36mwrapper\u001b[1;34m(*args, **kwargs)\u001b[0m\n\u001b[0;32m    309\u001b[0m                     \u001b[0mstacklevel\u001b[0m\u001b[1;33m=\u001b[0m\u001b[0mstacklevel\u001b[0m\u001b[1;33m,\u001b[0m\u001b[1;33m\u001b[0m\u001b[1;33m\u001b[0m\u001b[0m\n\u001b[0;32m    310\u001b[0m                 )\n\u001b[1;32m--> 311\u001b[1;33m             \u001b[1;32mreturn\u001b[0m \u001b[0mfunc\u001b[0m\u001b[1;33m(\u001b[0m\u001b[1;33m*\u001b[0m\u001b[0margs\u001b[0m\u001b[1;33m,\u001b[0m \u001b[1;33m**\u001b[0m\u001b[0mkwargs\u001b[0m\u001b[1;33m)\u001b[0m\u001b[1;33m\u001b[0m\u001b[1;33m\u001b[0m\u001b[0m\n\u001b[0m\u001b[0;32m    312\u001b[0m \u001b[1;33m\u001b[0m\u001b[0m\n\u001b[0;32m    313\u001b[0m         \u001b[1;32mreturn\u001b[0m \u001b[0mwrapper\u001b[0m\u001b[1;33m\u001b[0m\u001b[1;33m\u001b[0m\u001b[0m\n",
      "\u001b[1;32m~\\anaconda3\\lib\\site-packages\\pandas\\io\\parsers\\readers.py\u001b[0m in \u001b[0;36mread_csv\u001b[1;34m(filepath_or_buffer, sep, delimiter, header, names, index_col, usecols, squeeze, prefix, mangle_dupe_cols, dtype, engine, converters, true_values, false_values, skipinitialspace, skiprows, skipfooter, nrows, na_values, keep_default_na, na_filter, verbose, skip_blank_lines, parse_dates, infer_datetime_format, keep_date_col, date_parser, dayfirst, cache_dates, iterator, chunksize, compression, thousands, decimal, lineterminator, quotechar, quoting, doublequote, escapechar, comment, encoding, encoding_errors, dialect, error_bad_lines, warn_bad_lines, on_bad_lines, delim_whitespace, low_memory, memory_map, float_precision, storage_options)\u001b[0m\n\u001b[0;32m    584\u001b[0m     \u001b[0mkwds\u001b[0m\u001b[1;33m.\u001b[0m\u001b[0mupdate\u001b[0m\u001b[1;33m(\u001b[0m\u001b[0mkwds_defaults\u001b[0m\u001b[1;33m)\u001b[0m\u001b[1;33m\u001b[0m\u001b[1;33m\u001b[0m\u001b[0m\n\u001b[0;32m    585\u001b[0m \u001b[1;33m\u001b[0m\u001b[0m\n\u001b[1;32m--> 586\u001b[1;33m     \u001b[1;32mreturn\u001b[0m \u001b[0m_read\u001b[0m\u001b[1;33m(\u001b[0m\u001b[0mfilepath_or_buffer\u001b[0m\u001b[1;33m,\u001b[0m \u001b[0mkwds\u001b[0m\u001b[1;33m)\u001b[0m\u001b[1;33m\u001b[0m\u001b[1;33m\u001b[0m\u001b[0m\n\u001b[0m\u001b[0;32m    587\u001b[0m \u001b[1;33m\u001b[0m\u001b[0m\n\u001b[0;32m    588\u001b[0m \u001b[1;33m\u001b[0m\u001b[0m\n",
      "\u001b[1;32m~\\anaconda3\\lib\\site-packages\\pandas\\io\\parsers\\readers.py\u001b[0m in \u001b[0;36m_read\u001b[1;34m(filepath_or_buffer, kwds)\u001b[0m\n\u001b[0;32m    480\u001b[0m \u001b[1;33m\u001b[0m\u001b[0m\n\u001b[0;32m    481\u001b[0m     \u001b[1;31m# Create the parser.\u001b[0m\u001b[1;33m\u001b[0m\u001b[1;33m\u001b[0m\u001b[0m\n\u001b[1;32m--> 482\u001b[1;33m     \u001b[0mparser\u001b[0m \u001b[1;33m=\u001b[0m \u001b[0mTextFileReader\u001b[0m\u001b[1;33m(\u001b[0m\u001b[0mfilepath_or_buffer\u001b[0m\u001b[1;33m,\u001b[0m \u001b[1;33m**\u001b[0m\u001b[0mkwds\u001b[0m\u001b[1;33m)\u001b[0m\u001b[1;33m\u001b[0m\u001b[1;33m\u001b[0m\u001b[0m\n\u001b[0m\u001b[0;32m    483\u001b[0m \u001b[1;33m\u001b[0m\u001b[0m\n\u001b[0;32m    484\u001b[0m     \u001b[1;32mif\u001b[0m \u001b[0mchunksize\u001b[0m \u001b[1;32mor\u001b[0m \u001b[0miterator\u001b[0m\u001b[1;33m:\u001b[0m\u001b[1;33m\u001b[0m\u001b[1;33m\u001b[0m\u001b[0m\n",
      "\u001b[1;32m~\\anaconda3\\lib\\site-packages\\pandas\\io\\parsers\\readers.py\u001b[0m in \u001b[0;36m__init__\u001b[1;34m(self, f, engine, **kwds)\u001b[0m\n\u001b[0;32m    809\u001b[0m             \u001b[0mself\u001b[0m\u001b[1;33m.\u001b[0m\u001b[0moptions\u001b[0m\u001b[1;33m[\u001b[0m\u001b[1;34m\"has_index_names\"\u001b[0m\u001b[1;33m]\u001b[0m \u001b[1;33m=\u001b[0m \u001b[0mkwds\u001b[0m\u001b[1;33m[\u001b[0m\u001b[1;34m\"has_index_names\"\u001b[0m\u001b[1;33m]\u001b[0m\u001b[1;33m\u001b[0m\u001b[1;33m\u001b[0m\u001b[0m\n\u001b[0;32m    810\u001b[0m \u001b[1;33m\u001b[0m\u001b[0m\n\u001b[1;32m--> 811\u001b[1;33m         \u001b[0mself\u001b[0m\u001b[1;33m.\u001b[0m\u001b[0m_engine\u001b[0m \u001b[1;33m=\u001b[0m \u001b[0mself\u001b[0m\u001b[1;33m.\u001b[0m\u001b[0m_make_engine\u001b[0m\u001b[1;33m(\u001b[0m\u001b[0mself\u001b[0m\u001b[1;33m.\u001b[0m\u001b[0mengine\u001b[0m\u001b[1;33m)\u001b[0m\u001b[1;33m\u001b[0m\u001b[1;33m\u001b[0m\u001b[0m\n\u001b[0m\u001b[0;32m    812\u001b[0m \u001b[1;33m\u001b[0m\u001b[0m\n\u001b[0;32m    813\u001b[0m     \u001b[1;32mdef\u001b[0m \u001b[0mclose\u001b[0m\u001b[1;33m(\u001b[0m\u001b[0mself\u001b[0m\u001b[1;33m)\u001b[0m\u001b[1;33m:\u001b[0m\u001b[1;33m\u001b[0m\u001b[1;33m\u001b[0m\u001b[0m\n",
      "\u001b[1;32m~\\anaconda3\\lib\\site-packages\\pandas\\io\\parsers\\readers.py\u001b[0m in \u001b[0;36m_make_engine\u001b[1;34m(self, engine)\u001b[0m\n\u001b[0;32m   1038\u001b[0m             )\n\u001b[0;32m   1039\u001b[0m         \u001b[1;31m# error: Too many arguments for \"ParserBase\"\u001b[0m\u001b[1;33m\u001b[0m\u001b[1;33m\u001b[0m\u001b[0m\n\u001b[1;32m-> 1040\u001b[1;33m         \u001b[1;32mreturn\u001b[0m \u001b[0mmapping\u001b[0m\u001b[1;33m[\u001b[0m\u001b[0mengine\u001b[0m\u001b[1;33m]\u001b[0m\u001b[1;33m(\u001b[0m\u001b[0mself\u001b[0m\u001b[1;33m.\u001b[0m\u001b[0mf\u001b[0m\u001b[1;33m,\u001b[0m \u001b[1;33m**\u001b[0m\u001b[0mself\u001b[0m\u001b[1;33m.\u001b[0m\u001b[0moptions\u001b[0m\u001b[1;33m)\u001b[0m  \u001b[1;31m# type: ignore[call-arg]\u001b[0m\u001b[1;33m\u001b[0m\u001b[1;33m\u001b[0m\u001b[0m\n\u001b[0m\u001b[0;32m   1041\u001b[0m \u001b[1;33m\u001b[0m\u001b[0m\n\u001b[0;32m   1042\u001b[0m     \u001b[1;32mdef\u001b[0m \u001b[0m_failover_to_python\u001b[0m\u001b[1;33m(\u001b[0m\u001b[0mself\u001b[0m\u001b[1;33m)\u001b[0m\u001b[1;33m:\u001b[0m\u001b[1;33m\u001b[0m\u001b[1;33m\u001b[0m\u001b[0m\n",
      "\u001b[1;32m~\\anaconda3\\lib\\site-packages\\pandas\\io\\parsers\\c_parser_wrapper.py\u001b[0m in \u001b[0;36m__init__\u001b[1;34m(self, src, **kwds)\u001b[0m\n\u001b[0;32m     49\u001b[0m \u001b[1;33m\u001b[0m\u001b[0m\n\u001b[0;32m     50\u001b[0m         \u001b[1;31m# open handles\u001b[0m\u001b[1;33m\u001b[0m\u001b[1;33m\u001b[0m\u001b[0m\n\u001b[1;32m---> 51\u001b[1;33m         \u001b[0mself\u001b[0m\u001b[1;33m.\u001b[0m\u001b[0m_open_handles\u001b[0m\u001b[1;33m(\u001b[0m\u001b[0msrc\u001b[0m\u001b[1;33m,\u001b[0m \u001b[0mkwds\u001b[0m\u001b[1;33m)\u001b[0m\u001b[1;33m\u001b[0m\u001b[1;33m\u001b[0m\u001b[0m\n\u001b[0m\u001b[0;32m     52\u001b[0m         \u001b[1;32massert\u001b[0m \u001b[0mself\u001b[0m\u001b[1;33m.\u001b[0m\u001b[0mhandles\u001b[0m \u001b[1;32mis\u001b[0m \u001b[1;32mnot\u001b[0m \u001b[1;32mNone\u001b[0m\u001b[1;33m\u001b[0m\u001b[1;33m\u001b[0m\u001b[0m\n\u001b[0;32m     53\u001b[0m \u001b[1;33m\u001b[0m\u001b[0m\n",
      "\u001b[1;32m~\\anaconda3\\lib\\site-packages\\pandas\\io\\parsers\\base_parser.py\u001b[0m in \u001b[0;36m_open_handles\u001b[1;34m(self, src, kwds)\u001b[0m\n\u001b[0;32m    220\u001b[0m         \u001b[0mLet\u001b[0m \u001b[0mthe\u001b[0m \u001b[0mreaders\u001b[0m \u001b[0mopen\u001b[0m \u001b[0mIOHandles\u001b[0m \u001b[0mafter\u001b[0m \u001b[0mthey\u001b[0m \u001b[0mare\u001b[0m \u001b[0mdone\u001b[0m \u001b[1;32mwith\u001b[0m \u001b[0mtheir\u001b[0m \u001b[0mpotential\u001b[0m \u001b[0mraises\u001b[0m\u001b[1;33m.\u001b[0m\u001b[1;33m\u001b[0m\u001b[1;33m\u001b[0m\u001b[0m\n\u001b[0;32m    221\u001b[0m         \"\"\"\n\u001b[1;32m--> 222\u001b[1;33m         self.handles = get_handle(\n\u001b[0m\u001b[0;32m    223\u001b[0m             \u001b[0msrc\u001b[0m\u001b[1;33m,\u001b[0m\u001b[1;33m\u001b[0m\u001b[1;33m\u001b[0m\u001b[0m\n\u001b[0;32m    224\u001b[0m             \u001b[1;34m\"r\"\u001b[0m\u001b[1;33m,\u001b[0m\u001b[1;33m\u001b[0m\u001b[1;33m\u001b[0m\u001b[0m\n",
      "\u001b[1;32m~\\anaconda3\\lib\\site-packages\\pandas\\io\\common.py\u001b[0m in \u001b[0;36mget_handle\u001b[1;34m(path_or_buf, mode, encoding, compression, memory_map, is_text, errors, storage_options)\u001b[0m\n\u001b[0;32m    700\u001b[0m         \u001b[1;32mif\u001b[0m \u001b[0mioargs\u001b[0m\u001b[1;33m.\u001b[0m\u001b[0mencoding\u001b[0m \u001b[1;32mand\u001b[0m \u001b[1;34m\"b\"\u001b[0m \u001b[1;32mnot\u001b[0m \u001b[1;32min\u001b[0m \u001b[0mioargs\u001b[0m\u001b[1;33m.\u001b[0m\u001b[0mmode\u001b[0m\u001b[1;33m:\u001b[0m\u001b[1;33m\u001b[0m\u001b[1;33m\u001b[0m\u001b[0m\n\u001b[0;32m    701\u001b[0m             \u001b[1;31m# Encoding\u001b[0m\u001b[1;33m\u001b[0m\u001b[1;33m\u001b[0m\u001b[0m\n\u001b[1;32m--> 702\u001b[1;33m             handle = open(\n\u001b[0m\u001b[0;32m    703\u001b[0m                 \u001b[0mhandle\u001b[0m\u001b[1;33m,\u001b[0m\u001b[1;33m\u001b[0m\u001b[1;33m\u001b[0m\u001b[0m\n\u001b[0;32m    704\u001b[0m                 \u001b[0mioargs\u001b[0m\u001b[1;33m.\u001b[0m\u001b[0mmode\u001b[0m\u001b[1;33m,\u001b[0m\u001b[1;33m\u001b[0m\u001b[1;33m\u001b[0m\u001b[0m\n",
      "\u001b[1;31mFileNotFoundError\u001b[0m: [Errno 2] No such file or directory: './Order_data/Cruiser/sales_2019-01-01_2022-08-15.csv'"
     ]
    }
   ],
   "source": [
    "#Testing on Cruiser Black - starting date should be 7/30/19\n",
    "\n",
    "orders_file = \"./Order_data/Cruiser/sales_2019-01-01_2022-08-15.csv\"\n",
    "cruiser_df = pd.read_csv(orders_file, keep_default_na=False) #daily order file\n",
    "\n",
    "#setting up the dates\n",
    "start_date = '2019-01-01'\n",
    "end_date = '2022-08-15'\n",
    "\n",
    "mask = (cruiser_df['day'] > start_date) & (cruiser_df['day'] <= end_date)\n",
    "cruiser_df=  cruiser_df.loc[mask]\n",
    "\n",
    "#Order number greater than 0.\n",
    "cruiser_df = cruiser_df[cruiser_df['net_quantity'] > 0]\n",
    "# cruiser_df = cruiser_df[cruiser_df['net_quantity'] < 5]\n",
    "\n",
    "cruiser_df['shipping_country'] == 'Canada'\n",
    "\n",
    "#North America Order\n",
    "cruiser_df = cruiser_df[(cruiser_df['shipping_country'] == 'United States') | (cruiser_df['shipping_country'] == 'Canada')| (cruiser_df['shipping_country'].isna())]\n",
    "\n",
    "cruiser_df = cruiser_df.groupby(by=['day']).sum().groupby(level=[0]).cumsum()\n",
    "cruiser_df.reset_index(inplace=True)\n",
    "cruiser_df.rename(columns={\"index\":\"day\"}, inplace =True)\n",
    "\n",
    "cruiser_df['y'] = cruiser_df['net_quantity']\n",
    "cruiser_df['ds'] = cruiser_df['day']\n",
    "\n",
    "plot_df = cruiser_df[['ds','y']]\n",
    "plot_df = plot_df.set_index(['ds'])\n",
    "\n",
    "ticker = 'cruiser black'\n",
    "print(plot_df)\n",
    "ax= plot_df['y'].plot(title = ticker, figsize=(24,16))\n",
    "ax.set_ylabel('order quantity')\n",
    "\n",
    "plt.show()"
   ]
  },
  {
   "cell_type": "code",
   "execution_count": null,
   "id": "bed97ee2",
   "metadata": {},
   "outputs": [],
   "source": [
    "##df_final contains input features, demand_df contains full dataset\n",
    "##Split data in train and test\n",
    "train_percentage=80\n",
    "train_final_index=round(len(cruiser_df)*(train_percentage/100))\n",
    "cruiser_df_train = cruiser_df[0:train_final_index]\n",
    "cruiser_df_test = cruiser_df[train_final_index:]\n",
    "# X_train = \n",
    "# y_train = \n",
    "y_test = cruiser_df[['y']][train_final_index:]\n",
    "\n",
    "print(cruiser_df_train)\n",
    "print(cruiser_df_test)"
   ]
  },
  {
   "cell_type": "code",
   "execution_count": null,
   "id": "42efd3fc",
   "metadata": {},
   "outputs": [],
   "source": [
    "##Application of Regression model and printing error metrics\n",
    "# lasso_reg = Lasso(alpha=0.2)\n",
    "# lasso_reg.fit(X_train, y_train)\n",
    "# joblib.dump(lasso_reg, \"lasso_reg.h5\")\n",
    "# y_pred = lasso_reg.predict(X_test)\n",
    "# print('RMSE :', np.sqrt(mean_squared_error(y_test, y_pred)))\n",
    "# print('R2 score - ', r2_score(y_test, y_pred))"
   ]
  },
  {
   "cell_type": "code",
   "execution_count": null,
   "id": "77ed0fa4",
   "metadata": {},
   "outputs": [],
   "source": [
    "# m = Prophet(weekly_seasonality=False)\n",
    "# m.add_seasonality(name='monthly', period=30.5, fourier_order=5)\n",
    "# forecast = m.fit(df).predict(future)\n",
    "# fig = m.plot_components(forecast)"
   ]
  },
  {
   "cell_type": "code",
   "execution_count": 2,
   "id": "5b39e663",
   "metadata": {},
   "outputs": [
    {
     "ename": "NameError",
     "evalue": "name 'Prophet' is not defined",
     "output_type": "error",
     "traceback": [
      "\u001b[1;31m---------------------------------------------------------------------------\u001b[0m",
      "\u001b[1;31mNameError\u001b[0m                                 Traceback (most recent call last)",
      "\u001b[1;32m~\\AppData\\Local\\Temp/ipykernel_39304/1302773833.py\u001b[0m in \u001b[0;36m<module>\u001b[1;34m\u001b[0m\n\u001b[1;32m----> 1\u001b[1;33m model = Prophet(changepoint_prior_scale= 0.1, seasonality_prior_scale=2., holidays_prior_scale= 0.01, yearly_seasonality=True, \n\u001b[0m\u001b[0;32m      2\u001b[0m         \u001b[0mweekly_seasonality\u001b[0m\u001b[1;33m=\u001b[0m\u001b[1;32mTrue\u001b[0m\u001b[1;33m,\u001b[0m\u001b[1;33m\u001b[0m\u001b[1;33m\u001b[0m\u001b[0m\n\u001b[0;32m      3\u001b[0m         \u001b[0mdaily_seasonality\u001b[0m\u001b[1;33m=\u001b[0m\u001b[1;32mFalse\u001b[0m\u001b[1;33m,\u001b[0m\u001b[1;33m\u001b[0m\u001b[1;33m\u001b[0m\u001b[0m\n\u001b[0;32m      4\u001b[0m         interval_width=0.95)\n\u001b[0;32m      5\u001b[0m model.add_seasonality(\n",
      "\u001b[1;31mNameError\u001b[0m: name 'Prophet' is not defined"
     ]
    }
   ],
   "source": [
    "model = Prophet(changepoint_prior_scale= 0.1, seasonality_prior_scale=2., holidays_prior_scale= 0.01, yearly_seasonality=True, \n",
    "        weekly_seasonality=True,\n",
    "        daily_seasonality=False, \n",
    "        interval_width=0.95)\n",
    "model.add_seasonality(\n",
    "        name='monthly', \n",
    "        period=30.5, \n",
    "        fourier_order=5\n",
    "    )\n",
    "\n",
    "model.fit(cruiser_df_train)\n",
    "prediction = model.predict(cruiser_df_test)\n",
    "\n",
    "# with open('fb_target_model.json', 'w') as fout:\n",
    "#     json.dump(model_to_json(model), fout)df_future\n",
    "    \n",
    "# Plot error metrics\n",
    "# print('Root Mean Squared Error:', np.sqrt(mean_squared_error(y_test, prediction['yhat'])))\n",
    "# print('R2 score - ', r2_score(y_test, prediction['yhat']))\n",
    "model.plot(prediction)"
   ]
  },
  {
   "cell_type": "code",
   "execution_count": 160,
   "id": "5f81273d",
   "metadata": {},
   "outputs": [
    {
     "name": "stdout",
     "output_type": "stream",
     "text": [
      "          ds\n",
      "0 2022-02-11\n",
      "1 2022-02-12\n",
      "2 2022-02-13\n",
      "3 2022-02-14\n",
      "4 2022-02-15\n",
      "5 2022-02-16\n",
      "          ds  Forecasted_Order\n",
      "0 2022-02-11          0.920555\n",
      "1 2022-02-12          0.236517\n",
      "2 2022-02-13          0.401851\n",
      "3 2022-02-14          1.165309\n",
      "4 2022-02-15          1.235307\n",
      "5 2022-02-16          1.087413\n"
     ]
    }
   ],
   "source": [
    "future = model.make_future_dataframe(periods=X_test.shape[0]+10, freq='D', include_history=False)\n",
    "future_values=future[16:22]\n",
    "future_values=future_values.reset_index()\n",
    "future_values.drop(columns='index', inplace=True)\n",
    "print(future_values)\n",
    "future_values['Forecasted_Order']=model.predict(future_values)['yhat']\n",
    "print(future_values)"
   ]
  },
  {
   "cell_type": "code",
   "execution_count": 153,
   "id": "be7c01f1",
   "metadata": {},
   "outputs": [
    {
     "ename": "SyntaxError",
     "evalue": "invalid syntax (Temp/ipykernel_17992/2430606561.py, line 15)",
     "output_type": "error",
     "traceback": [
      "\u001b[1;36m  File \u001b[1;32m\"C:\\Users\\hyunk\\AppData\\Local\\Temp/ipykernel_17992/2430606561.py\"\u001b[1;36m, line \u001b[1;32m15\u001b[0m\n\u001b[1;33m    json.dump(model_to_json(model), fout)df_future\u001b[0m\n\u001b[1;37m                                         ^\u001b[0m\n\u001b[1;31mSyntaxError\u001b[0m\u001b[1;31m:\u001b[0m invalid syntax\n"
     ]
    }
   ],
   "source": [
    "model = Prophet(yearly_seasonality=False, \n",
    "        weekly_seasonality=True,\n",
    "        daily_seasonality=False, \n",
    "        interval_width=0.95)\n",
    "model.add_seasonality(\n",
    "        name='monthly', \n",
    "        period=30.5, \n",
    "        fourier_order=5\n",
    "    )\n",
    "\n",
    "model.fit(X_train)\n",
    "prediction = model.predict(X_test)\n",
    "\n",
    "with open('fb_target_model.json', 'w') as fout:\n",
    "    json.dump(model_to_json(model), fout)df_future\n",
    "\n",
    "param_grid = {  \n",
    "    'changepoint_prior_scale': [0.001, 0.01, 0.1, 0.5],\n",
    "    'seasonality_prior_scale': [0.01, 0.1, 1.0, 10.0],\n",
    "    'holidays_prior_scale': [0.01, 0.1, 1.0, 10],\n",
    "    'seasonality_mode':  ['additive', 'multiplicative']\n",
    "}\n",
    "\n",
    "# Generate all combinations of parameters\n",
    "all_params = [dict(zip(param_grid.keys(), v)) for v in itertools.product(*param_grid.values())]\n",
    "rmses = [] # Store the RMSEs for each params here\n"
   ]
  },
  {
   "cell_type": "code",
   "execution_count": 154,
   "id": "42063511",
   "metadata": {},
   "outputs": [
    {
     "name": "stdout",
     "output_type": "stream",
     "text": [
      "Requirement already satisfied: dask in c:\\users\\hyunk\\anaconda3\\lib\\site-packages (2021.10.0)Note: you may need to restart the kernel to use updated packages.\n",
      "Requirement already satisfied: cloudpickle>=1.1.1 in c:\\users\\hyunk\\anaconda3\\lib\\site-packages (from dask) (2.0.0)\n",
      "Requirement already satisfied: fsspec>=0.6.0 in c:\\users\\hyunk\\anaconda3\\lib\\site-packages (from dask) (2021.10.1)\n",
      "Requirement already satisfied: packaging>=20.0 in c:\\users\\hyunk\\anaconda3\\lib\\site-packages (from dask) (21.0)\n",
      "Requirement already satisfied: partd>=0.3.10 in c:\\users\\hyunk\\anaconda3\\lib\\site-packages (from dask) (1.2.0)\n",
      "Requirement already satisfied: pyyaml in c:\\users\\hyunk\\anaconda3\\lib\\site-packages (from dask) (6.0)\n",
      "Requirement already satisfied: toolz>=0.8.2 in c:\\users\\hyunk\\anaconda3\\lib\\site-packages (from dask) (0.11.1)\n",
      "Requirement already satisfied: pyparsing>=2.0.2 in c:\\users\\hyunk\\anaconda3\\lib\\site-packages (from packaging>=20.0->dask) (3.0.4)\n",
      "Requirement already satisfied: locket in c:\\users\\hyunk\\anaconda3\\lib\\site-packages\\locket-0.2.1-py3.9.egg (from partd>=0.3.10->dask) (0.2.1)\n",
      "\n"
     ]
    }
   ],
   "source": [
    "pip install dask"
   ]
  },
  {
   "cell_type": "code",
   "execution_count": 155,
   "id": "1336976c",
   "metadata": {},
   "outputs": [
    {
     "name": "stderr",
     "output_type": "stream",
     "text": [
      "C:\\Users\\hyunk\\anaconda3\\lib\\site-packages\\distributed\\node.py:160: UserWarning: Port 8787 is already in use.\n",
      "Perhaps you already have a cluster running?\n",
      "Hosting the HTTP server on port 57829 instead\n",
      "  warnings.warn(\n"
     ]
    }
   ],
   "source": [
    "from prophet.diagnostics import cross_validation\n",
    "from prophet.diagnostics import performance_metrics\n",
    "from dask.distributed import Client\n",
    "\n",
    "client = Client()\n",
    "df_cv = cross_validation(m, initial='1000 days', period='28 days', horizon = '7 days', parallel=\"dask\")"
   ]
  },
  {
   "cell_type": "code",
   "execution_count": 156,
   "id": "c30c0856",
   "metadata": {},
   "outputs": [
    {
     "name": "stderr",
     "output_type": "stream",
     "text": [
      "00:08:39 - cmdstanpy - INFO - Chain [1] start processing\n",
      "00:08:39 - cmdstanpy - INFO - Chain [1] done processing\n"
     ]
    },
    {
     "data": {
      "application/vnd.jupyter.widget-view+json": {
       "model_id": "7ca55d5dbb044d45b07b71aedf3b7fa2",
       "version_major": 2,
       "version_minor": 0
      },
      "text/plain": [
       "  0%|          | 0/3 [00:00<?, ?it/s]"
      ]
     },
     "metadata": {},
     "output_type": "display_data"
    },
    {
     "name": "stderr",
     "output_type": "stream",
     "text": [
      "00:08:40 - cmdstanpy - INFO - Chain [1] start processing\n",
      "00:08:40 - cmdstanpy - INFO - Chain [1] done processing\n",
      "00:08:40 - cmdstanpy - ERROR - Chain [1] error: error during processing Unknown error\n",
      "Optimization terminated abnormally. Falling back to Newton.\n",
      "00:08:40 - cmdstanpy - INFO - Chain [1] start processing\n",
      "00:08:40 - cmdstanpy - INFO - Chain [1] done processing\n",
      "00:08:42 - cmdstanpy - INFO - Chain [1] start processing\n",
      "00:08:43 - cmdstanpy - INFO - Chain [1] done processing\n",
      "00:08:43 - cmdstanpy - ERROR - Chain [1] error: error during processing Unknown error\n",
      "Optimization terminated abnormally. Falling back to Newton.\n",
      "00:08:43 - cmdstanpy - INFO - Chain [1] start processing\n",
      "00:08:43 - cmdstanpy - INFO - Chain [1] done processing\n",
      "00:08:45 - cmdstanpy - INFO - Chain [1] start processing\n",
      "00:08:45 - cmdstanpy - INFO - Chain [1] done processing\n",
      "00:08:48 - cmdstanpy - INFO - Chain [1] start processing\n",
      "00:08:48 - cmdstanpy - INFO - Chain [1] done processing\n"
     ]
    },
    {
     "data": {
      "application/vnd.jupyter.widget-view+json": {
       "model_id": "73d91f9f58874dcbb8ee7d7152071882",
       "version_major": 2,
       "version_minor": 0
      },
      "text/plain": [
       "  0%|          | 0/3 [00:00<?, ?it/s]"
      ]
     },
     "metadata": {},
     "output_type": "display_data"
    },
    {
     "name": "stderr",
     "output_type": "stream",
     "text": [
      "00:08:48 - cmdstanpy - INFO - Chain [1] start processing\n",
      "00:08:48 - cmdstanpy - INFO - Chain [1] done processing\n",
      "00:08:48 - cmdstanpy - ERROR - Chain [1] error: error during processing Unknown error\n",
      "Optimization terminated abnormally. Falling back to Newton.\n",
      "00:08:48 - cmdstanpy - INFO - Chain [1] start processing\n",
      "00:08:48 - cmdstanpy - INFO - Chain [1] done processing\n",
      "00:08:50 - cmdstanpy - INFO - Chain [1] start processing\n",
      "00:08:50 - cmdstanpy - INFO - Chain [1] done processing\n",
      "00:08:50 - cmdstanpy - ERROR - Chain [1] error: error during processing Unknown error\n",
      "Optimization terminated abnormally. Falling back to Newton.\n",
      "00:08:50 - cmdstanpy - INFO - Chain [1] start processing\n",
      "00:08:51 - cmdstanpy - INFO - Chain [1] done processing\n",
      "00:08:53 - cmdstanpy - INFO - Chain [1] start processing\n",
      "00:08:53 - cmdstanpy - INFO - Chain [1] done processing\n",
      "00:08:55 - cmdstanpy - INFO - Chain [1] start processing\n",
      "00:08:55 - cmdstanpy - INFO - Chain [1] done processing\n"
     ]
    },
    {
     "data": {
      "application/vnd.jupyter.widget-view+json": {
       "model_id": "7fede219bc414e51a4d9e3a6e41111d3",
       "version_major": 2,
       "version_minor": 0
      },
      "text/plain": [
       "  0%|          | 0/3 [00:00<?, ?it/s]"
      ]
     },
     "metadata": {},
     "output_type": "display_data"
    },
    {
     "name": "stderr",
     "output_type": "stream",
     "text": [
      "00:08:55 - cmdstanpy - INFO - Chain [1] start processing\n",
      "00:08:55 - cmdstanpy - INFO - Chain [1] done processing\n",
      "00:08:55 - cmdstanpy - ERROR - Chain [1] error: error during processing Unknown error\n",
      "Optimization terminated abnormally. Falling back to Newton.\n",
      "00:08:55 - cmdstanpy - INFO - Chain [1] start processing\n",
      "00:08:56 - cmdstanpy - INFO - Chain [1] done processing\n",
      "00:08:58 - cmdstanpy - INFO - Chain [1] start processing\n",
      "00:08:58 - cmdstanpy - INFO - Chain [1] done processing\n",
      "00:08:58 - cmdstanpy - ERROR - Chain [1] error: error during processing Unknown error\n",
      "Optimization terminated abnormally. Falling back to Newton.\n",
      "00:08:58 - cmdstanpy - INFO - Chain [1] start processing\n",
      "00:08:59 - cmdstanpy - INFO - Chain [1] done processing\n",
      "00:09:00 - cmdstanpy - INFO - Chain [1] start processing\n",
      "00:09:01 - cmdstanpy - INFO - Chain [1] done processing\n",
      "00:09:23 - cmdstanpy - INFO - Chain [1] start processing\n",
      "00:09:23 - cmdstanpy - INFO - Chain [1] done processing\n"
     ]
    },
    {
     "data": {
      "application/vnd.jupyter.widget-view+json": {
       "model_id": "ef42996378784425862bbbc82a98821e",
       "version_major": 2,
       "version_minor": 0
      },
      "text/plain": [
       "  0%|          | 0/3 [00:00<?, ?it/s]"
      ]
     },
     "metadata": {},
     "output_type": "display_data"
    },
    {
     "name": "stderr",
     "output_type": "stream",
     "text": [
      "00:09:23 - cmdstanpy - INFO - Chain [1] start processing\n",
      "00:09:23 - cmdstanpy - INFO - Chain [1] done processing\n",
      "00:09:23 - cmdstanpy - ERROR - Chain [1] error: error during processing Unknown error\n",
      "Optimization terminated abnormally. Falling back to Newton.\n",
      "00:09:23 - cmdstanpy - INFO - Chain [1] start processing\n",
      "00:09:24 - cmdstanpy - INFO - Chain [1] done processing\n",
      "00:09:26 - cmdstanpy - INFO - Chain [1] start processing\n",
      "00:09:26 - cmdstanpy - INFO - Chain [1] done processing\n",
      "00:09:26 - cmdstanpy - ERROR - Chain [1] error: error during processing Unknown error\n",
      "Optimization terminated abnormally. Falling back to Newton.\n",
      "00:09:26 - cmdstanpy - INFO - Chain [1] start processing\n",
      "00:09:27 - cmdstanpy - INFO - Chain [1] done processing\n",
      "00:09:29 - cmdstanpy - INFO - Chain [1] start processing\n",
      "00:09:29 - cmdstanpy - INFO - Chain [1] done processing\n",
      "00:09:31 - cmdstanpy - INFO - Chain [1] start processing\n",
      "00:09:31 - cmdstanpy - INFO - Chain [1] done processing\n"
     ]
    },
    {
     "data": {
      "application/vnd.jupyter.widget-view+json": {
       "model_id": "1324fa03b736463b92ef7f79aacfc746",
       "version_major": 2,
       "version_minor": 0
      },
      "text/plain": [
       "  0%|          | 0/3 [00:00<?, ?it/s]"
      ]
     },
     "metadata": {},
     "output_type": "display_data"
    },
    {
     "name": "stderr",
     "output_type": "stream",
     "text": [
      "00:09:31 - cmdstanpy - INFO - Chain [1] start processing\n",
      "00:09:31 - cmdstanpy - INFO - Chain [1] done processing\n",
      "00:09:31 - cmdstanpy - ERROR - Chain [1] error: error during processing Unknown error\n",
      "Optimization terminated abnormally. Falling back to Newton.\n",
      "00:09:31 - cmdstanpy - INFO - Chain [1] start processing\n",
      "00:09:32 - cmdstanpy - INFO - Chain [1] done processing\n",
      "00:09:34 - cmdstanpy - INFO - Chain [1] start processing\n",
      "00:09:34 - cmdstanpy - INFO - Chain [1] done processing\n",
      "00:09:34 - cmdstanpy - ERROR - Chain [1] error: error during processing Unknown error\n",
      "Optimization terminated abnormally. Falling back to Newton.\n",
      "00:09:34 - cmdstanpy - INFO - Chain [1] start processing\n",
      "00:09:35 - cmdstanpy - INFO - Chain [1] done processing\n",
      "00:09:38 - cmdstanpy - INFO - Chain [1] start processing\n",
      "00:09:38 - cmdstanpy - INFO - Chain [1] done processing\n",
      "00:09:40 - cmdstanpy - INFO - Chain [1] start processing\n",
      "00:09:40 - cmdstanpy - INFO - Chain [1] done processing\n"
     ]
    },
    {
     "data": {
      "application/vnd.jupyter.widget-view+json": {
       "model_id": "23d3eb295dcb45a2b79d48c68703f136",
       "version_major": 2,
       "version_minor": 0
      },
      "text/plain": [
       "  0%|          | 0/3 [00:00<?, ?it/s]"
      ]
     },
     "metadata": {},
     "output_type": "display_data"
    },
    {
     "name": "stderr",
     "output_type": "stream",
     "text": [
      "00:09:40 - cmdstanpy - INFO - Chain [1] start processing\n",
      "00:09:40 - cmdstanpy - INFO - Chain [1] done processing\n",
      "00:09:40 - cmdstanpy - ERROR - Chain [1] error: error during processing Unknown error\n",
      "Optimization terminated abnormally. Falling back to Newton.\n",
      "00:09:40 - cmdstanpy - INFO - Chain [1] start processing\n",
      "00:09:41 - cmdstanpy - INFO - Chain [1] done processing\n",
      "00:09:43 - cmdstanpy - INFO - Chain [1] start processing\n",
      "00:09:43 - cmdstanpy - INFO - Chain [1] done processing\n",
      "00:09:43 - cmdstanpy - ERROR - Chain [1] error: error during processing Unknown error\n",
      "Optimization terminated abnormally. Falling back to Newton.\n",
      "00:09:43 - cmdstanpy - INFO - Chain [1] start processing\n",
      "00:09:44 - cmdstanpy - INFO - Chain [1] done processing\n",
      "00:09:46 - cmdstanpy - INFO - Chain [1] start processing\n",
      "00:09:46 - cmdstanpy - INFO - Chain [1] done processing\n",
      "00:09:48 - cmdstanpy - INFO - Chain [1] start processing\n",
      "00:09:48 - cmdstanpy - INFO - Chain [1] done processing\n"
     ]
    },
    {
     "data": {
      "application/vnd.jupyter.widget-view+json": {
       "model_id": "c5220eea73be44f4a52e017220292338",
       "version_major": 2,
       "version_minor": 0
      },
      "text/plain": [
       "  0%|          | 0/3 [00:00<?, ?it/s]"
      ]
     },
     "metadata": {},
     "output_type": "display_data"
    },
    {
     "name": "stderr",
     "output_type": "stream",
     "text": [
      "00:09:48 - cmdstanpy - INFO - Chain [1] start processing\n",
      "00:09:48 - cmdstanpy - INFO - Chain [1] done processing\n",
      "00:09:48 - cmdstanpy - ERROR - Chain [1] error: error during processing Unknown error\n",
      "Optimization terminated abnormally. Falling back to Newton.\n",
      "00:09:48 - cmdstanpy - INFO - Chain [1] start processing\n",
      "00:09:48 - cmdstanpy - INFO - Chain [1] done processing\n",
      "00:09:50 - cmdstanpy - INFO - Chain [1] start processing\n",
      "00:09:50 - cmdstanpy - INFO - Chain [1] done processing\n",
      "00:09:50 - cmdstanpy - ERROR - Chain [1] error: error during processing Unknown error\n",
      "Optimization terminated abnormally. Falling back to Newton.\n",
      "00:09:50 - cmdstanpy - INFO - Chain [1] start processing\n",
      "00:09:51 - cmdstanpy - INFO - Chain [1] done processing\n",
      "00:09:53 - cmdstanpy - INFO - Chain [1] start processing\n",
      "00:09:53 - cmdstanpy - INFO - Chain [1] done processing\n",
      "00:09:55 - cmdstanpy - INFO - Chain [1] start processing\n",
      "00:09:55 - cmdstanpy - INFO - Chain [1] done processing\n"
     ]
    },
    {
     "data": {
      "application/vnd.jupyter.widget-view+json": {
       "model_id": "0cf53733b4194872bbfa10ee3f2c2b77",
       "version_major": 2,
       "version_minor": 0
      },
      "text/plain": [
       "  0%|          | 0/3 [00:00<?, ?it/s]"
      ]
     },
     "metadata": {},
     "output_type": "display_data"
    },
    {
     "name": "stderr",
     "output_type": "stream",
     "text": [
      "00:09:55 - cmdstanpy - INFO - Chain [1] start processing\n",
      "00:09:55 - cmdstanpy - INFO - Chain [1] done processing\n",
      "00:09:55 - cmdstanpy - ERROR - Chain [1] error: error during processing Unknown error\n",
      "Optimization terminated abnormally. Falling back to Newton.\n",
      "00:09:55 - cmdstanpy - INFO - Chain [1] start processing\n",
      "00:09:56 - cmdstanpy - INFO - Chain [1] done processing\n",
      "00:09:58 - cmdstanpy - INFO - Chain [1] start processing\n",
      "00:09:58 - cmdstanpy - INFO - Chain [1] done processing\n",
      "00:09:58 - cmdstanpy - ERROR - Chain [1] error: error during processing Unknown error\n",
      "Optimization terminated abnormally. Falling back to Newton.\n",
      "00:09:58 - cmdstanpy - INFO - Chain [1] start processing\n",
      "00:09:59 - cmdstanpy - INFO - Chain [1] done processing\n",
      "00:10:01 - cmdstanpy - INFO - Chain [1] start processing\n",
      "00:10:01 - cmdstanpy - INFO - Chain [1] done processing\n",
      "00:10:03 - cmdstanpy - INFO - Chain [1] start processing\n",
      "00:10:03 - cmdstanpy - INFO - Chain [1] done processing\n"
     ]
    },
    {
     "data": {
      "application/vnd.jupyter.widget-view+json": {
       "model_id": "51d7daf6f29b4b8fbdbf3757ce4762d4",
       "version_major": 2,
       "version_minor": 0
      },
      "text/plain": [
       "  0%|          | 0/3 [00:00<?, ?it/s]"
      ]
     },
     "metadata": {},
     "output_type": "display_data"
    },
    {
     "name": "stderr",
     "output_type": "stream",
     "text": [
      "00:10:03 - cmdstanpy - INFO - Chain [1] start processing\n",
      "00:10:03 - cmdstanpy - INFO - Chain [1] done processing\n",
      "00:10:03 - cmdstanpy - ERROR - Chain [1] error: error during processing Unknown error\n",
      "Optimization terminated abnormally. Falling back to Newton.\n",
      "00:10:03 - cmdstanpy - INFO - Chain [1] start processing\n",
      "00:10:03 - cmdstanpy - INFO - Chain [1] done processing\n",
      "00:10:06 - cmdstanpy - INFO - Chain [1] start processing\n",
      "00:10:06 - cmdstanpy - INFO - Chain [1] done processing\n",
      "00:10:06 - cmdstanpy - ERROR - Chain [1] error: error during processing Unknown error\n",
      "Optimization terminated abnormally. Falling back to Newton.\n",
      "00:10:06 - cmdstanpy - INFO - Chain [1] start processing\n",
      "00:10:06 - cmdstanpy - INFO - Chain [1] done processing\n",
      "00:10:08 - cmdstanpy - INFO - Chain [1] start processing\n",
      "00:10:08 - cmdstanpy - INFO - Chain [1] done processing\n",
      "00:10:10 - cmdstanpy - INFO - Chain [1] start processing\n",
      "00:10:10 - cmdstanpy - INFO - Chain [1] done processing\n"
     ]
    },
    {
     "data": {
      "application/vnd.jupyter.widget-view+json": {
       "model_id": "26cededa2c974ce39d1ebc7ae22dce8b",
       "version_major": 2,
       "version_minor": 0
      },
      "text/plain": [
       "  0%|          | 0/3 [00:00<?, ?it/s]"
      ]
     },
     "metadata": {},
     "output_type": "display_data"
    },
    {
     "name": "stderr",
     "output_type": "stream",
     "text": [
      "00:10:10 - cmdstanpy - INFO - Chain [1] start processing\n",
      "00:10:11 - cmdstanpy - INFO - Chain [1] done processing\n",
      "00:10:11 - cmdstanpy - ERROR - Chain [1] error: error during processing Unknown error\n",
      "Optimization terminated abnormally. Falling back to Newton.\n",
      "00:10:11 - cmdstanpy - INFO - Chain [1] start processing\n",
      "00:10:14 - cmdstanpy - INFO - Chain [1] done processing\n",
      "00:10:15 - cmdstanpy - INFO - Chain [1] start processing\n",
      "00:10:16 - cmdstanpy - INFO - Chain [1] done processing\n",
      "00:10:16 - cmdstanpy - ERROR - Chain [1] error: error during processing Unknown error\n",
      "Optimization terminated abnormally. Falling back to Newton.\n",
      "00:10:16 - cmdstanpy - INFO - Chain [1] start processing\n",
      "00:10:16 - cmdstanpy - INFO - Chain [1] done processing\n",
      "00:10:18 - cmdstanpy - INFO - Chain [1] start processing\n",
      "00:10:18 - cmdstanpy - INFO - Chain [1] done processing\n",
      "00:10:20 - cmdstanpy - INFO - Chain [1] start processing\n",
      "00:10:20 - cmdstanpy - INFO - Chain [1] done processing\n"
     ]
    },
    {
     "data": {
      "application/vnd.jupyter.widget-view+json": {
       "model_id": "6f4bdc67dc7c4580889c9cdf1a5745ab",
       "version_major": 2,
       "version_minor": 0
      },
      "text/plain": [
       "  0%|          | 0/3 [00:00<?, ?it/s]"
      ]
     },
     "metadata": {},
     "output_type": "display_data"
    },
    {
     "name": "stderr",
     "output_type": "stream",
     "text": [
      "00:10:20 - cmdstanpy - INFO - Chain [1] start processing\n",
      "00:10:20 - cmdstanpy - INFO - Chain [1] done processing\n",
      "00:10:20 - cmdstanpy - ERROR - Chain [1] error: error during processing Unknown error\n",
      "Optimization terminated abnormally. Falling back to Newton.\n",
      "00:10:20 - cmdstanpy - INFO - Chain [1] start processing\n",
      "00:10:21 - cmdstanpy - INFO - Chain [1] done processing\n",
      "00:10:23 - cmdstanpy - INFO - Chain [1] start processing\n",
      "00:10:23 - cmdstanpy - INFO - Chain [1] done processing\n",
      "00:10:23 - cmdstanpy - ERROR - Chain [1] error: error during processing Unknown error\n",
      "Optimization terminated abnormally. Falling back to Newton.\n",
      "00:10:23 - cmdstanpy - INFO - Chain [1] start processing\n",
      "00:10:23 - cmdstanpy - INFO - Chain [1] done processing\n",
      "00:10:25 - cmdstanpy - INFO - Chain [1] start processing\n",
      "00:10:25 - cmdstanpy - INFO - Chain [1] done processing\n",
      "00:10:27 - cmdstanpy - INFO - Chain [1] start processing\n",
      "00:10:27 - cmdstanpy - INFO - Chain [1] done processing\n"
     ]
    },
    {
     "data": {
      "application/vnd.jupyter.widget-view+json": {
       "model_id": "8da6098a736344aaa6e80f6aad619e40",
       "version_major": 2,
       "version_minor": 0
      },
      "text/plain": [
       "  0%|          | 0/3 [00:00<?, ?it/s]"
      ]
     },
     "metadata": {},
     "output_type": "display_data"
    },
    {
     "name": "stderr",
     "output_type": "stream",
     "text": [
      "00:10:27 - cmdstanpy - INFO - Chain [1] start processing\n",
      "00:10:27 - cmdstanpy - INFO - Chain [1] done processing\n",
      "00:10:27 - cmdstanpy - ERROR - Chain [1] error: error during processing Unknown error\n",
      "Optimization terminated abnormally. Falling back to Newton.\n",
      "00:10:28 - cmdstanpy - INFO - Chain [1] start processing\n",
      "00:10:31 - cmdstanpy - INFO - Chain [1] done processing\n",
      "00:10:33 - cmdstanpy - INFO - Chain [1] start processing\n",
      "00:10:33 - cmdstanpy - INFO - Chain [1] done processing\n",
      "00:10:33 - cmdstanpy - ERROR - Chain [1] error: error during processing Unknown error\n",
      "Optimization terminated abnormally. Falling back to Newton.\n",
      "00:10:33 - cmdstanpy - INFO - Chain [1] start processing\n",
      "00:10:34 - cmdstanpy - INFO - Chain [1] done processing\n",
      "00:10:36 - cmdstanpy - INFO - Chain [1] start processing\n",
      "00:10:36 - cmdstanpy - INFO - Chain [1] done processing\n",
      "00:10:37 - cmdstanpy - INFO - Chain [1] start processing\n",
      "00:10:37 - cmdstanpy - INFO - Chain [1] done processing\n"
     ]
    },
    {
     "data": {
      "application/vnd.jupyter.widget-view+json": {
       "model_id": "f2fa1ba596a64d72b2116984e38683f1",
       "version_major": 2,
       "version_minor": 0
      },
      "text/plain": [
       "  0%|          | 0/3 [00:00<?, ?it/s]"
      ]
     },
     "metadata": {},
     "output_type": "display_data"
    },
    {
     "name": "stderr",
     "output_type": "stream",
     "text": [
      "00:10:38 - cmdstanpy - INFO - Chain [1] start processing\n",
      "00:10:38 - cmdstanpy - INFO - Chain [1] done processing\n",
      "00:10:38 - cmdstanpy - ERROR - Chain [1] error: error during processing Unknown error\n",
      "Optimization terminated abnormally. Falling back to Newton.\n",
      "00:10:38 - cmdstanpy - INFO - Chain [1] start processing\n",
      "00:10:38 - cmdstanpy - INFO - Chain [1] done processing\n",
      "00:10:40 - cmdstanpy - INFO - Chain [1] start processing\n",
      "00:10:40 - cmdstanpy - INFO - Chain [1] done processing\n",
      "00:10:40 - cmdstanpy - ERROR - Chain [1] error: error during processing Unknown error\n",
      "Optimization terminated abnormally. Falling back to Newton.\n",
      "00:10:40 - cmdstanpy - INFO - Chain [1] start processing\n",
      "00:10:41 - cmdstanpy - INFO - Chain [1] done processing\n",
      "00:10:43 - cmdstanpy - INFO - Chain [1] start processing\n",
      "00:10:43 - cmdstanpy - INFO - Chain [1] done processing\n",
      "00:10:45 - cmdstanpy - INFO - Chain [1] start processing\n",
      "00:10:45 - cmdstanpy - INFO - Chain [1] done processing\n"
     ]
    },
    {
     "data": {
      "application/vnd.jupyter.widget-view+json": {
       "model_id": "ab427959a81546e694711709d1a7c01b",
       "version_major": 2,
       "version_minor": 0
      },
      "text/plain": [
       "  0%|          | 0/3 [00:00<?, ?it/s]"
      ]
     },
     "metadata": {},
     "output_type": "display_data"
    },
    {
     "name": "stderr",
     "output_type": "stream",
     "text": [
      "00:10:45 - cmdstanpy - INFO - Chain [1] start processing\n",
      "00:10:45 - cmdstanpy - INFO - Chain [1] done processing\n",
      "00:10:45 - cmdstanpy - ERROR - Chain [1] error: error during processing Unknown error\n",
      "Optimization terminated abnormally. Falling back to Newton.\n",
      "00:10:45 - cmdstanpy - INFO - Chain [1] start processing\n",
      "00:10:48 - cmdstanpy - INFO - Chain [1] done processing\n",
      "00:10:50 - cmdstanpy - INFO - Chain [1] start processing\n",
      "00:10:50 - cmdstanpy - INFO - Chain [1] done processing\n",
      "00:10:50 - cmdstanpy - ERROR - Chain [1] error: error during processing Unknown error\n",
      "Optimization terminated abnormally. Falling back to Newton.\n",
      "00:10:50 - cmdstanpy - INFO - Chain [1] start processing\n",
      "00:10:51 - cmdstanpy - INFO - Chain [1] done processing\n",
      "00:10:53 - cmdstanpy - INFO - Chain [1] start processing\n",
      "00:10:53 - cmdstanpy - INFO - Chain [1] done processing\n",
      "00:10:55 - cmdstanpy - INFO - Chain [1] start processing\n",
      "00:10:55 - cmdstanpy - INFO - Chain [1] done processing\n"
     ]
    },
    {
     "data": {
      "application/vnd.jupyter.widget-view+json": {
       "model_id": "3ebd3ddd070f41db85232c72bce89fcf",
       "version_major": 2,
       "version_minor": 0
      },
      "text/plain": [
       "  0%|          | 0/3 [00:00<?, ?it/s]"
      ]
     },
     "metadata": {},
     "output_type": "display_data"
    },
    {
     "name": "stderr",
     "output_type": "stream",
     "text": [
      "00:10:55 - cmdstanpy - INFO - Chain [1] start processing\n",
      "00:10:56 - cmdstanpy - INFO - Chain [1] done processing\n",
      "00:10:56 - cmdstanpy - ERROR - Chain [1] error: error during processing Unknown error\n",
      "Optimization terminated abnormally. Falling back to Newton.\n",
      "00:10:56 - cmdstanpy - INFO - Chain [1] start processing\n",
      "00:10:56 - cmdstanpy - INFO - Chain [1] done processing\n",
      "00:10:58 - cmdstanpy - INFO - Chain [1] start processing\n",
      "00:10:58 - cmdstanpy - INFO - Chain [1] done processing\n",
      "00:10:58 - cmdstanpy - ERROR - Chain [1] error: error during processing Unknown error\n",
      "Optimization terminated abnormally. Falling back to Newton.\n",
      "00:10:58 - cmdstanpy - INFO - Chain [1] start processing\n",
      "00:10:59 - cmdstanpy - INFO - Chain [1] done processing\n",
      "00:11:05 - cmdstanpy - INFO - Chain [1] start processing\n",
      "00:11:05 - cmdstanpy - INFO - Chain [1] done processing\n",
      "00:11:07 - cmdstanpy - INFO - Chain [1] start processing\n",
      "00:11:07 - cmdstanpy - INFO - Chain [1] done processing\n"
     ]
    },
    {
     "data": {
      "application/vnd.jupyter.widget-view+json": {
       "model_id": "28caa7060e4442fd95d79271f9b2041d",
       "version_major": 2,
       "version_minor": 0
      },
      "text/plain": [
       "  0%|          | 0/3 [00:00<?, ?it/s]"
      ]
     },
     "metadata": {},
     "output_type": "display_data"
    },
    {
     "name": "stderr",
     "output_type": "stream",
     "text": [
      "00:11:07 - cmdstanpy - INFO - Chain [1] start processing\n",
      "00:11:07 - cmdstanpy - INFO - Chain [1] done processing\n",
      "00:11:07 - cmdstanpy - ERROR - Chain [1] error: error during processing Unknown error\n",
      "Optimization terminated abnormally. Falling back to Newton.\n",
      "00:11:07 - cmdstanpy - INFO - Chain [1] start processing\n",
      "00:11:10 - cmdstanpy - INFO - Chain [1] done processing\n",
      "00:11:12 - cmdstanpy - INFO - Chain [1] start processing\n",
      "00:11:12 - cmdstanpy - INFO - Chain [1] done processing\n",
      "00:11:12 - cmdstanpy - ERROR - Chain [1] error: error during processing Unknown error\n",
      "Optimization terminated abnormally. Falling back to Newton.\n",
      "00:11:12 - cmdstanpy - INFO - Chain [1] start processing\n",
      "00:11:13 - cmdstanpy - INFO - Chain [1] done processing\n",
      "00:11:15 - cmdstanpy - INFO - Chain [1] start processing\n",
      "00:11:15 - cmdstanpy - INFO - Chain [1] done processing\n",
      "00:11:17 - cmdstanpy - INFO - Chain [1] start processing\n",
      "00:11:17 - cmdstanpy - INFO - Chain [1] done processing\n"
     ]
    },
    {
     "data": {
      "application/vnd.jupyter.widget-view+json": {
       "model_id": "15dc90d1fc2444d9876fe35d3713989c",
       "version_major": 2,
       "version_minor": 0
      },
      "text/plain": [
       "  0%|          | 0/3 [00:00<?, ?it/s]"
      ]
     },
     "metadata": {},
     "output_type": "display_data"
    },
    {
     "name": "stderr",
     "output_type": "stream",
     "text": [
      "00:11:17 - cmdstanpy - INFO - Chain [1] start processing\n",
      "00:11:17 - cmdstanpy - INFO - Chain [1] done processing\n",
      "00:11:17 - cmdstanpy - ERROR - Chain [1] error: error during processing Unknown error\n",
      "Optimization terminated abnormally. Falling back to Newton.\n",
      "00:11:17 - cmdstanpy - INFO - Chain [1] start processing\n",
      "00:11:18 - cmdstanpy - INFO - Chain [1] done processing\n",
      "00:11:19 - cmdstanpy - INFO - Chain [1] start processing\n",
      "00:11:19 - cmdstanpy - INFO - Chain [1] done processing\n",
      "00:11:19 - cmdstanpy - ERROR - Chain [1] error: error during processing Unknown error\n",
      "Optimization terminated abnormally. Falling back to Newton.\n",
      "00:11:19 - cmdstanpy - INFO - Chain [1] start processing\n",
      "00:11:20 - cmdstanpy - INFO - Chain [1] done processing\n",
      "00:11:22 - cmdstanpy - INFO - Chain [1] start processing\n",
      "00:11:22 - cmdstanpy - INFO - Chain [1] done processing\n",
      "00:11:24 - cmdstanpy - INFO - Chain [1] start processing\n",
      "00:11:24 - cmdstanpy - INFO - Chain [1] done processing\n"
     ]
    },
    {
     "data": {
      "application/vnd.jupyter.widget-view+json": {
       "model_id": "aaf23f8e29564d20bbcd442a65779e1b",
       "version_major": 2,
       "version_minor": 0
      },
      "text/plain": [
       "  0%|          | 0/3 [00:00<?, ?it/s]"
      ]
     },
     "metadata": {},
     "output_type": "display_data"
    },
    {
     "name": "stderr",
     "output_type": "stream",
     "text": [
      "00:11:24 - cmdstanpy - INFO - Chain [1] start processing\n",
      "00:11:24 - cmdstanpy - INFO - Chain [1] done processing\n",
      "00:11:24 - cmdstanpy - ERROR - Chain [1] error: error during processing Unknown error\n",
      "Optimization terminated abnormally. Falling back to Newton.\n",
      "00:11:24 - cmdstanpy - INFO - Chain [1] start processing\n",
      "00:11:25 - cmdstanpy - INFO - Chain [1] done processing\n",
      "00:11:27 - cmdstanpy - INFO - Chain [1] start processing\n",
      "00:11:27 - cmdstanpy - INFO - Chain [1] done processing\n",
      "00:11:27 - cmdstanpy - ERROR - Chain [1] error: error during processing Unknown error\n",
      "Optimization terminated abnormally. Falling back to Newton.\n",
      "00:11:27 - cmdstanpy - INFO - Chain [1] start processing\n",
      "00:11:28 - cmdstanpy - INFO - Chain [1] done processing\n",
      "00:11:29 - cmdstanpy - INFO - Chain [1] start processing\n",
      "00:11:29 - cmdstanpy - INFO - Chain [1] done processing\n",
      "00:11:31 - cmdstanpy - INFO - Chain [1] start processing\n",
      "00:11:31 - cmdstanpy - INFO - Chain [1] done processing\n"
     ]
    },
    {
     "data": {
      "application/vnd.jupyter.widget-view+json": {
       "model_id": "5457e681dffa48f68ca85784f2cdd77d",
       "version_major": 2,
       "version_minor": 0
      },
      "text/plain": [
       "  0%|          | 0/3 [00:00<?, ?it/s]"
      ]
     },
     "metadata": {},
     "output_type": "display_data"
    },
    {
     "name": "stderr",
     "output_type": "stream",
     "text": [
      "00:11:32 - cmdstanpy - INFO - Chain [1] start processing\n",
      "00:11:32 - cmdstanpy - INFO - Chain [1] done processing\n",
      "00:11:32 - cmdstanpy - ERROR - Chain [1] error: error during processing Unknown error\n",
      "Optimization terminated abnormally. Falling back to Newton.\n",
      "00:11:32 - cmdstanpy - INFO - Chain [1] start processing\n",
      "00:11:33 - cmdstanpy - INFO - Chain [1] done processing\n",
      "00:11:34 - cmdstanpy - INFO - Chain [1] start processing\n",
      "00:11:34 - cmdstanpy - INFO - Chain [1] done processing\n",
      "00:11:34 - cmdstanpy - ERROR - Chain [1] error: error during processing Unknown error\n",
      "Optimization terminated abnormally. Falling back to Newton.\n",
      "00:11:34 - cmdstanpy - INFO - Chain [1] start processing\n",
      "00:11:35 - cmdstanpy - INFO - Chain [1] done processing\n",
      "00:11:37 - cmdstanpy - INFO - Chain [1] start processing\n",
      "00:11:37 - cmdstanpy - INFO - Chain [1] done processing\n",
      "00:11:39 - cmdstanpy - INFO - Chain [1] start processing\n",
      "00:11:39 - cmdstanpy - INFO - Chain [1] done processing\n"
     ]
    },
    {
     "data": {
      "application/vnd.jupyter.widget-view+json": {
       "model_id": "9423aab622cc42569e228464b95b50a8",
       "version_major": 2,
       "version_minor": 0
      },
      "text/plain": [
       "  0%|          | 0/3 [00:00<?, ?it/s]"
      ]
     },
     "metadata": {},
     "output_type": "display_data"
    },
    {
     "name": "stderr",
     "output_type": "stream",
     "text": [
      "00:11:39 - cmdstanpy - INFO - Chain [1] start processing\n",
      "00:11:39 - cmdstanpy - INFO - Chain [1] done processing\n",
      "00:11:39 - cmdstanpy - ERROR - Chain [1] error: error during processing Unknown error\n",
      "Optimization terminated abnormally. Falling back to Newton.\n",
      "00:11:39 - cmdstanpy - INFO - Chain [1] start processing\n",
      "00:11:40 - cmdstanpy - INFO - Chain [1] done processing\n",
      "00:11:41 - cmdstanpy - INFO - Chain [1] start processing\n",
      "00:11:41 - cmdstanpy - INFO - Chain [1] done processing\n",
      "00:11:41 - cmdstanpy - ERROR - Chain [1] error: error during processing Unknown error\n",
      "Optimization terminated abnormally. Falling back to Newton.\n",
      "00:11:41 - cmdstanpy - INFO - Chain [1] start processing\n",
      "00:11:42 - cmdstanpy - INFO - Chain [1] done processing\n",
      "00:11:44 - cmdstanpy - INFO - Chain [1] start processing\n",
      "00:11:44 - cmdstanpy - INFO - Chain [1] done processing\n",
      "00:11:46 - cmdstanpy - INFO - Chain [1] start processing\n",
      "00:11:46 - cmdstanpy - INFO - Chain [1] done processing\n"
     ]
    },
    {
     "data": {
      "application/vnd.jupyter.widget-view+json": {
       "model_id": "79ed553931c146e3a57eca71a76b38f0",
       "version_major": 2,
       "version_minor": 0
      },
      "text/plain": [
       "  0%|          | 0/3 [00:00<?, ?it/s]"
      ]
     },
     "metadata": {},
     "output_type": "display_data"
    },
    {
     "name": "stderr",
     "output_type": "stream",
     "text": [
      "00:11:46 - cmdstanpy - INFO - Chain [1] start processing\n",
      "00:11:46 - cmdstanpy - INFO - Chain [1] done processing\n",
      "00:11:46 - cmdstanpy - ERROR - Chain [1] error: error during processing Unknown error\n",
      "Optimization terminated abnormally. Falling back to Newton.\n",
      "00:11:46 - cmdstanpy - INFO - Chain [1] start processing\n",
      "00:11:47 - cmdstanpy - INFO - Chain [1] done processing\n",
      "00:11:49 - cmdstanpy - INFO - Chain [1] start processing\n",
      "00:11:49 - cmdstanpy - INFO - Chain [1] done processing\n",
      "00:11:49 - cmdstanpy - ERROR - Chain [1] error: error during processing Unknown error\n",
      "Optimization terminated abnormally. Falling back to Newton.\n",
      "00:11:49 - cmdstanpy - INFO - Chain [1] start processing\n",
      "00:11:50 - cmdstanpy - INFO - Chain [1] done processing\n",
      "00:11:51 - cmdstanpy - INFO - Chain [1] start processing\n",
      "00:11:51 - cmdstanpy - INFO - Chain [1] done processing\n",
      "00:11:54 - cmdstanpy - INFO - Chain [1] start processing\n",
      "00:11:54 - cmdstanpy - INFO - Chain [1] done processing\n"
     ]
    },
    {
     "data": {
      "application/vnd.jupyter.widget-view+json": {
       "model_id": "b39086301ddd419b918e51eb96159e65",
       "version_major": 2,
       "version_minor": 0
      },
      "text/plain": [
       "  0%|          | 0/3 [00:00<?, ?it/s]"
      ]
     },
     "metadata": {},
     "output_type": "display_data"
    },
    {
     "name": "stderr",
     "output_type": "stream",
     "text": [
      "00:11:54 - cmdstanpy - INFO - Chain [1] start processing\n",
      "00:11:54 - cmdstanpy - INFO - Chain [1] done processing\n",
      "00:11:54 - cmdstanpy - ERROR - Chain [1] error: error during processing Unknown error\n",
      "Optimization terminated abnormally. Falling back to Newton.\n",
      "00:11:54 - cmdstanpy - INFO - Chain [1] start processing\n",
      "00:11:54 - cmdstanpy - INFO - Chain [1] done processing\n",
      "00:11:56 - cmdstanpy - INFO - Chain [1] start processing\n",
      "00:11:56 - cmdstanpy - INFO - Chain [1] done processing\n",
      "00:11:56 - cmdstanpy - ERROR - Chain [1] error: error during processing Unknown error\n",
      "Optimization terminated abnormally. Falling back to Newton.\n",
      "00:11:56 - cmdstanpy - INFO - Chain [1] start processing\n",
      "00:11:57 - cmdstanpy - INFO - Chain [1] done processing\n",
      "00:11:59 - cmdstanpy - INFO - Chain [1] start processing\n",
      "00:11:59 - cmdstanpy - INFO - Chain [1] done processing\n",
      "00:12:01 - cmdstanpy - INFO - Chain [1] start processing\n",
      "00:12:01 - cmdstanpy - INFO - Chain [1] done processing\n"
     ]
    },
    {
     "data": {
      "application/vnd.jupyter.widget-view+json": {
       "model_id": "f5692a8d4c7340bcbf85c1d76557bbc3",
       "version_major": 2,
       "version_minor": 0
      },
      "text/plain": [
       "  0%|          | 0/3 [00:00<?, ?it/s]"
      ]
     },
     "metadata": {},
     "output_type": "display_data"
    },
    {
     "name": "stderr",
     "output_type": "stream",
     "text": [
      "00:12:01 - cmdstanpy - INFO - Chain [1] start processing\n",
      "00:12:01 - cmdstanpy - INFO - Chain [1] done processing\n",
      "00:12:01 - cmdstanpy - ERROR - Chain [1] error: error during processing Unknown error\n",
      "Optimization terminated abnormally. Falling back to Newton.\n",
      "00:12:01 - cmdstanpy - INFO - Chain [1] start processing\n",
      "00:12:02 - cmdstanpy - INFO - Chain [1] done processing\n",
      "00:12:04 - cmdstanpy - INFO - Chain [1] start processing\n",
      "00:12:04 - cmdstanpy - INFO - Chain [1] done processing\n",
      "00:12:04 - cmdstanpy - ERROR - Chain [1] error: error during processing Unknown error\n",
      "Optimization terminated abnormally. Falling back to Newton.\n",
      "00:12:04 - cmdstanpy - INFO - Chain [1] start processing\n",
      "00:12:05 - cmdstanpy - INFO - Chain [1] done processing\n",
      "00:12:06 - cmdstanpy - INFO - Chain [1] start processing\n",
      "00:12:07 - cmdstanpy - INFO - Chain [1] done processing\n",
      "00:12:09 - cmdstanpy - INFO - Chain [1] start processing\n",
      "00:12:09 - cmdstanpy - INFO - Chain [1] done processing\n"
     ]
    },
    {
     "data": {
      "application/vnd.jupyter.widget-view+json": {
       "model_id": "ab90202e496c402f8731cb78f862cc85",
       "version_major": 2,
       "version_minor": 0
      },
      "text/plain": [
       "  0%|          | 0/3 [00:00<?, ?it/s]"
      ]
     },
     "metadata": {},
     "output_type": "display_data"
    },
    {
     "name": "stderr",
     "output_type": "stream",
     "text": [
      "00:12:09 - cmdstanpy - INFO - Chain [1] start processing\n",
      "00:12:09 - cmdstanpy - INFO - Chain [1] done processing\n",
      "00:12:09 - cmdstanpy - ERROR - Chain [1] error: error during processing Unknown error\n",
      "Optimization terminated abnormally. Falling back to Newton.\n",
      "00:12:09 - cmdstanpy - INFO - Chain [1] start processing\n",
      "00:12:09 - cmdstanpy - INFO - Chain [1] done processing\n",
      "00:12:11 - cmdstanpy - INFO - Chain [1] start processing\n",
      "00:12:11 - cmdstanpy - INFO - Chain [1] done processing\n",
      "00:12:11 - cmdstanpy - ERROR - Chain [1] error: error during processing Unknown error\n",
      "Optimization terminated abnormally. Falling back to Newton.\n",
      "00:12:11 - cmdstanpy - INFO - Chain [1] start processing\n",
      "00:12:12 - cmdstanpy - INFO - Chain [1] done processing\n",
      "00:12:14 - cmdstanpy - INFO - Chain [1] start processing\n",
      "00:12:14 - cmdstanpy - INFO - Chain [1] done processing\n",
      "00:12:16 - cmdstanpy - INFO - Chain [1] start processing\n",
      "00:12:16 - cmdstanpy - INFO - Chain [1] done processing\n"
     ]
    },
    {
     "data": {
      "application/vnd.jupyter.widget-view+json": {
       "model_id": "c5bfd1ef9f4340ba880d9ee6617f5067",
       "version_major": 2,
       "version_minor": 0
      },
      "text/plain": [
       "  0%|          | 0/3 [00:00<?, ?it/s]"
      ]
     },
     "metadata": {},
     "output_type": "display_data"
    },
    {
     "name": "stderr",
     "output_type": "stream",
     "text": [
      "00:12:16 - cmdstanpy - INFO - Chain [1] start processing\n",
      "00:12:16 - cmdstanpy - INFO - Chain [1] done processing\n",
      "00:12:16 - cmdstanpy - ERROR - Chain [1] error: error during processing Unknown error\n",
      "Optimization terminated abnormally. Falling back to Newton.\n",
      "00:12:16 - cmdstanpy - INFO - Chain [1] start processing\n",
      "00:12:17 - cmdstanpy - INFO - Chain [1] done processing\n",
      "00:12:19 - cmdstanpy - INFO - Chain [1] start processing\n",
      "00:12:19 - cmdstanpy - INFO - Chain [1] done processing\n",
      "00:12:19 - cmdstanpy - ERROR - Chain [1] error: error during processing Unknown error\n",
      "Optimization terminated abnormally. Falling back to Newton.\n",
      "00:12:19 - cmdstanpy - INFO - Chain [1] start processing\n",
      "00:12:20 - cmdstanpy - INFO - Chain [1] done processing\n",
      "00:12:22 - cmdstanpy - INFO - Chain [1] start processing\n",
      "00:12:22 - cmdstanpy - INFO - Chain [1] done processing\n",
      "00:12:24 - cmdstanpy - INFO - Chain [1] start processing\n",
      "00:12:24 - cmdstanpy - INFO - Chain [1] done processing\n"
     ]
    },
    {
     "data": {
      "application/vnd.jupyter.widget-view+json": {
       "model_id": "93731a8e55c24b24a06c10ef06a1185c",
       "version_major": 2,
       "version_minor": 0
      },
      "text/plain": [
       "  0%|          | 0/3 [00:00<?, ?it/s]"
      ]
     },
     "metadata": {},
     "output_type": "display_data"
    },
    {
     "name": "stderr",
     "output_type": "stream",
     "text": [
      "00:12:24 - cmdstanpy - INFO - Chain [1] start processing\n",
      "00:12:24 - cmdstanpy - INFO - Chain [1] done processing\n",
      "00:12:24 - cmdstanpy - ERROR - Chain [1] error: error during processing Unknown error\n",
      "Optimization terminated abnormally. Falling back to Newton.\n",
      "00:12:24 - cmdstanpy - INFO - Chain [1] start processing\n",
      "00:12:25 - cmdstanpy - INFO - Chain [1] done processing\n",
      "00:12:27 - cmdstanpy - INFO - Chain [1] start processing\n",
      "00:12:27 - cmdstanpy - INFO - Chain [1] done processing\n",
      "00:12:27 - cmdstanpy - ERROR - Chain [1] error: error during processing Unknown error\n",
      "Optimization terminated abnormally. Falling back to Newton.\n",
      "00:12:27 - cmdstanpy - INFO - Chain [1] start processing\n",
      "00:12:28 - cmdstanpy - INFO - Chain [1] done processing\n",
      "00:12:30 - cmdstanpy - INFO - Chain [1] start processing\n",
      "00:12:30 - cmdstanpy - INFO - Chain [1] done processing\n",
      "00:12:32 - cmdstanpy - INFO - Chain [1] start processing\n",
      "00:12:32 - cmdstanpy - INFO - Chain [1] done processing\n"
     ]
    },
    {
     "data": {
      "application/vnd.jupyter.widget-view+json": {
       "model_id": "6bbba042258b4389b6fde9c86744d0bc",
       "version_major": 2,
       "version_minor": 0
      },
      "text/plain": [
       "  0%|          | 0/3 [00:00<?, ?it/s]"
      ]
     },
     "metadata": {},
     "output_type": "display_data"
    },
    {
     "name": "stderr",
     "output_type": "stream",
     "text": [
      "00:12:33 - cmdstanpy - INFO - Chain [1] start processing\n",
      "00:12:33 - cmdstanpy - INFO - Chain [1] done processing\n",
      "00:12:33 - cmdstanpy - ERROR - Chain [1] error: error during processing Unknown error\n",
      "Optimization terminated abnormally. Falling back to Newton.\n",
      "00:12:33 - cmdstanpy - INFO - Chain [1] start processing\n",
      "00:12:33 - cmdstanpy - INFO - Chain [1] done processing\n",
      "00:12:39 - cmdstanpy - INFO - Chain [1] start processing\n",
      "00:12:39 - cmdstanpy - INFO - Chain [1] done processing\n",
      "00:12:39 - cmdstanpy - ERROR - Chain [1] error: error during processing Unknown error\n",
      "Optimization terminated abnormally. Falling back to Newton.\n",
      "00:12:39 - cmdstanpy - INFO - Chain [1] start processing\n",
      "00:12:40 - cmdstanpy - INFO - Chain [1] done processing\n",
      "00:12:41 - cmdstanpy - INFO - Chain [1] start processing\n",
      "00:12:41 - cmdstanpy - INFO - Chain [1] done processing\n",
      "00:12:43 - cmdstanpy - INFO - Chain [1] start processing\n",
      "00:12:43 - cmdstanpy - INFO - Chain [1] done processing\n"
     ]
    },
    {
     "data": {
      "application/vnd.jupyter.widget-view+json": {
       "model_id": "c774f41faf52481e99bb998218a3acc3",
       "version_major": 2,
       "version_minor": 0
      },
      "text/plain": [
       "  0%|          | 0/3 [00:00<?, ?it/s]"
      ]
     },
     "metadata": {},
     "output_type": "display_data"
    },
    {
     "name": "stderr",
     "output_type": "stream",
     "text": [
      "00:12:43 - cmdstanpy - INFO - Chain [1] start processing\n",
      "00:12:43 - cmdstanpy - INFO - Chain [1] done processing\n",
      "00:12:43 - cmdstanpy - ERROR - Chain [1] error: error during processing Unknown error\n",
      "Optimization terminated abnormally. Falling back to Newton.\n",
      "00:12:43 - cmdstanpy - INFO - Chain [1] start processing\n",
      "00:12:44 - cmdstanpy - INFO - Chain [1] done processing\n",
      "00:12:46 - cmdstanpy - INFO - Chain [1] start processing\n",
      "00:12:46 - cmdstanpy - INFO - Chain [1] done processing\n",
      "00:12:46 - cmdstanpy - ERROR - Chain [1] error: error during processing Unknown error\n",
      "Optimization terminated abnormally. Falling back to Newton.\n",
      "00:12:46 - cmdstanpy - INFO - Chain [1] start processing\n",
      "00:12:47 - cmdstanpy - INFO - Chain [1] done processing\n",
      "00:12:49 - cmdstanpy - INFO - Chain [1] start processing\n",
      "00:12:49 - cmdstanpy - INFO - Chain [1] done processing\n",
      "00:12:51 - cmdstanpy - INFO - Chain [1] start processing\n",
      "00:12:51 - cmdstanpy - INFO - Chain [1] done processing\n"
     ]
    },
    {
     "data": {
      "application/vnd.jupyter.widget-view+json": {
       "model_id": "2fb19c5ac0634356aa6c2e5afb167957",
       "version_major": 2,
       "version_minor": 0
      },
      "text/plain": [
       "  0%|          | 0/3 [00:00<?, ?it/s]"
      ]
     },
     "metadata": {},
     "output_type": "display_data"
    },
    {
     "name": "stderr",
     "output_type": "stream",
     "text": [
      "00:12:51 - cmdstanpy - INFO - Chain [1] start processing\n",
      "00:12:51 - cmdstanpy - INFO - Chain [1] done processing\n",
      "00:12:51 - cmdstanpy - ERROR - Chain [1] error: error during processing Unknown error\n",
      "Optimization terminated abnormally. Falling back to Newton.\n",
      "00:12:51 - cmdstanpy - INFO - Chain [1] start processing\n",
      "00:12:52 - cmdstanpy - INFO - Chain [1] done processing\n",
      "00:12:54 - cmdstanpy - INFO - Chain [1] start processing\n",
      "00:12:54 - cmdstanpy - INFO - Chain [1] done processing\n",
      "00:12:54 - cmdstanpy - ERROR - Chain [1] error: error during processing Unknown error\n",
      "Optimization terminated abnormally. Falling back to Newton.\n",
      "00:12:54 - cmdstanpy - INFO - Chain [1] start processing\n",
      "00:12:55 - cmdstanpy - INFO - Chain [1] done processing\n",
      "00:12:57 - cmdstanpy - INFO - Chain [1] start processing\n",
      "00:12:57 - cmdstanpy - INFO - Chain [1] done processing\n",
      "00:12:59 - cmdstanpy - INFO - Chain [1] start processing\n",
      "00:12:59 - cmdstanpy - INFO - Chain [1] done processing\n"
     ]
    },
    {
     "data": {
      "application/vnd.jupyter.widget-view+json": {
       "model_id": "da133e72f0b04f89857bd779371b8802",
       "version_major": 2,
       "version_minor": 0
      },
      "text/plain": [
       "  0%|          | 0/3 [00:00<?, ?it/s]"
      ]
     },
     "metadata": {},
     "output_type": "display_data"
    },
    {
     "name": "stderr",
     "output_type": "stream",
     "text": [
      "00:12:59 - cmdstanpy - INFO - Chain [1] start processing\n",
      "00:12:59 - cmdstanpy - INFO - Chain [1] done processing\n",
      "00:12:59 - cmdstanpy - ERROR - Chain [1] error: error during processing Unknown error\n",
      "Optimization terminated abnormally. Falling back to Newton.\n",
      "00:12:59 - cmdstanpy - INFO - Chain [1] start processing\n",
      "00:12:59 - cmdstanpy - INFO - Chain [1] done processing\n",
      "00:13:01 - cmdstanpy - INFO - Chain [1] start processing\n",
      "00:13:01 - cmdstanpy - INFO - Chain [1] done processing\n",
      "00:13:01 - cmdstanpy - ERROR - Chain [1] error: error during processing Unknown error\n",
      "Optimization terminated abnormally. Falling back to Newton.\n",
      "00:13:01 - cmdstanpy - INFO - Chain [1] start processing\n",
      "00:13:03 - cmdstanpy - INFO - Chain [1] done processing\n",
      "00:13:04 - cmdstanpy - INFO - Chain [1] start processing\n",
      "00:13:04 - cmdstanpy - INFO - Chain [1] done processing\n",
      "00:13:06 - cmdstanpy - INFO - Chain [1] start processing\n",
      "00:13:06 - cmdstanpy - INFO - Chain [1] done processing\n"
     ]
    },
    {
     "data": {
      "application/vnd.jupyter.widget-view+json": {
       "model_id": "8cef673adcca47559e0a9cf80dc84ad0",
       "version_major": 2,
       "version_minor": 0
      },
      "text/plain": [
       "  0%|          | 0/3 [00:00<?, ?it/s]"
      ]
     },
     "metadata": {},
     "output_type": "display_data"
    },
    {
     "name": "stderr",
     "output_type": "stream",
     "text": [
      "00:13:06 - cmdstanpy - INFO - Chain [1] start processing\n",
      "00:13:06 - cmdstanpy - INFO - Chain [1] done processing\n",
      "00:13:06 - cmdstanpy - ERROR - Chain [1] error: error during processing Unknown error\n",
      "Optimization terminated abnormally. Falling back to Newton.\n",
      "00:13:06 - cmdstanpy - INFO - Chain [1] start processing\n",
      "00:13:07 - cmdstanpy - INFO - Chain [1] done processing\n",
      "00:13:09 - cmdstanpy - INFO - Chain [1] start processing\n",
      "00:13:09 - cmdstanpy - INFO - Chain [1] done processing\n",
      "00:13:09 - cmdstanpy - ERROR - Chain [1] error: error during processing Unknown error\n",
      "Optimization terminated abnormally. Falling back to Newton.\n",
      "00:13:09 - cmdstanpy - INFO - Chain [1] start processing\n",
      "00:13:10 - cmdstanpy - INFO - Chain [1] done processing\n",
      "00:13:12 - cmdstanpy - INFO - Chain [1] start processing\n",
      "00:13:12 - cmdstanpy - INFO - Chain [1] done processing\n",
      "00:13:14 - cmdstanpy - INFO - Chain [1] start processing\n",
      "00:13:14 - cmdstanpy - INFO - Chain [1] done processing\n"
     ]
    },
    {
     "data": {
      "application/vnd.jupyter.widget-view+json": {
       "model_id": "e1c7af1097434a2c926f32b76e10ad83",
       "version_major": 2,
       "version_minor": 0
      },
      "text/plain": [
       "  0%|          | 0/3 [00:00<?, ?it/s]"
      ]
     },
     "metadata": {},
     "output_type": "display_data"
    },
    {
     "name": "stderr",
     "output_type": "stream",
     "text": [
      "00:13:15 - cmdstanpy - INFO - Chain [1] start processing\n",
      "00:13:15 - cmdstanpy - INFO - Chain [1] done processing\n",
      "00:13:15 - cmdstanpy - ERROR - Chain [1] error: error during processing Unknown error\n",
      "Optimization terminated abnormally. Falling back to Newton.\n",
      "00:13:15 - cmdstanpy - INFO - Chain [1] start processing\n",
      "00:13:15 - cmdstanpy - INFO - Chain [1] done processing\n",
      "00:13:17 - cmdstanpy - INFO - Chain [1] start processing\n",
      "00:13:17 - cmdstanpy - INFO - Chain [1] done processing\n",
      "00:13:17 - cmdstanpy - ERROR - Chain [1] error: error during processing Unknown error\n",
      "Optimization terminated abnormally. Falling back to Newton.\n",
      "00:13:17 - cmdstanpy - INFO - Chain [1] start processing\n",
      "00:13:19 - cmdstanpy - INFO - Chain [1] done processing\n",
      "00:13:20 - cmdstanpy - INFO - Chain [1] start processing\n",
      "00:13:21 - cmdstanpy - INFO - Chain [1] done processing\n",
      "00:13:22 - cmdstanpy - INFO - Chain [1] start processing\n",
      "00:13:23 - cmdstanpy - INFO - Chain [1] done processing\n"
     ]
    },
    {
     "data": {
      "application/vnd.jupyter.widget-view+json": {
       "model_id": "a7c4920ee667462fae5087b6f431f99f",
       "version_major": 2,
       "version_minor": 0
      },
      "text/plain": [
       "  0%|          | 0/3 [00:00<?, ?it/s]"
      ]
     },
     "metadata": {},
     "output_type": "display_data"
    },
    {
     "name": "stderr",
     "output_type": "stream",
     "text": [
      "00:13:23 - cmdstanpy - INFO - Chain [1] start processing\n",
      "00:13:23 - cmdstanpy - INFO - Chain [1] done processing\n",
      "00:13:25 - cmdstanpy - INFO - Chain [1] start processing\n",
      "00:13:25 - cmdstanpy - INFO - Chain [1] done processing\n",
      "00:13:26 - cmdstanpy - INFO - Chain [1] start processing\n",
      "00:13:27 - cmdstanpy - INFO - Chain [1] done processing\n",
      "00:13:28 - cmdstanpy - INFO - Chain [1] start processing\n",
      "00:13:28 - cmdstanpy - INFO - Chain [1] done processing\n"
     ]
    },
    {
     "data": {
      "application/vnd.jupyter.widget-view+json": {
       "model_id": "0a1985b63c1c490aa137658497a34c96",
       "version_major": 2,
       "version_minor": 0
      },
      "text/plain": [
       "  0%|          | 0/3 [00:00<?, ?it/s]"
      ]
     },
     "metadata": {},
     "output_type": "display_data"
    },
    {
     "name": "stderr",
     "output_type": "stream",
     "text": [
      "00:13:29 - cmdstanpy - INFO - Chain [1] start processing\n",
      "00:13:29 - cmdstanpy - INFO - Chain [1] done processing\n",
      "00:13:31 - cmdstanpy - INFO - Chain [1] start processing\n",
      "00:13:31 - cmdstanpy - INFO - Chain [1] done processing\n",
      "00:13:33 - cmdstanpy - INFO - Chain [1] start processing\n",
      "00:13:33 - cmdstanpy - INFO - Chain [1] done processing\n",
      "00:13:35 - cmdstanpy - INFO - Chain [1] start processing\n",
      "00:13:35 - cmdstanpy - INFO - Chain [1] done processing\n"
     ]
    },
    {
     "data": {
      "application/vnd.jupyter.widget-view+json": {
       "model_id": "cfbafad35c644fb794e21a4d3f6b22c5",
       "version_major": 2,
       "version_minor": 0
      },
      "text/plain": [
       "  0%|          | 0/3 [00:00<?, ?it/s]"
      ]
     },
     "metadata": {},
     "output_type": "display_data"
    },
    {
     "name": "stderr",
     "output_type": "stream",
     "text": [
      "00:13:35 - cmdstanpy - INFO - Chain [1] start processing\n",
      "00:13:35 - cmdstanpy - INFO - Chain [1] done processing\n",
      "00:13:37 - cmdstanpy - INFO - Chain [1] start processing\n",
      "00:13:37 - cmdstanpy - INFO - Chain [1] done processing\n",
      "00:13:39 - cmdstanpy - INFO - Chain [1] start processing\n",
      "00:13:39 - cmdstanpy - INFO - Chain [1] done processing\n",
      "00:13:41 - cmdstanpy - INFO - Chain [1] start processing\n",
      "00:13:41 - cmdstanpy - INFO - Chain [1] done processing\n"
     ]
    },
    {
     "data": {
      "application/vnd.jupyter.widget-view+json": {
       "model_id": "3d7455559c074216b90018bc839d750b",
       "version_major": 2,
       "version_minor": 0
      },
      "text/plain": [
       "  0%|          | 0/3 [00:00<?, ?it/s]"
      ]
     },
     "metadata": {},
     "output_type": "display_data"
    },
    {
     "name": "stderr",
     "output_type": "stream",
     "text": [
      "00:13:41 - cmdstanpy - INFO - Chain [1] start processing\n",
      "00:13:42 - cmdstanpy - INFO - Chain [1] done processing\n",
      "00:13:43 - cmdstanpy - INFO - Chain [1] start processing\n",
      "00:13:43 - cmdstanpy - INFO - Chain [1] done processing\n",
      "00:13:45 - cmdstanpy - INFO - Chain [1] start processing\n",
      "00:13:45 - cmdstanpy - INFO - Chain [1] done processing\n",
      "00:13:47 - cmdstanpy - INFO - Chain [1] start processing\n",
      "00:13:47 - cmdstanpy - INFO - Chain [1] done processing\n"
     ]
    },
    {
     "data": {
      "application/vnd.jupyter.widget-view+json": {
       "model_id": "84088a0504274e159147aec9961e07d2",
       "version_major": 2,
       "version_minor": 0
      },
      "text/plain": [
       "  0%|          | 0/3 [00:00<?, ?it/s]"
      ]
     },
     "metadata": {},
     "output_type": "display_data"
    },
    {
     "name": "stderr",
     "output_type": "stream",
     "text": [
      "00:13:47 - cmdstanpy - INFO - Chain [1] start processing\n",
      "00:13:47 - cmdstanpy - INFO - Chain [1] done processing\n",
      "00:13:49 - cmdstanpy - INFO - Chain [1] start processing\n",
      "00:13:49 - cmdstanpy - INFO - Chain [1] done processing\n",
      "00:13:51 - cmdstanpy - INFO - Chain [1] start processing\n",
      "00:13:51 - cmdstanpy - INFO - Chain [1] done processing\n",
      "00:13:53 - cmdstanpy - INFO - Chain [1] start processing\n",
      "00:13:53 - cmdstanpy - INFO - Chain [1] done processing\n"
     ]
    },
    {
     "data": {
      "application/vnd.jupyter.widget-view+json": {
       "model_id": "471925645ff24241848dcf6fcd56f371",
       "version_major": 2,
       "version_minor": 0
      },
      "text/plain": [
       "  0%|          | 0/3 [00:00<?, ?it/s]"
      ]
     },
     "metadata": {},
     "output_type": "display_data"
    },
    {
     "name": "stderr",
     "output_type": "stream",
     "text": [
      "00:13:54 - cmdstanpy - INFO - Chain [1] start processing\n",
      "00:13:54 - cmdstanpy - INFO - Chain [1] done processing\n",
      "00:13:56 - cmdstanpy - INFO - Chain [1] start processing\n",
      "00:13:56 - cmdstanpy - INFO - Chain [1] done processing\n",
      "00:13:57 - cmdstanpy - INFO - Chain [1] start processing\n",
      "00:13:58 - cmdstanpy - INFO - Chain [1] done processing\n",
      "00:13:59 - cmdstanpy - INFO - Chain [1] start processing\n",
      "00:14:00 - cmdstanpy - INFO - Chain [1] done processing\n"
     ]
    },
    {
     "data": {
      "application/vnd.jupyter.widget-view+json": {
       "model_id": "1e036bf75f5d42f98c75d226ec9a260e",
       "version_major": 2,
       "version_minor": 0
      },
      "text/plain": [
       "  0%|          | 0/3 [00:00<?, ?it/s]"
      ]
     },
     "metadata": {},
     "output_type": "display_data"
    },
    {
     "name": "stderr",
     "output_type": "stream",
     "text": [
      "00:14:00 - cmdstanpy - INFO - Chain [1] start processing\n",
      "00:14:00 - cmdstanpy - INFO - Chain [1] done processing\n",
      "00:14:05 - cmdstanpy - INFO - Chain [1] start processing\n",
      "00:14:05 - cmdstanpy - INFO - Chain [1] done processing\n",
      "00:14:07 - cmdstanpy - INFO - Chain [1] start processing\n",
      "00:14:07 - cmdstanpy - INFO - Chain [1] done processing\n",
      "00:14:09 - cmdstanpy - INFO - Chain [1] start processing\n",
      "00:14:09 - cmdstanpy - INFO - Chain [1] done processing\n"
     ]
    },
    {
     "data": {
      "application/vnd.jupyter.widget-view+json": {
       "model_id": "906e8395eec5411a8c1ffca5ec091d88",
       "version_major": 2,
       "version_minor": 0
      },
      "text/plain": [
       "  0%|          | 0/3 [00:00<?, ?it/s]"
      ]
     },
     "metadata": {},
     "output_type": "display_data"
    },
    {
     "name": "stderr",
     "output_type": "stream",
     "text": [
      "00:14:10 - cmdstanpy - INFO - Chain [1] start processing\n",
      "00:14:10 - cmdstanpy - INFO - Chain [1] done processing\n",
      "00:14:11 - cmdstanpy - INFO - Chain [1] start processing\n",
      "00:14:12 - cmdstanpy - INFO - Chain [1] done processing\n",
      "00:14:13 - cmdstanpy - INFO - Chain [1] start processing\n",
      "00:14:13 - cmdstanpy - INFO - Chain [1] done processing\n",
      "00:14:15 - cmdstanpy - INFO - Chain [1] start processing\n",
      "00:14:15 - cmdstanpy - INFO - Chain [1] done processing\n"
     ]
    },
    {
     "data": {
      "application/vnd.jupyter.widget-view+json": {
       "model_id": "651925707cfb46139fb6a683a4eebb92",
       "version_major": 2,
       "version_minor": 0
      },
      "text/plain": [
       "  0%|          | 0/3 [00:00<?, ?it/s]"
      ]
     },
     "metadata": {},
     "output_type": "display_data"
    },
    {
     "name": "stderr",
     "output_type": "stream",
     "text": [
      "00:14:15 - cmdstanpy - INFO - Chain [1] start processing\n",
      "00:14:15 - cmdstanpy - INFO - Chain [1] done processing\n",
      "00:14:17 - cmdstanpy - INFO - Chain [1] start processing\n",
      "00:14:18 - cmdstanpy - INFO - Chain [1] done processing\n",
      "00:14:19 - cmdstanpy - INFO - Chain [1] start processing\n",
      "00:14:19 - cmdstanpy - INFO - Chain [1] done processing\n",
      "00:14:21 - cmdstanpy - INFO - Chain [1] start processing\n",
      "00:14:21 - cmdstanpy - INFO - Chain [1] done processing\n"
     ]
    },
    {
     "data": {
      "application/vnd.jupyter.widget-view+json": {
       "model_id": "7b9b29f3218c420595af364302a53fcb",
       "version_major": 2,
       "version_minor": 0
      },
      "text/plain": [
       "  0%|          | 0/3 [00:00<?, ?it/s]"
      ]
     },
     "metadata": {},
     "output_type": "display_data"
    },
    {
     "name": "stderr",
     "output_type": "stream",
     "text": [
      "00:14:22 - cmdstanpy - INFO - Chain [1] start processing\n",
      "00:14:22 - cmdstanpy - INFO - Chain [1] done processing\n",
      "00:14:23 - cmdstanpy - INFO - Chain [1] start processing\n",
      "00:14:23 - cmdstanpy - INFO - Chain [1] done processing\n",
      "00:14:25 - cmdstanpy - INFO - Chain [1] start processing\n",
      "00:14:25 - cmdstanpy - INFO - Chain [1] done processing\n",
      "00:14:27 - cmdstanpy - INFO - Chain [1] start processing\n",
      "00:14:27 - cmdstanpy - INFO - Chain [1] done processing\n"
     ]
    },
    {
     "data": {
      "application/vnd.jupyter.widget-view+json": {
       "model_id": "1cf1f744c2b54425bf1ee64387364537",
       "version_major": 2,
       "version_minor": 0
      },
      "text/plain": [
       "  0%|          | 0/3 [00:00<?, ?it/s]"
      ]
     },
     "metadata": {},
     "output_type": "display_data"
    },
    {
     "name": "stderr",
     "output_type": "stream",
     "text": [
      "00:14:27 - cmdstanpy - INFO - Chain [1] start processing\n",
      "00:14:27 - cmdstanpy - INFO - Chain [1] done processing\n",
      "00:14:29 - cmdstanpy - INFO - Chain [1] start processing\n",
      "00:14:29 - cmdstanpy - INFO - Chain [1] done processing\n",
      "00:14:31 - cmdstanpy - INFO - Chain [1] start processing\n",
      "00:14:31 - cmdstanpy - INFO - Chain [1] done processing\n",
      "00:14:33 - cmdstanpy - INFO - Chain [1] start processing\n",
      "00:14:33 - cmdstanpy - INFO - Chain [1] done processing\n"
     ]
    },
    {
     "data": {
      "application/vnd.jupyter.widget-view+json": {
       "model_id": "39f31794c5be46739bc0b5361f0fd5e2",
       "version_major": 2,
       "version_minor": 0
      },
      "text/plain": [
       "  0%|          | 0/3 [00:00<?, ?it/s]"
      ]
     },
     "metadata": {},
     "output_type": "display_data"
    },
    {
     "name": "stderr",
     "output_type": "stream",
     "text": [
      "00:14:33 - cmdstanpy - INFO - Chain [1] start processing\n",
      "00:14:34 - cmdstanpy - INFO - Chain [1] done processing\n",
      "00:14:35 - cmdstanpy - INFO - Chain [1] start processing\n",
      "00:14:35 - cmdstanpy - INFO - Chain [1] done processing\n",
      "00:14:37 - cmdstanpy - INFO - Chain [1] start processing\n",
      "00:14:37 - cmdstanpy - INFO - Chain [1] done processing\n",
      "00:14:39 - cmdstanpy - INFO - Chain [1] start processing\n",
      "00:14:39 - cmdstanpy - INFO - Chain [1] done processing\n"
     ]
    },
    {
     "data": {
      "application/vnd.jupyter.widget-view+json": {
       "model_id": "6f32be33d47f4c20b1a4a396319d8a93",
       "version_major": 2,
       "version_minor": 0
      },
      "text/plain": [
       "  0%|          | 0/3 [00:00<?, ?it/s]"
      ]
     },
     "metadata": {},
     "output_type": "display_data"
    },
    {
     "name": "stderr",
     "output_type": "stream",
     "text": [
      "00:14:39 - cmdstanpy - INFO - Chain [1] start processing\n",
      "00:14:39 - cmdstanpy - INFO - Chain [1] done processing\n",
      "00:14:41 - cmdstanpy - INFO - Chain [1] start processing\n",
      "00:14:41 - cmdstanpy - INFO - Chain [1] done processing\n",
      "00:14:43 - cmdstanpy - INFO - Chain [1] start processing\n",
      "00:14:43 - cmdstanpy - INFO - Chain [1] done processing\n",
      "00:14:45 - cmdstanpy - INFO - Chain [1] start processing\n",
      "00:14:45 - cmdstanpy - INFO - Chain [1] done processing\n"
     ]
    },
    {
     "data": {
      "application/vnd.jupyter.widget-view+json": {
       "model_id": "a441b1e18a2749c6b84914767d93d10a",
       "version_major": 2,
       "version_minor": 0
      },
      "text/plain": [
       "  0%|          | 0/3 [00:00<?, ?it/s]"
      ]
     },
     "metadata": {},
     "output_type": "display_data"
    },
    {
     "name": "stderr",
     "output_type": "stream",
     "text": [
      "00:14:45 - cmdstanpy - INFO - Chain [1] start processing\n",
      "00:14:45 - cmdstanpy - INFO - Chain [1] done processing\n",
      "00:14:47 - cmdstanpy - INFO - Chain [1] start processing\n",
      "00:14:47 - cmdstanpy - INFO - Chain [1] done processing\n",
      "00:14:49 - cmdstanpy - INFO - Chain [1] start processing\n",
      "00:14:49 - cmdstanpy - INFO - Chain [1] done processing\n",
      "00:14:51 - cmdstanpy - INFO - Chain [1] start processing\n",
      "00:14:51 - cmdstanpy - INFO - Chain [1] done processing\n"
     ]
    },
    {
     "data": {
      "application/vnd.jupyter.widget-view+json": {
       "model_id": "2b7cbb86375c4a4d943e2e4c5ee04fc3",
       "version_major": 2,
       "version_minor": 0
      },
      "text/plain": [
       "  0%|          | 0/3 [00:00<?, ?it/s]"
      ]
     },
     "metadata": {},
     "output_type": "display_data"
    },
    {
     "name": "stderr",
     "output_type": "stream",
     "text": [
      "00:14:51 - cmdstanpy - INFO - Chain [1] start processing\n",
      "00:14:51 - cmdstanpy - INFO - Chain [1] done processing\n",
      "00:14:53 - cmdstanpy - INFO - Chain [1] start processing\n",
      "00:14:53 - cmdstanpy - INFO - Chain [1] done processing\n",
      "00:14:56 - cmdstanpy - INFO - Chain [1] start processing\n",
      "00:14:56 - cmdstanpy - INFO - Chain [1] done processing\n",
      "00:14:58 - cmdstanpy - INFO - Chain [1] start processing\n",
      "00:14:58 - cmdstanpy - INFO - Chain [1] done processing\n"
     ]
    },
    {
     "data": {
      "application/vnd.jupyter.widget-view+json": {
       "model_id": "70aca9141528470fb6b478cc51f1880d",
       "version_major": 2,
       "version_minor": 0
      },
      "text/plain": [
       "  0%|          | 0/3 [00:00<?, ?it/s]"
      ]
     },
     "metadata": {},
     "output_type": "display_data"
    },
    {
     "name": "stderr",
     "output_type": "stream",
     "text": [
      "00:14:58 - cmdstanpy - INFO - Chain [1] start processing\n",
      "00:14:58 - cmdstanpy - INFO - Chain [1] done processing\n",
      "00:15:00 - cmdstanpy - INFO - Chain [1] start processing\n",
      "00:15:00 - cmdstanpy - INFO - Chain [1] done processing\n",
      "00:15:02 - cmdstanpy - INFO - Chain [1] start processing\n",
      "00:15:02 - cmdstanpy - INFO - Chain [1] done processing\n",
      "00:15:04 - cmdstanpy - INFO - Chain [1] start processing\n",
      "00:15:04 - cmdstanpy - INFO - Chain [1] done processing\n"
     ]
    },
    {
     "data": {
      "application/vnd.jupyter.widget-view+json": {
       "model_id": "4b1fa0cf2c7241c7975f4153a706215d",
       "version_major": 2,
       "version_minor": 0
      },
      "text/plain": [
       "  0%|          | 0/3 [00:00<?, ?it/s]"
      ]
     },
     "metadata": {},
     "output_type": "display_data"
    },
    {
     "name": "stderr",
     "output_type": "stream",
     "text": [
      "00:15:04 - cmdstanpy - INFO - Chain [1] start processing\n",
      "00:15:04 - cmdstanpy - INFO - Chain [1] done processing\n",
      "00:15:06 - cmdstanpy - INFO - Chain [1] start processing\n",
      "00:15:06 - cmdstanpy - INFO - Chain [1] done processing\n",
      "00:15:08 - cmdstanpy - INFO - Chain [1] start processing\n",
      "00:15:08 - cmdstanpy - INFO - Chain [1] done processing\n",
      "00:15:10 - cmdstanpy - INFO - Chain [1] start processing\n",
      "00:15:10 - cmdstanpy - INFO - Chain [1] done processing\n"
     ]
    },
    {
     "data": {
      "application/vnd.jupyter.widget-view+json": {
       "model_id": "5c323f6bc17745dbb599537da248becb",
       "version_major": 2,
       "version_minor": 0
      },
      "text/plain": [
       "  0%|          | 0/3 [00:00<?, ?it/s]"
      ]
     },
     "metadata": {},
     "output_type": "display_data"
    },
    {
     "name": "stderr",
     "output_type": "stream",
     "text": [
      "00:15:10 - cmdstanpy - INFO - Chain [1] start processing\n",
      "00:15:10 - cmdstanpy - INFO - Chain [1] done processing\n",
      "00:15:12 - cmdstanpy - INFO - Chain [1] start processing\n",
      "00:15:12 - cmdstanpy - INFO - Chain [1] done processing\n",
      "00:15:14 - cmdstanpy - INFO - Chain [1] start processing\n",
      "00:15:14 - cmdstanpy - INFO - Chain [1] done processing\n",
      "00:15:16 - cmdstanpy - INFO - Chain [1] start processing\n",
      "00:15:16 - cmdstanpy - INFO - Chain [1] done processing\n"
     ]
    },
    {
     "data": {
      "application/vnd.jupyter.widget-view+json": {
       "model_id": "3ff27577bf544083806b669e18a87dbc",
       "version_major": 2,
       "version_minor": 0
      },
      "text/plain": [
       "  0%|          | 0/3 [00:00<?, ?it/s]"
      ]
     },
     "metadata": {},
     "output_type": "display_data"
    },
    {
     "name": "stderr",
     "output_type": "stream",
     "text": [
      "00:15:16 - cmdstanpy - INFO - Chain [1] start processing\n",
      "00:15:16 - cmdstanpy - INFO - Chain [1] done processing\n",
      "00:15:18 - cmdstanpy - INFO - Chain [1] start processing\n",
      "00:15:18 - cmdstanpy - INFO - Chain [1] done processing\n",
      "00:15:23 - cmdstanpy - INFO - Chain [1] start processing\n",
      "00:15:23 - cmdstanpy - INFO - Chain [1] done processing\n",
      "00:15:25 - cmdstanpy - INFO - Chain [1] start processing\n",
      "00:15:25 - cmdstanpy - INFO - Chain [1] done processing\n"
     ]
    },
    {
     "data": {
      "application/vnd.jupyter.widget-view+json": {
       "model_id": "ee7a36c15b7b428681727dcb34234cf9",
       "version_major": 2,
       "version_minor": 0
      },
      "text/plain": [
       "  0%|          | 0/3 [00:00<?, ?it/s]"
      ]
     },
     "metadata": {},
     "output_type": "display_data"
    },
    {
     "name": "stderr",
     "output_type": "stream",
     "text": [
      "00:15:25 - cmdstanpy - INFO - Chain [1] start processing\n",
      "00:15:25 - cmdstanpy - INFO - Chain [1] done processing\n",
      "00:15:27 - cmdstanpy - INFO - Chain [1] start processing\n",
      "00:15:27 - cmdstanpy - INFO - Chain [1] done processing\n",
      "00:15:29 - cmdstanpy - INFO - Chain [1] start processing\n",
      "00:15:29 - cmdstanpy - INFO - Chain [1] done processing\n",
      "00:15:31 - cmdstanpy - INFO - Chain [1] start processing\n",
      "00:15:31 - cmdstanpy - INFO - Chain [1] done processing\n"
     ]
    },
    {
     "data": {
      "application/vnd.jupyter.widget-view+json": {
       "model_id": "1b06fd700eb943afaaeba21190bcbed0",
       "version_major": 2,
       "version_minor": 0
      },
      "text/plain": [
       "  0%|          | 0/3 [00:00<?, ?it/s]"
      ]
     },
     "metadata": {},
     "output_type": "display_data"
    },
    {
     "name": "stderr",
     "output_type": "stream",
     "text": [
      "00:15:31 - cmdstanpy - INFO - Chain [1] start processing\n",
      "00:15:31 - cmdstanpy - INFO - Chain [1] done processing\n",
      "00:15:33 - cmdstanpy - INFO - Chain [1] start processing\n",
      "00:15:33 - cmdstanpy - INFO - Chain [1] done processing\n",
      "00:15:35 - cmdstanpy - INFO - Chain [1] start processing\n",
      "00:15:35 - cmdstanpy - INFO - Chain [1] done processing\n",
      "00:15:37 - cmdstanpy - INFO - Chain [1] start processing\n",
      "00:15:37 - cmdstanpy - INFO - Chain [1] done processing\n"
     ]
    },
    {
     "data": {
      "application/vnd.jupyter.widget-view+json": {
       "model_id": "d0cb369dc6fa49d5affe062c13fa49b6",
       "version_major": 2,
       "version_minor": 0
      },
      "text/plain": [
       "  0%|          | 0/3 [00:00<?, ?it/s]"
      ]
     },
     "metadata": {},
     "output_type": "display_data"
    },
    {
     "name": "stderr",
     "output_type": "stream",
     "text": [
      "00:15:37 - cmdstanpy - INFO - Chain [1] start processing\n",
      "00:15:37 - cmdstanpy - INFO - Chain [1] done processing\n",
      "00:15:39 - cmdstanpy - INFO - Chain [1] start processing\n",
      "00:15:39 - cmdstanpy - INFO - Chain [1] done processing\n",
      "00:15:40 - cmdstanpy - INFO - Chain [1] start processing\n",
      "00:15:41 - cmdstanpy - INFO - Chain [1] done processing\n",
      "00:15:42 - cmdstanpy - INFO - Chain [1] start processing\n",
      "00:15:43 - cmdstanpy - INFO - Chain [1] done processing\n"
     ]
    },
    {
     "data": {
      "application/vnd.jupyter.widget-view+json": {
       "model_id": "5c832b75759e4c35bb952f7a2ced0471",
       "version_major": 2,
       "version_minor": 0
      },
      "text/plain": [
       "  0%|          | 0/3 [00:00<?, ?it/s]"
      ]
     },
     "metadata": {},
     "output_type": "display_data"
    },
    {
     "name": "stderr",
     "output_type": "stream",
     "text": [
      "00:15:43 - cmdstanpy - INFO - Chain [1] start processing\n",
      "00:15:43 - cmdstanpy - INFO - Chain [1] done processing\n",
      "00:15:44 - cmdstanpy - INFO - Chain [1] start processing\n",
      "00:15:44 - cmdstanpy - INFO - Chain [1] done processing\n",
      "00:15:46 - cmdstanpy - INFO - Chain [1] start processing\n",
      "00:15:46 - cmdstanpy - INFO - Chain [1] done processing\n",
      "00:15:48 - cmdstanpy - INFO - Chain [1] start processing\n",
      "00:15:48 - cmdstanpy - INFO - Chain [1] done processing\n"
     ]
    },
    {
     "data": {
      "application/vnd.jupyter.widget-view+json": {
       "model_id": "d19a50e6aed54c92b86604594f16c122",
       "version_major": 2,
       "version_minor": 0
      },
      "text/plain": [
       "  0%|          | 0/3 [00:00<?, ?it/s]"
      ]
     },
     "metadata": {},
     "output_type": "display_data"
    },
    {
     "name": "stderr",
     "output_type": "stream",
     "text": [
      "00:15:48 - cmdstanpy - INFO - Chain [1] start processing\n",
      "00:15:48 - cmdstanpy - INFO - Chain [1] done processing\n",
      "00:15:50 - cmdstanpy - INFO - Chain [1] start processing\n",
      "00:15:50 - cmdstanpy - INFO - Chain [1] done processing\n",
      "00:15:52 - cmdstanpy - INFO - Chain [1] start processing\n",
      "00:15:52 - cmdstanpy - INFO - Chain [1] done processing\n",
      "00:15:54 - cmdstanpy - INFO - Chain [1] start processing\n",
      "00:15:54 - cmdstanpy - INFO - Chain [1] done processing\n"
     ]
    },
    {
     "data": {
      "application/vnd.jupyter.widget-view+json": {
       "model_id": "1168de63e7a146999a8c25a6806f6140",
       "version_major": 2,
       "version_minor": 0
      },
      "text/plain": [
       "  0%|          | 0/3 [00:00<?, ?it/s]"
      ]
     },
     "metadata": {},
     "output_type": "display_data"
    },
    {
     "name": "stderr",
     "output_type": "stream",
     "text": [
      "00:15:54 - cmdstanpy - INFO - Chain [1] start processing\n",
      "00:15:54 - cmdstanpy - INFO - Chain [1] done processing\n",
      "00:15:56 - cmdstanpy - INFO - Chain [1] start processing\n",
      "00:15:56 - cmdstanpy - INFO - Chain [1] done processing\n",
      "00:15:58 - cmdstanpy - INFO - Chain [1] start processing\n",
      "00:15:58 - cmdstanpy - INFO - Chain [1] done processing\n",
      "00:16:00 - cmdstanpy - INFO - Chain [1] start processing\n",
      "00:16:00 - cmdstanpy - INFO - Chain [1] done processing\n"
     ]
    },
    {
     "data": {
      "application/vnd.jupyter.widget-view+json": {
       "model_id": "774851d3dc684ba58ffac7e036ed80ac",
       "version_major": 2,
       "version_minor": 0
      },
      "text/plain": [
       "  0%|          | 0/3 [00:00<?, ?it/s]"
      ]
     },
     "metadata": {},
     "output_type": "display_data"
    },
    {
     "name": "stderr",
     "output_type": "stream",
     "text": [
      "00:16:00 - cmdstanpy - INFO - Chain [1] start processing\n",
      "00:16:00 - cmdstanpy - INFO - Chain [1] done processing\n",
      "00:16:02 - cmdstanpy - INFO - Chain [1] start processing\n",
      "00:16:02 - cmdstanpy - INFO - Chain [1] done processing\n",
      "00:16:04 - cmdstanpy - INFO - Chain [1] start processing\n",
      "00:16:04 - cmdstanpy - INFO - Chain [1] done processing\n",
      "00:16:06 - cmdstanpy - INFO - Chain [1] start processing\n",
      "00:16:06 - cmdstanpy - INFO - Chain [1] done processing\n"
     ]
    },
    {
     "data": {
      "application/vnd.jupyter.widget-view+json": {
       "model_id": "263b6dbd6dea4164afb3bb6a40bf7fe9",
       "version_major": 2,
       "version_minor": 0
      },
      "text/plain": [
       "  0%|          | 0/3 [00:00<?, ?it/s]"
      ]
     },
     "metadata": {},
     "output_type": "display_data"
    },
    {
     "name": "stderr",
     "output_type": "stream",
     "text": [
      "00:16:07 - cmdstanpy - INFO - Chain [1] start processing\n",
      "00:16:07 - cmdstanpy - INFO - Chain [1] done processing\n",
      "00:16:09 - cmdstanpy - INFO - Chain [1] start processing\n",
      "00:16:09 - cmdstanpy - INFO - Chain [1] done processing\n",
      "00:16:11 - cmdstanpy - INFO - Chain [1] start processing\n",
      "00:16:11 - cmdstanpy - INFO - Chain [1] done processing\n",
      "00:16:13 - cmdstanpy - INFO - Chain [1] start processing\n",
      "00:16:13 - cmdstanpy - INFO - Chain [1] done processing\n"
     ]
    },
    {
     "data": {
      "application/vnd.jupyter.widget-view+json": {
       "model_id": "975e6ce0475445b7b76b0f8ce244defe",
       "version_major": 2,
       "version_minor": 0
      },
      "text/plain": [
       "  0%|          | 0/3 [00:00<?, ?it/s]"
      ]
     },
     "metadata": {},
     "output_type": "display_data"
    },
    {
     "name": "stderr",
     "output_type": "stream",
     "text": [
      "00:16:13 - cmdstanpy - INFO - Chain [1] start processing\n",
      "00:16:13 - cmdstanpy - INFO - Chain [1] done processing\n",
      "00:16:15 - cmdstanpy - INFO - Chain [1] start processing\n",
      "00:16:15 - cmdstanpy - INFO - Chain [1] done processing\n",
      "00:16:17 - cmdstanpy - INFO - Chain [1] start processing\n",
      "00:16:17 - cmdstanpy - INFO - Chain [1] done processing\n",
      "00:16:19 - cmdstanpy - INFO - Chain [1] start processing\n",
      "00:16:19 - cmdstanpy - INFO - Chain [1] done processing\n"
     ]
    },
    {
     "data": {
      "application/vnd.jupyter.widget-view+json": {
       "model_id": "24a9beef797549a9a7c1c652f42703bc",
       "version_major": 2,
       "version_minor": 0
      },
      "text/plain": [
       "  0%|          | 0/3 [00:00<?, ?it/s]"
      ]
     },
     "metadata": {},
     "output_type": "display_data"
    },
    {
     "name": "stderr",
     "output_type": "stream",
     "text": [
      "00:16:20 - cmdstanpy - INFO - Chain [1] start processing\n",
      "00:16:20 - cmdstanpy - INFO - Chain [1] done processing\n",
      "00:16:22 - cmdstanpy - INFO - Chain [1] start processing\n",
      "00:16:22 - cmdstanpy - INFO - Chain [1] done processing\n",
      "00:16:24 - cmdstanpy - INFO - Chain [1] start processing\n",
      "00:16:24 - cmdstanpy - INFO - Chain [1] done processing\n",
      "00:16:26 - cmdstanpy - INFO - Chain [1] start processing\n",
      "00:16:26 - cmdstanpy - INFO - Chain [1] done processing\n"
     ]
    },
    {
     "data": {
      "application/vnd.jupyter.widget-view+json": {
       "model_id": "d925778095f74ffa81251f9755bfdb51",
       "version_major": 2,
       "version_minor": 0
      },
      "text/plain": [
       "  0%|          | 0/3 [00:00<?, ?it/s]"
      ]
     },
     "metadata": {},
     "output_type": "display_data"
    },
    {
     "name": "stderr",
     "output_type": "stream",
     "text": [
      "00:16:26 - cmdstanpy - INFO - Chain [1] start processing\n",
      "00:16:26 - cmdstanpy - INFO - Chain [1] done processing\n",
      "00:16:28 - cmdstanpy - INFO - Chain [1] start processing\n",
      "00:16:28 - cmdstanpy - INFO - Chain [1] done processing\n",
      "00:16:29 - cmdstanpy - INFO - Chain [1] start processing\n",
      "00:16:30 - cmdstanpy - INFO - Chain [1] done processing\n",
      "00:16:31 - cmdstanpy - INFO - Chain [1] start processing\n",
      "00:16:31 - cmdstanpy - INFO - Chain [1] done processing\n"
     ]
    },
    {
     "data": {
      "application/vnd.jupyter.widget-view+json": {
       "model_id": "c2784fa1ff5f4e658ac5db4a2b0d8e3b",
       "version_major": 2,
       "version_minor": 0
      },
      "text/plain": [
       "  0%|          | 0/3 [00:00<?, ?it/s]"
      ]
     },
     "metadata": {},
     "output_type": "display_data"
    },
    {
     "name": "stderr",
     "output_type": "stream",
     "text": [
      "00:16:32 - cmdstanpy - INFO - Chain [1] start processing\n",
      "00:16:32 - cmdstanpy - INFO - Chain [1] done processing\n",
      "00:16:34 - cmdstanpy - INFO - Chain [1] start processing\n",
      "00:16:34 - cmdstanpy - INFO - Chain [1] done processing\n",
      "00:16:35 - cmdstanpy - INFO - Chain [1] start processing\n",
      "00:16:36 - cmdstanpy - INFO - Chain [1] done processing\n",
      "00:16:41 - cmdstanpy - INFO - Chain [1] start processing\n",
      "00:16:42 - cmdstanpy - INFO - Chain [1] done processing\n"
     ]
    },
    {
     "data": {
      "application/vnd.jupyter.widget-view+json": {
       "model_id": "9d8508c57de4435994665fa6840ac6d4",
       "version_major": 2,
       "version_minor": 0
      },
      "text/plain": [
       "  0%|          | 0/3 [00:00<?, ?it/s]"
      ]
     },
     "metadata": {},
     "output_type": "display_data"
    },
    {
     "name": "stderr",
     "output_type": "stream",
     "text": [
      "00:16:42 - cmdstanpy - INFO - Chain [1] start processing\n",
      "00:16:42 - cmdstanpy - INFO - Chain [1] done processing\n",
      "00:16:44 - cmdstanpy - INFO - Chain [1] start processing\n",
      "00:16:44 - cmdstanpy - INFO - Chain [1] done processing\n",
      "00:16:46 - cmdstanpy - INFO - Chain [1] start processing\n",
      "00:16:46 - cmdstanpy - INFO - Chain [1] done processing\n",
      "00:16:48 - cmdstanpy - INFO - Chain [1] start processing\n",
      "00:16:48 - cmdstanpy - INFO - Chain [1] done processing\n"
     ]
    },
    {
     "data": {
      "application/vnd.jupyter.widget-view+json": {
       "model_id": "fa9547017c1c4352a25340f76b19144c",
       "version_major": 2,
       "version_minor": 0
      },
      "text/plain": [
       "  0%|          | 0/3 [00:00<?, ?it/s]"
      ]
     },
     "metadata": {},
     "output_type": "display_data"
    },
    {
     "name": "stderr",
     "output_type": "stream",
     "text": [
      "00:16:48 - cmdstanpy - INFO - Chain [1] start processing\n",
      "00:16:48 - cmdstanpy - INFO - Chain [1] done processing\n",
      "00:16:50 - cmdstanpy - INFO - Chain [1] start processing\n",
      "00:16:50 - cmdstanpy - INFO - Chain [1] done processing\n",
      "00:16:52 - cmdstanpy - INFO - Chain [1] start processing\n",
      "00:16:52 - cmdstanpy - INFO - Chain [1] done processing\n",
      "00:16:54 - cmdstanpy - INFO - Chain [1] start processing\n",
      "00:16:54 - cmdstanpy - INFO - Chain [1] done processing\n"
     ]
    },
    {
     "data": {
      "application/vnd.jupyter.widget-view+json": {
       "model_id": "299fdfc1e8914656b372be1ff059a98f",
       "version_major": 2,
       "version_minor": 0
      },
      "text/plain": [
       "  0%|          | 0/3 [00:00<?, ?it/s]"
      ]
     },
     "metadata": {},
     "output_type": "display_data"
    },
    {
     "name": "stderr",
     "output_type": "stream",
     "text": [
      "00:16:54 - cmdstanpy - INFO - Chain [1] start processing\n",
      "00:16:54 - cmdstanpy - INFO - Chain [1] done processing\n",
      "00:16:56 - cmdstanpy - INFO - Chain [1] start processing\n",
      "00:16:56 - cmdstanpy - INFO - Chain [1] done processing\n",
      "00:16:57 - cmdstanpy - INFO - Chain [1] start processing\n",
      "00:16:58 - cmdstanpy - INFO - Chain [1] done processing\n",
      "00:16:59 - cmdstanpy - INFO - Chain [1] start processing\n",
      "00:16:59 - cmdstanpy - INFO - Chain [1] done processing\n"
     ]
    },
    {
     "data": {
      "application/vnd.jupyter.widget-view+json": {
       "model_id": "c38e0625c5e9409380b51f9d96df8646",
       "version_major": 2,
       "version_minor": 0
      },
      "text/plain": [
       "  0%|          | 0/3 [00:00<?, ?it/s]"
      ]
     },
     "metadata": {},
     "output_type": "display_data"
    },
    {
     "name": "stderr",
     "output_type": "stream",
     "text": [
      "00:17:00 - cmdstanpy - INFO - Chain [1] start processing\n",
      "00:17:00 - cmdstanpy - INFO - Chain [1] done processing\n",
      "00:17:01 - cmdstanpy - INFO - Chain [1] start processing\n",
      "00:17:02 - cmdstanpy - INFO - Chain [1] done processing\n",
      "00:17:03 - cmdstanpy - INFO - Chain [1] start processing\n",
      "00:17:03 - cmdstanpy - INFO - Chain [1] done processing\n",
      "00:17:05 - cmdstanpy - INFO - Chain [1] start processing\n",
      "00:17:05 - cmdstanpy - INFO - Chain [1] done processing\n"
     ]
    },
    {
     "data": {
      "application/vnd.jupyter.widget-view+json": {
       "model_id": "b294b15726834d70b99224f92b863a43",
       "version_major": 2,
       "version_minor": 0
      },
      "text/plain": [
       "  0%|          | 0/3 [00:00<?, ?it/s]"
      ]
     },
     "metadata": {},
     "output_type": "display_data"
    },
    {
     "name": "stderr",
     "output_type": "stream",
     "text": [
      "00:17:06 - cmdstanpy - INFO - Chain [1] start processing\n",
      "00:17:06 - cmdstanpy - INFO - Chain [1] done processing\n",
      "00:17:07 - cmdstanpy - INFO - Chain [1] start processing\n",
      "00:17:08 - cmdstanpy - INFO - Chain [1] done processing\n",
      "00:17:10 - cmdstanpy - INFO - Chain [1] start processing\n",
      "00:17:10 - cmdstanpy - INFO - Chain [1] done processing\n",
      "00:17:12 - cmdstanpy - INFO - Chain [1] start processing\n",
      "00:17:12 - cmdstanpy - INFO - Chain [1] done processing\n"
     ]
    },
    {
     "data": {
      "application/vnd.jupyter.widget-view+json": {
       "model_id": "967fda1d20a946108a90aaa50d46b703",
       "version_major": 2,
       "version_minor": 0
      },
      "text/plain": [
       "  0%|          | 0/3 [00:00<?, ?it/s]"
      ]
     },
     "metadata": {},
     "output_type": "display_data"
    },
    {
     "name": "stderr",
     "output_type": "stream",
     "text": [
      "00:17:12 - cmdstanpy - INFO - Chain [1] start processing\n",
      "00:17:12 - cmdstanpy - INFO - Chain [1] done processing\n",
      "00:17:14 - cmdstanpy - INFO - Chain [1] start processing\n",
      "00:17:14 - cmdstanpy - INFO - Chain [1] done processing\n",
      "00:17:16 - cmdstanpy - INFO - Chain [1] start processing\n",
      "00:17:16 - cmdstanpy - INFO - Chain [1] done processing\n",
      "00:17:18 - cmdstanpy - INFO - Chain [1] start processing\n",
      "00:17:18 - cmdstanpy - INFO - Chain [1] done processing\n"
     ]
    },
    {
     "data": {
      "application/vnd.jupyter.widget-view+json": {
       "model_id": "3dba850644cf4c41be0105e80d01a65b",
       "version_major": 2,
       "version_minor": 0
      },
      "text/plain": [
       "  0%|          | 0/3 [00:00<?, ?it/s]"
      ]
     },
     "metadata": {},
     "output_type": "display_data"
    },
    {
     "name": "stderr",
     "output_type": "stream",
     "text": [
      "00:17:19 - cmdstanpy - INFO - Chain [1] start processing\n",
      "00:17:19 - cmdstanpy - INFO - Chain [1] done processing\n",
      "00:17:20 - cmdstanpy - INFO - Chain [1] start processing\n",
      "00:17:21 - cmdstanpy - INFO - Chain [1] done processing\n",
      "00:17:23 - cmdstanpy - INFO - Chain [1] start processing\n",
      "00:17:23 - cmdstanpy - INFO - Chain [1] done processing\n",
      "00:17:25 - cmdstanpy - INFO - Chain [1] start processing\n",
      "00:17:25 - cmdstanpy - INFO - Chain [1] done processing\n"
     ]
    },
    {
     "data": {
      "application/vnd.jupyter.widget-view+json": {
       "model_id": "95de0c8a3f4f4a5395bca232c2aeff48",
       "version_major": 2,
       "version_minor": 0
      },
      "text/plain": [
       "  0%|          | 0/3 [00:00<?, ?it/s]"
      ]
     },
     "metadata": {},
     "output_type": "display_data"
    },
    {
     "name": "stderr",
     "output_type": "stream",
     "text": [
      "00:17:25 - cmdstanpy - INFO - Chain [1] start processing\n",
      "00:17:25 - cmdstanpy - INFO - Chain [1] done processing\n",
      "00:17:27 - cmdstanpy - INFO - Chain [1] start processing\n",
      "00:17:27 - cmdstanpy - INFO - Chain [1] done processing\n",
      "00:17:29 - cmdstanpy - INFO - Chain [1] start processing\n",
      "00:17:29 - cmdstanpy - INFO - Chain [1] done processing\n",
      "00:17:31 - cmdstanpy - INFO - Chain [1] start processing\n",
      "00:17:31 - cmdstanpy - INFO - Chain [1] done processing\n"
     ]
    },
    {
     "data": {
      "application/vnd.jupyter.widget-view+json": {
       "model_id": "470a374d718f4093b9643a2a6549bd53",
       "version_major": 2,
       "version_minor": 0
      },
      "text/plain": [
       "  0%|          | 0/3 [00:00<?, ?it/s]"
      ]
     },
     "metadata": {},
     "output_type": "display_data"
    },
    {
     "name": "stderr",
     "output_type": "stream",
     "text": [
      "00:17:31 - cmdstanpy - INFO - Chain [1] start processing\n",
      "00:17:32 - cmdstanpy - INFO - Chain [1] done processing\n",
      "00:17:34 - cmdstanpy - INFO - Chain [1] start processing\n",
      "00:17:34 - cmdstanpy - INFO - Chain [1] done processing\n",
      "00:17:35 - cmdstanpy - INFO - Chain [1] start processing\n",
      "00:17:36 - cmdstanpy - INFO - Chain [1] done processing\n",
      "00:17:38 - cmdstanpy - INFO - Chain [1] start processing\n",
      "00:17:38 - cmdstanpy - INFO - Chain [1] done processing\n"
     ]
    },
    {
     "data": {
      "application/vnd.jupyter.widget-view+json": {
       "model_id": "6b407f03b7334aab9859e5afe12bc025",
       "version_major": 2,
       "version_minor": 0
      },
      "text/plain": [
       "  0%|          | 0/3 [00:00<?, ?it/s]"
      ]
     },
     "metadata": {},
     "output_type": "display_data"
    },
    {
     "name": "stderr",
     "output_type": "stream",
     "text": [
      "00:17:38 - cmdstanpy - INFO - Chain [1] start processing\n",
      "00:17:38 - cmdstanpy - INFO - Chain [1] done processing\n",
      "00:17:40 - cmdstanpy - INFO - Chain [1] start processing\n",
      "00:17:40 - cmdstanpy - INFO - Chain [1] done processing\n",
      "00:17:42 - cmdstanpy - INFO - Chain [1] start processing\n",
      "00:17:42 - cmdstanpy - INFO - Chain [1] done processing\n",
      "00:17:44 - cmdstanpy - INFO - Chain [1] start processing\n",
      "00:17:44 - cmdstanpy - INFO - Chain [1] done processing\n"
     ]
    },
    {
     "data": {
      "application/vnd.jupyter.widget-view+json": {
       "model_id": "81bab3eb8c7744cfb1eddea3d1bbe5f8",
       "version_major": 2,
       "version_minor": 0
      },
      "text/plain": [
       "  0%|          | 0/3 [00:00<?, ?it/s]"
      ]
     },
     "metadata": {},
     "output_type": "display_data"
    },
    {
     "name": "stderr",
     "output_type": "stream",
     "text": [
      "00:17:44 - cmdstanpy - INFO - Chain [1] start processing\n",
      "00:17:44 - cmdstanpy - INFO - Chain [1] done processing\n",
      "00:17:46 - cmdstanpy - INFO - Chain [1] start processing\n",
      "00:17:46 - cmdstanpy - INFO - Chain [1] done processing\n",
      "00:17:48 - cmdstanpy - INFO - Chain [1] start processing\n",
      "00:17:48 - cmdstanpy - INFO - Chain [1] done processing\n",
      "00:17:50 - cmdstanpy - INFO - Chain [1] start processing\n",
      "00:17:50 - cmdstanpy - INFO - Chain [1] done processing\n"
     ]
    },
    {
     "data": {
      "application/vnd.jupyter.widget-view+json": {
       "model_id": "b6c629dc870b479ca6c9932e8eca30c6",
       "version_major": 2,
       "version_minor": 0
      },
      "text/plain": [
       "  0%|          | 0/3 [00:00<?, ?it/s]"
      ]
     },
     "metadata": {},
     "output_type": "display_data"
    },
    {
     "name": "stderr",
     "output_type": "stream",
     "text": [
      "00:17:50 - cmdstanpy - INFO - Chain [1] start processing\n",
      "00:17:50 - cmdstanpy - INFO - Chain [1] done processing\n",
      "00:17:52 - cmdstanpy - INFO - Chain [1] start processing\n",
      "00:17:52 - cmdstanpy - INFO - Chain [1] done processing\n",
      "00:17:54 - cmdstanpy - INFO - Chain [1] start processing\n",
      "00:17:54 - cmdstanpy - INFO - Chain [1] done processing\n",
      "00:18:00 - cmdstanpy - INFO - Chain [1] start processing\n",
      "00:18:00 - cmdstanpy - INFO - Chain [1] done processing\n"
     ]
    },
    {
     "data": {
      "application/vnd.jupyter.widget-view+json": {
       "model_id": "d49031a125f24282ac7e9ddc9fe83293",
       "version_major": 2,
       "version_minor": 0
      },
      "text/plain": [
       "  0%|          | 0/3 [00:00<?, ?it/s]"
      ]
     },
     "metadata": {},
     "output_type": "display_data"
    },
    {
     "name": "stderr",
     "output_type": "stream",
     "text": [
      "00:18:00 - cmdstanpy - INFO - Chain [1] start processing\n",
      "00:18:00 - cmdstanpy - INFO - Chain [1] done processing\n",
      "00:18:03 - cmdstanpy - INFO - Chain [1] start processing\n",
      "00:18:03 - cmdstanpy - INFO - Chain [1] done processing\n",
      "00:18:06 - cmdstanpy - INFO - Chain [1] start processing\n",
      "00:18:06 - cmdstanpy - INFO - Chain [1] done processing\n",
      "00:18:08 - cmdstanpy - INFO - Chain [1] start processing\n",
      "00:18:08 - cmdstanpy - INFO - Chain [1] done processing\n"
     ]
    },
    {
     "data": {
      "application/vnd.jupyter.widget-view+json": {
       "model_id": "9173b6263a0142c3b1542e1ef5bf5c33",
       "version_major": 2,
       "version_minor": 0
      },
      "text/plain": [
       "  0%|          | 0/3 [00:00<?, ?it/s]"
      ]
     },
     "metadata": {},
     "output_type": "display_data"
    },
    {
     "name": "stderr",
     "output_type": "stream",
     "text": [
      "00:18:08 - cmdstanpy - INFO - Chain [1] start processing\n",
      "00:18:08 - cmdstanpy - INFO - Chain [1] done processing\n",
      "00:18:10 - cmdstanpy - INFO - Chain [1] start processing\n",
      "00:18:10 - cmdstanpy - INFO - Chain [1] done processing\n",
      "00:18:12 - cmdstanpy - INFO - Chain [1] start processing\n",
      "00:18:12 - cmdstanpy - INFO - Chain [1] done processing\n",
      "00:18:15 - cmdstanpy - INFO - Chain [1] start processing\n",
      "00:18:15 - cmdstanpy - INFO - Chain [1] done processing\n"
     ]
    },
    {
     "data": {
      "application/vnd.jupyter.widget-view+json": {
       "model_id": "7d2f2a45ce32483686cdd479629d9431",
       "version_major": 2,
       "version_minor": 0
      },
      "text/plain": [
       "  0%|          | 0/3 [00:00<?, ?it/s]"
      ]
     },
     "metadata": {},
     "output_type": "display_data"
    },
    {
     "name": "stderr",
     "output_type": "stream",
     "text": [
      "00:18:15 - cmdstanpy - INFO - Chain [1] start processing\n",
      "00:18:15 - cmdstanpy - INFO - Chain [1] done processing\n",
      "00:18:17 - cmdstanpy - INFO - Chain [1] start processing\n",
      "00:18:17 - cmdstanpy - INFO - Chain [1] done processing\n",
      "00:18:19 - cmdstanpy - INFO - Chain [1] start processing\n",
      "00:18:19 - cmdstanpy - INFO - Chain [1] done processing\n",
      "00:18:21 - cmdstanpy - INFO - Chain [1] start processing\n",
      "00:18:21 - cmdstanpy - INFO - Chain [1] done processing\n"
     ]
    },
    {
     "data": {
      "application/vnd.jupyter.widget-view+json": {
       "model_id": "acdd6ada271d44ab8680d0b8a20f2e21",
       "version_major": 2,
       "version_minor": 0
      },
      "text/plain": [
       "  0%|          | 0/3 [00:00<?, ?it/s]"
      ]
     },
     "metadata": {},
     "output_type": "display_data"
    },
    {
     "name": "stderr",
     "output_type": "stream",
     "text": [
      "00:18:21 - cmdstanpy - INFO - Chain [1] start processing\n",
      "00:18:21 - cmdstanpy - INFO - Chain [1] done processing\n",
      "00:18:23 - cmdstanpy - INFO - Chain [1] start processing\n",
      "00:18:23 - cmdstanpy - INFO - Chain [1] done processing\n",
      "00:18:24 - cmdstanpy - INFO - Chain [1] start processing\n",
      "00:18:24 - cmdstanpy - INFO - Chain [1] done processing\n",
      "00:18:26 - cmdstanpy - INFO - Chain [1] start processing\n",
      "00:18:27 - cmdstanpy - INFO - Chain [1] done processing\n"
     ]
    },
    {
     "data": {
      "application/vnd.jupyter.widget-view+json": {
       "model_id": "d78bd10750af406e90937b4033bede1b",
       "version_major": 2,
       "version_minor": 0
      },
      "text/plain": [
       "  0%|          | 0/3 [00:00<?, ?it/s]"
      ]
     },
     "metadata": {},
     "output_type": "display_data"
    },
    {
     "name": "stderr",
     "output_type": "stream",
     "text": [
      "00:18:27 - cmdstanpy - INFO - Chain [1] start processing\n",
      "00:18:27 - cmdstanpy - INFO - Chain [1] done processing\n",
      "00:18:28 - cmdstanpy - INFO - Chain [1] start processing\n",
      "00:18:29 - cmdstanpy - INFO - Chain [1] done processing\n",
      "00:18:30 - cmdstanpy - INFO - Chain [1] start processing\n",
      "00:18:30 - cmdstanpy - INFO - Chain [1] done processing\n",
      "00:18:32 - cmdstanpy - INFO - Chain [1] start processing\n",
      "00:18:32 - cmdstanpy - INFO - Chain [1] done processing\n"
     ]
    },
    {
     "data": {
      "application/vnd.jupyter.widget-view+json": {
       "model_id": "62d1dface51a4bbb84a8abe501bf6a3f",
       "version_major": 2,
       "version_minor": 0
      },
      "text/plain": [
       "  0%|          | 0/3 [00:00<?, ?it/s]"
      ]
     },
     "metadata": {},
     "output_type": "display_data"
    },
    {
     "name": "stderr",
     "output_type": "stream",
     "text": [
      "00:18:32 - cmdstanpy - INFO - Chain [1] start processing\n",
      "00:18:32 - cmdstanpy - INFO - Chain [1] done processing\n",
      "00:18:34 - cmdstanpy - INFO - Chain [1] start processing\n",
      "00:18:34 - cmdstanpy - INFO - Chain [1] done processing\n",
      "00:18:36 - cmdstanpy - INFO - Chain [1] start processing\n",
      "00:18:36 - cmdstanpy - INFO - Chain [1] done processing\n",
      "00:18:38 - cmdstanpy - INFO - Chain [1] start processing\n",
      "00:18:38 - cmdstanpy - INFO - Chain [1] done processing\n"
     ]
    },
    {
     "data": {
      "application/vnd.jupyter.widget-view+json": {
       "model_id": "7aef862a46dd4a31a6a31937782fa175",
       "version_major": 2,
       "version_minor": 0
      },
      "text/plain": [
       "  0%|          | 0/3 [00:00<?, ?it/s]"
      ]
     },
     "metadata": {},
     "output_type": "display_data"
    },
    {
     "name": "stderr",
     "output_type": "stream",
     "text": [
      "00:18:38 - cmdstanpy - INFO - Chain [1] start processing\n",
      "00:18:38 - cmdstanpy - INFO - Chain [1] done processing\n",
      "00:18:40 - cmdstanpy - INFO - Chain [1] start processing\n",
      "00:18:40 - cmdstanpy - INFO - Chain [1] done processing\n",
      "00:18:42 - cmdstanpy - INFO - Chain [1] start processing\n",
      "00:18:42 - cmdstanpy - INFO - Chain [1] done processing\n",
      "00:18:44 - cmdstanpy - INFO - Chain [1] start processing\n",
      "00:18:44 - cmdstanpy - INFO - Chain [1] done processing\n"
     ]
    },
    {
     "data": {
      "application/vnd.jupyter.widget-view+json": {
       "model_id": "e53bd2552b174e41b07d88a0006d71a7",
       "version_major": 2,
       "version_minor": 0
      },
      "text/plain": [
       "  0%|          | 0/3 [00:00<?, ?it/s]"
      ]
     },
     "metadata": {},
     "output_type": "display_data"
    },
    {
     "name": "stderr",
     "output_type": "stream",
     "text": [
      "00:18:44 - cmdstanpy - INFO - Chain [1] start processing\n",
      "00:18:44 - cmdstanpy - INFO - Chain [1] done processing\n",
      "00:18:46 - cmdstanpy - INFO - Chain [1] start processing\n",
      "00:18:46 - cmdstanpy - INFO - Chain [1] done processing\n",
      "00:18:48 - cmdstanpy - INFO - Chain [1] start processing\n",
      "00:18:48 - cmdstanpy - INFO - Chain [1] done processing\n",
      "00:18:50 - cmdstanpy - INFO - Chain [1] start processing\n",
      "00:18:50 - cmdstanpy - INFO - Chain [1] done processing\n"
     ]
    },
    {
     "data": {
      "application/vnd.jupyter.widget-view+json": {
       "model_id": "3817bc7a0e7746878a863e686a9ba612",
       "version_major": 2,
       "version_minor": 0
      },
      "text/plain": [
       "  0%|          | 0/3 [00:00<?, ?it/s]"
      ]
     },
     "metadata": {},
     "output_type": "display_data"
    },
    {
     "name": "stderr",
     "output_type": "stream",
     "text": [
      "00:18:50 - cmdstanpy - INFO - Chain [1] start processing\n",
      "00:18:50 - cmdstanpy - INFO - Chain [1] done processing\n",
      "00:18:52 - cmdstanpy - INFO - Chain [1] start processing\n",
      "00:18:52 - cmdstanpy - INFO - Chain [1] done processing\n",
      "00:18:54 - cmdstanpy - INFO - Chain [1] start processing\n",
      "00:18:54 - cmdstanpy - INFO - Chain [1] done processing\n",
      "00:18:56 - cmdstanpy - INFO - Chain [1] start processing\n",
      "00:18:56 - cmdstanpy - INFO - Chain [1] done processing\n"
     ]
    },
    {
     "data": {
      "application/vnd.jupyter.widget-view+json": {
       "model_id": "29f439956bf34f9f820c3649688f2bc6",
       "version_major": 2,
       "version_minor": 0
      },
      "text/plain": [
       "  0%|          | 0/3 [00:00<?, ?it/s]"
      ]
     },
     "metadata": {},
     "output_type": "display_data"
    },
    {
     "name": "stderr",
     "output_type": "stream",
     "text": [
      "00:18:56 - cmdstanpy - INFO - Chain [1] start processing\n",
      "00:18:56 - cmdstanpy - INFO - Chain [1] done processing\n",
      "00:18:58 - cmdstanpy - INFO - Chain [1] start processing\n",
      "00:18:58 - cmdstanpy - INFO - Chain [1] done processing\n",
      "00:18:59 - cmdstanpy - INFO - Chain [1] start processing\n",
      "00:18:59 - cmdstanpy - INFO - Chain [1] done processing\n",
      "00:19:01 - cmdstanpy - INFO - Chain [1] start processing\n",
      "00:19:01 - cmdstanpy - INFO - Chain [1] done processing\n"
     ]
    },
    {
     "data": {
      "application/vnd.jupyter.widget-view+json": {
       "model_id": "3b6ae125964d44c99098e867a00fe383",
       "version_major": 2,
       "version_minor": 0
      },
      "text/plain": [
       "  0%|          | 0/3 [00:00<?, ?it/s]"
      ]
     },
     "metadata": {},
     "output_type": "display_data"
    },
    {
     "name": "stderr",
     "output_type": "stream",
     "text": [
      "00:19:01 - cmdstanpy - INFO - Chain [1] start processing\n",
      "00:19:02 - cmdstanpy - INFO - Chain [1] done processing\n",
      "00:19:03 - cmdstanpy - INFO - Chain [1] start processing\n",
      "00:19:03 - cmdstanpy - INFO - Chain [1] done processing\n",
      "00:19:05 - cmdstanpy - INFO - Chain [1] start processing\n",
      "00:19:05 - cmdstanpy - INFO - Chain [1] done processing\n",
      "00:19:07 - cmdstanpy - INFO - Chain [1] start processing\n",
      "00:19:07 - cmdstanpy - INFO - Chain [1] done processing\n"
     ]
    },
    {
     "data": {
      "application/vnd.jupyter.widget-view+json": {
       "model_id": "2c229cfd925648ebbba4428520c241a8",
       "version_major": 2,
       "version_minor": 0
      },
      "text/plain": [
       "  0%|          | 0/3 [00:00<?, ?it/s]"
      ]
     },
     "metadata": {},
     "output_type": "display_data"
    },
    {
     "name": "stderr",
     "output_type": "stream",
     "text": [
      "00:19:07 - cmdstanpy - INFO - Chain [1] start processing\n",
      "00:19:07 - cmdstanpy - INFO - Chain [1] done processing\n",
      "00:19:09 - cmdstanpy - INFO - Chain [1] start processing\n",
      "00:19:09 - cmdstanpy - INFO - Chain [1] done processing\n",
      "00:19:15 - cmdstanpy - INFO - Chain [1] start processing\n",
      "00:19:15 - cmdstanpy - INFO - Chain [1] done processing\n",
      "00:19:17 - cmdstanpy - INFO - Chain [1] start processing\n",
      "00:19:17 - cmdstanpy - INFO - Chain [1] done processing\n"
     ]
    },
    {
     "data": {
      "application/vnd.jupyter.widget-view+json": {
       "model_id": "9b2b1f630d03496ca9475c9b33b0386c",
       "version_major": 2,
       "version_minor": 0
      },
      "text/plain": [
       "  0%|          | 0/3 [00:00<?, ?it/s]"
      ]
     },
     "metadata": {},
     "output_type": "display_data"
    },
    {
     "name": "stderr",
     "output_type": "stream",
     "text": [
      "00:19:17 - cmdstanpy - INFO - Chain [1] start processing\n",
      "00:19:17 - cmdstanpy - INFO - Chain [1] done processing\n",
      "00:19:19 - cmdstanpy - INFO - Chain [1] start processing\n",
      "00:19:19 - cmdstanpy - INFO - Chain [1] done processing\n",
      "00:19:21 - cmdstanpy - INFO - Chain [1] start processing\n",
      "00:19:21 - cmdstanpy - INFO - Chain [1] done processing\n",
      "00:19:24 - cmdstanpy - INFO - Chain [1] start processing\n",
      "00:19:24 - cmdstanpy - INFO - Chain [1] done processing\n"
     ]
    },
    {
     "data": {
      "application/vnd.jupyter.widget-view+json": {
       "model_id": "6ea8cbd7276c4a91a729170fa9de6793",
       "version_major": 2,
       "version_minor": 0
      },
      "text/plain": [
       "  0%|          | 0/3 [00:00<?, ?it/s]"
      ]
     },
     "metadata": {},
     "output_type": "display_data"
    },
    {
     "name": "stderr",
     "output_type": "stream",
     "text": [
      "00:19:24 - cmdstanpy - INFO - Chain [1] start processing\n",
      "00:19:24 - cmdstanpy - INFO - Chain [1] done processing\n",
      "00:19:26 - cmdstanpy - INFO - Chain [1] start processing\n",
      "00:19:26 - cmdstanpy - INFO - Chain [1] done processing\n",
      "00:19:28 - cmdstanpy - INFO - Chain [1] start processing\n",
      "00:19:28 - cmdstanpy - INFO - Chain [1] done processing\n",
      "00:19:30 - cmdstanpy - INFO - Chain [1] start processing\n",
      "00:19:30 - cmdstanpy - INFO - Chain [1] done processing\n"
     ]
    },
    {
     "data": {
      "application/vnd.jupyter.widget-view+json": {
       "model_id": "55d499a1b9114bf9abd4b6df2c298fe6",
       "version_major": 2,
       "version_minor": 0
      },
      "text/plain": [
       "  0%|          | 0/3 [00:00<?, ?it/s]"
      ]
     },
     "metadata": {},
     "output_type": "display_data"
    },
    {
     "name": "stderr",
     "output_type": "stream",
     "text": [
      "00:19:30 - cmdstanpy - INFO - Chain [1] start processing\n",
      "00:19:30 - cmdstanpy - INFO - Chain [1] done processing\n",
      "00:19:32 - cmdstanpy - INFO - Chain [1] start processing\n",
      "00:19:32 - cmdstanpy - INFO - Chain [1] done processing\n",
      "00:19:34 - cmdstanpy - INFO - Chain [1] start processing\n",
      "00:19:34 - cmdstanpy - INFO - Chain [1] done processing\n",
      "00:19:36 - cmdstanpy - INFO - Chain [1] start processing\n",
      "00:19:37 - cmdstanpy - INFO - Chain [1] done processing\n"
     ]
    },
    {
     "data": {
      "application/vnd.jupyter.widget-view+json": {
       "model_id": "6d36b8d7f07b445c9aa67216b314f43f",
       "version_major": 2,
       "version_minor": 0
      },
      "text/plain": [
       "  0%|          | 0/3 [00:00<?, ?it/s]"
      ]
     },
     "metadata": {},
     "output_type": "display_data"
    },
    {
     "name": "stderr",
     "output_type": "stream",
     "text": [
      "00:19:37 - cmdstanpy - INFO - Chain [1] start processing\n",
      "00:19:37 - cmdstanpy - INFO - Chain [1] done processing\n",
      "00:19:39 - cmdstanpy - INFO - Chain [1] start processing\n",
      "00:19:39 - cmdstanpy - INFO - Chain [1] done processing\n",
      "00:19:41 - cmdstanpy - INFO - Chain [1] start processing\n",
      "00:19:41 - cmdstanpy - INFO - Chain [1] done processing\n",
      "00:19:43 - cmdstanpy - INFO - Chain [1] start processing\n",
      "00:19:43 - cmdstanpy - INFO - Chain [1] done processing\n"
     ]
    },
    {
     "data": {
      "application/vnd.jupyter.widget-view+json": {
       "model_id": "2587dadb041d493f881baf8c85df5a05",
       "version_major": 2,
       "version_minor": 0
      },
      "text/plain": [
       "  0%|          | 0/3 [00:00<?, ?it/s]"
      ]
     },
     "metadata": {},
     "output_type": "display_data"
    },
    {
     "name": "stderr",
     "output_type": "stream",
     "text": [
      "00:19:44 - cmdstanpy - INFO - Chain [1] start processing\n",
      "00:19:44 - cmdstanpy - INFO - Chain [1] done processing\n",
      "00:19:46 - cmdstanpy - INFO - Chain [1] start processing\n",
      "00:19:46 - cmdstanpy - INFO - Chain [1] done processing\n",
      "00:19:47 - cmdstanpy - INFO - Chain [1] start processing\n",
      "00:19:48 - cmdstanpy - INFO - Chain [1] done processing\n",
      "00:19:50 - cmdstanpy - INFO - Chain [1] start processing\n",
      "00:19:50 - cmdstanpy - INFO - Chain [1] done processing\n"
     ]
    },
    {
     "data": {
      "application/vnd.jupyter.widget-view+json": {
       "model_id": "a4f4a6f68ace4e378794c6f1601e3ec3",
       "version_major": 2,
       "version_minor": 0
      },
      "text/plain": [
       "  0%|          | 0/3 [00:00<?, ?it/s]"
      ]
     },
     "metadata": {},
     "output_type": "display_data"
    },
    {
     "name": "stderr",
     "output_type": "stream",
     "text": [
      "00:19:50 - cmdstanpy - INFO - Chain [1] start processing\n",
      "00:19:50 - cmdstanpy - INFO - Chain [1] done processing\n",
      "00:19:52 - cmdstanpy - INFO - Chain [1] start processing\n",
      "00:19:52 - cmdstanpy - INFO - Chain [1] done processing\n",
      "00:19:54 - cmdstanpy - INFO - Chain [1] start processing\n",
      "00:19:54 - cmdstanpy - INFO - Chain [1] done processing\n",
      "00:19:56 - cmdstanpy - INFO - Chain [1] start processing\n",
      "00:19:56 - cmdstanpy - INFO - Chain [1] done processing\n"
     ]
    },
    {
     "data": {
      "application/vnd.jupyter.widget-view+json": {
       "model_id": "e18e726d63ec462bbe0f22d7239953d2",
       "version_major": 2,
       "version_minor": 0
      },
      "text/plain": [
       "  0%|          | 0/3 [00:00<?, ?it/s]"
      ]
     },
     "metadata": {},
     "output_type": "display_data"
    },
    {
     "name": "stderr",
     "output_type": "stream",
     "text": [
      "00:19:56 - cmdstanpy - INFO - Chain [1] start processing\n",
      "00:19:56 - cmdstanpy - INFO - Chain [1] done processing\n",
      "00:19:59 - cmdstanpy - INFO - Chain [1] start processing\n",
      "00:19:59 - cmdstanpy - INFO - Chain [1] done processing\n",
      "00:20:01 - cmdstanpy - INFO - Chain [1] start processing\n",
      "00:20:01 - cmdstanpy - INFO - Chain [1] done processing\n",
      "00:20:03 - cmdstanpy - INFO - Chain [1] start processing\n",
      "00:20:03 - cmdstanpy - INFO - Chain [1] done processing\n"
     ]
    },
    {
     "data": {
      "application/vnd.jupyter.widget-view+json": {
       "model_id": "410da4503e944a6caf5f9b95445fd517",
       "version_major": 2,
       "version_minor": 0
      },
      "text/plain": [
       "  0%|          | 0/3 [00:00<?, ?it/s]"
      ]
     },
     "metadata": {},
     "output_type": "display_data"
    },
    {
     "name": "stderr",
     "output_type": "stream",
     "text": [
      "00:20:03 - cmdstanpy - INFO - Chain [1] start processing\n",
      "00:20:03 - cmdstanpy - INFO - Chain [1] done processing\n",
      "00:20:05 - cmdstanpy - INFO - Chain [1] start processing\n",
      "00:20:05 - cmdstanpy - INFO - Chain [1] done processing\n",
      "00:20:07 - cmdstanpy - INFO - Chain [1] start processing\n",
      "00:20:08 - cmdstanpy - INFO - Chain [1] done processing\n",
      "00:20:10 - cmdstanpy - INFO - Chain [1] start processing\n",
      "00:20:10 - cmdstanpy - INFO - Chain [1] done processing\n"
     ]
    },
    {
     "data": {
      "application/vnd.jupyter.widget-view+json": {
       "model_id": "0f148cc4c5e04af3905642f1358dc493",
       "version_major": 2,
       "version_minor": 0
      },
      "text/plain": [
       "  0%|          | 0/3 [00:00<?, ?it/s]"
      ]
     },
     "metadata": {},
     "output_type": "display_data"
    },
    {
     "name": "stderr",
     "output_type": "stream",
     "text": [
      "00:20:10 - cmdstanpy - INFO - Chain [1] start processing\n",
      "00:20:10 - cmdstanpy - INFO - Chain [1] done processing\n",
      "00:20:12 - cmdstanpy - INFO - Chain [1] start processing\n",
      "00:20:12 - cmdstanpy - INFO - Chain [1] done processing\n",
      "00:20:15 - cmdstanpy - INFO - Chain [1] start processing\n",
      "00:20:15 - cmdstanpy - INFO - Chain [1] done processing\n",
      "00:20:18 - cmdstanpy - INFO - Chain [1] start processing\n",
      "00:20:18 - cmdstanpy - INFO - Chain [1] done processing\n"
     ]
    },
    {
     "data": {
      "application/vnd.jupyter.widget-view+json": {
       "model_id": "66e801fc191846a29116ae1c5f54cc95",
       "version_major": 2,
       "version_minor": 0
      },
      "text/plain": [
       "  0%|          | 0/3 [00:00<?, ?it/s]"
      ]
     },
     "metadata": {},
     "output_type": "display_data"
    },
    {
     "name": "stderr",
     "output_type": "stream",
     "text": [
      "00:20:18 - cmdstanpy - INFO - Chain [1] start processing\n",
      "00:20:19 - cmdstanpy - INFO - Chain [1] done processing\n",
      "00:20:21 - cmdstanpy - INFO - Chain [1] start processing\n",
      "00:20:21 - cmdstanpy - INFO - Chain [1] done processing\n",
      "00:20:23 - cmdstanpy - INFO - Chain [1] start processing\n",
      "00:20:23 - cmdstanpy - INFO - Chain [1] done processing\n",
      "00:20:25 - cmdstanpy - INFO - Chain [1] start processing\n",
      "00:20:25 - cmdstanpy - INFO - Chain [1] done processing\n"
     ]
    },
    {
     "data": {
      "application/vnd.jupyter.widget-view+json": {
       "model_id": "d9583d0fe74345afb347705127404f72",
       "version_major": 2,
       "version_minor": 0
      },
      "text/plain": [
       "  0%|          | 0/3 [00:00<?, ?it/s]"
      ]
     },
     "metadata": {},
     "output_type": "display_data"
    },
    {
     "name": "stderr",
     "output_type": "stream",
     "text": [
      "00:20:26 - cmdstanpy - INFO - Chain [1] start processing\n",
      "00:20:26 - cmdstanpy - INFO - Chain [1] done processing\n",
      "00:20:28 - cmdstanpy - INFO - Chain [1] start processing\n",
      "00:20:28 - cmdstanpy - INFO - Chain [1] done processing\n",
      "00:20:30 - cmdstanpy - INFO - Chain [1] start processing\n",
      "00:20:30 - cmdstanpy - INFO - Chain [1] done processing\n",
      "00:20:32 - cmdstanpy - INFO - Chain [1] start processing\n",
      "00:20:32 - cmdstanpy - INFO - Chain [1] done processing\n"
     ]
    },
    {
     "data": {
      "application/vnd.jupyter.widget-view+json": {
       "model_id": "06006714cd024a8a998e6e01afcec2cf",
       "version_major": 2,
       "version_minor": 0
      },
      "text/plain": [
       "  0%|          | 0/3 [00:00<?, ?it/s]"
      ]
     },
     "metadata": {},
     "output_type": "display_data"
    },
    {
     "name": "stderr",
     "output_type": "stream",
     "text": [
      "00:20:32 - cmdstanpy - INFO - Chain [1] start processing\n",
      "00:20:32 - cmdstanpy - INFO - Chain [1] done processing\n",
      "00:20:35 - cmdstanpy - INFO - Chain [1] start processing\n",
      "00:20:35 - cmdstanpy - INFO - Chain [1] done processing\n",
      "00:20:36 - cmdstanpy - INFO - Chain [1] start processing\n",
      "00:20:37 - cmdstanpy - INFO - Chain [1] done processing\n",
      "00:20:42 - cmdstanpy - INFO - Chain [1] start processing\n",
      "00:20:42 - cmdstanpy - INFO - Chain [1] done processing\n"
     ]
    },
    {
     "data": {
      "application/vnd.jupyter.widget-view+json": {
       "model_id": "86a1c6d1234446059e66ace711e87221",
       "version_major": 2,
       "version_minor": 0
      },
      "text/plain": [
       "  0%|          | 0/3 [00:00<?, ?it/s]"
      ]
     },
     "metadata": {},
     "output_type": "display_data"
    },
    {
     "name": "stderr",
     "output_type": "stream",
     "text": [
      "00:20:43 - cmdstanpy - INFO - Chain [1] start processing\n",
      "00:20:43 - cmdstanpy - INFO - Chain [1] done processing\n",
      "00:20:45 - cmdstanpy - INFO - Chain [1] start processing\n",
      "00:20:45 - cmdstanpy - INFO - Chain [1] done processing\n",
      "00:20:47 - cmdstanpy - INFO - Chain [1] start processing\n",
      "00:20:47 - cmdstanpy - INFO - Chain [1] done processing\n",
      "00:20:49 - cmdstanpy - INFO - Chain [1] start processing\n",
      "00:20:49 - cmdstanpy - INFO - Chain [1] done processing\n"
     ]
    },
    {
     "data": {
      "application/vnd.jupyter.widget-view+json": {
       "model_id": "86254a9d4e0c4cee9269365d729b6ad7",
       "version_major": 2,
       "version_minor": 0
      },
      "text/plain": [
       "  0%|          | 0/3 [00:00<?, ?it/s]"
      ]
     },
     "metadata": {},
     "output_type": "display_data"
    },
    {
     "name": "stderr",
     "output_type": "stream",
     "text": [
      "00:20:49 - cmdstanpy - INFO - Chain [1] start processing\n",
      "00:20:49 - cmdstanpy - INFO - Chain [1] done processing\n",
      "00:20:51 - cmdstanpy - INFO - Chain [1] start processing\n",
      "00:20:51 - cmdstanpy - INFO - Chain [1] done processing\n",
      "00:20:54 - cmdstanpy - INFO - Chain [1] start processing\n",
      "00:20:54 - cmdstanpy - INFO - Chain [1] done processing\n",
      "00:20:56 - cmdstanpy - INFO - Chain [1] start processing\n",
      "00:20:56 - cmdstanpy - INFO - Chain [1] done processing\n"
     ]
    },
    {
     "data": {
      "application/vnd.jupyter.widget-view+json": {
       "model_id": "6b9a8902fbee4054840dee498246293d",
       "version_major": 2,
       "version_minor": 0
      },
      "text/plain": [
       "  0%|          | 0/3 [00:00<?, ?it/s]"
      ]
     },
     "metadata": {},
     "output_type": "display_data"
    },
    {
     "name": "stderr",
     "output_type": "stream",
     "text": [
      "00:20:56 - cmdstanpy - INFO - Chain [1] start processing\n",
      "00:20:56 - cmdstanpy - INFO - Chain [1] done processing\n",
      "00:20:58 - cmdstanpy - INFO - Chain [1] start processing\n",
      "00:20:58 - cmdstanpy - INFO - Chain [1] done processing\n",
      "00:21:00 - cmdstanpy - INFO - Chain [1] start processing\n",
      "00:21:00 - cmdstanpy - INFO - Chain [1] done processing\n",
      "00:21:02 - cmdstanpy - INFO - Chain [1] start processing\n",
      "00:21:02 - cmdstanpy - INFO - Chain [1] done processing\n"
     ]
    },
    {
     "data": {
      "application/vnd.jupyter.widget-view+json": {
       "model_id": "6a0d2166aeec4ecea3b69b14d3fa8d65",
       "version_major": 2,
       "version_minor": 0
      },
      "text/plain": [
       "  0%|          | 0/3 [00:00<?, ?it/s]"
      ]
     },
     "metadata": {},
     "output_type": "display_data"
    },
    {
     "name": "stderr",
     "output_type": "stream",
     "text": [
      "00:21:03 - cmdstanpy - INFO - Chain [1] start processing\n",
      "00:21:03 - cmdstanpy - INFO - Chain [1] done processing\n",
      "00:21:04 - cmdstanpy - INFO - Chain [1] start processing\n",
      "00:21:05 - cmdstanpy - INFO - Chain [1] done processing\n",
      "00:21:07 - cmdstanpy - INFO - Chain [1] start processing\n",
      "00:21:07 - cmdstanpy - INFO - Chain [1] done processing\n",
      "00:21:08 - cmdstanpy - INFO - Chain [1] start processing\n",
      "00:21:09 - cmdstanpy - INFO - Chain [1] done processing\n"
     ]
    },
    {
     "data": {
      "application/vnd.jupyter.widget-view+json": {
       "model_id": "d84dbc257d6144c38b0531e1dc737f6a",
       "version_major": 2,
       "version_minor": 0
      },
      "text/plain": [
       "  0%|          | 0/3 [00:00<?, ?it/s]"
      ]
     },
     "metadata": {},
     "output_type": "display_data"
    },
    {
     "name": "stderr",
     "output_type": "stream",
     "text": [
      "00:21:09 - cmdstanpy - INFO - Chain [1] start processing\n",
      "00:21:09 - cmdstanpy - INFO - Chain [1] done processing\n",
      "00:21:11 - cmdstanpy - INFO - Chain [1] start processing\n",
      "00:21:11 - cmdstanpy - INFO - Chain [1] done processing\n",
      "00:21:13 - cmdstanpy - INFO - Chain [1] start processing\n",
      "00:21:13 - cmdstanpy - INFO - Chain [1] done processing\n",
      "00:21:15 - cmdstanpy - INFO - Chain [1] start processing\n",
      "00:21:15 - cmdstanpy - INFO - Chain [1] done processing\n"
     ]
    },
    {
     "data": {
      "application/vnd.jupyter.widget-view+json": {
       "model_id": "d2a2cc832ec04fbdaedc40ae9ebb486f",
       "version_major": 2,
       "version_minor": 0
      },
      "text/plain": [
       "  0%|          | 0/3 [00:00<?, ?it/s]"
      ]
     },
     "metadata": {},
     "output_type": "display_data"
    },
    {
     "name": "stderr",
     "output_type": "stream",
     "text": [
      "00:21:15 - cmdstanpy - INFO - Chain [1] start processing\n",
      "00:21:15 - cmdstanpy - INFO - Chain [1] done processing\n",
      "00:21:17 - cmdstanpy - INFO - Chain [1] start processing\n",
      "00:21:17 - cmdstanpy - INFO - Chain [1] done processing\n",
      "00:21:19 - cmdstanpy - INFO - Chain [1] start processing\n",
      "00:21:19 - cmdstanpy - INFO - Chain [1] done processing\n",
      "00:21:21 - cmdstanpy - INFO - Chain [1] start processing\n",
      "00:21:21 - cmdstanpy - INFO - Chain [1] done processing\n"
     ]
    },
    {
     "data": {
      "application/vnd.jupyter.widget-view+json": {
       "model_id": "324e78a2046d48fe80d6d7b448f8713c",
       "version_major": 2,
       "version_minor": 0
      },
      "text/plain": [
       "  0%|          | 0/3 [00:00<?, ?it/s]"
      ]
     },
     "metadata": {},
     "output_type": "display_data"
    },
    {
     "name": "stderr",
     "output_type": "stream",
     "text": [
      "00:21:22 - cmdstanpy - INFO - Chain [1] start processing\n",
      "00:21:22 - cmdstanpy - INFO - Chain [1] done processing\n",
      "00:21:24 - cmdstanpy - INFO - Chain [1] start processing\n",
      "00:21:24 - cmdstanpy - INFO - Chain [1] done processing\n",
      "00:21:25 - cmdstanpy - INFO - Chain [1] start processing\n",
      "00:21:26 - cmdstanpy - INFO - Chain [1] done processing\n",
      "00:21:28 - cmdstanpy - INFO - Chain [1] start processing\n",
      "00:21:28 - cmdstanpy - INFO - Chain [1] done processing\n"
     ]
    },
    {
     "data": {
      "application/vnd.jupyter.widget-view+json": {
       "model_id": "8f8d6c41a3b945b6be6554940f952483",
       "version_major": 2,
       "version_minor": 0
      },
      "text/plain": [
       "  0%|          | 0/3 [00:00<?, ?it/s]"
      ]
     },
     "metadata": {},
     "output_type": "display_data"
    },
    {
     "name": "stderr",
     "output_type": "stream",
     "text": [
      "00:21:28 - cmdstanpy - INFO - Chain [1] start processing\n",
      "00:21:28 - cmdstanpy - INFO - Chain [1] done processing\n",
      "00:21:30 - cmdstanpy - INFO - Chain [1] start processing\n",
      "00:21:30 - cmdstanpy - INFO - Chain [1] done processing\n",
      "00:21:32 - cmdstanpy - INFO - Chain [1] start processing\n",
      "00:21:32 - cmdstanpy - INFO - Chain [1] done processing\n",
      "00:21:34 - cmdstanpy - INFO - Chain [1] start processing\n",
      "00:21:34 - cmdstanpy - INFO - Chain [1] done processing\n"
     ]
    },
    {
     "data": {
      "application/vnd.jupyter.widget-view+json": {
       "model_id": "3117e0325b7d4b1a9a5ceed8ae0c580c",
       "version_major": 2,
       "version_minor": 0
      },
      "text/plain": [
       "  0%|          | 0/3 [00:00<?, ?it/s]"
      ]
     },
     "metadata": {},
     "output_type": "display_data"
    },
    {
     "name": "stderr",
     "output_type": "stream",
     "text": [
      "00:21:35 - cmdstanpy - INFO - Chain [1] start processing\n",
      "00:21:35 - cmdstanpy - INFO - Chain [1] done processing\n",
      "00:21:37 - cmdstanpy - INFO - Chain [1] start processing\n",
      "00:21:37 - cmdstanpy - INFO - Chain [1] done processing\n",
      "00:21:39 - cmdstanpy - INFO - Chain [1] start processing\n",
      "00:21:39 - cmdstanpy - INFO - Chain [1] done processing\n",
      "00:21:41 - cmdstanpy - INFO - Chain [1] start processing\n",
      "00:21:41 - cmdstanpy - INFO - Chain [1] done processing\n"
     ]
    },
    {
     "data": {
      "application/vnd.jupyter.widget-view+json": {
       "model_id": "a14634b97ba3421885288c47c4aa1e69",
       "version_major": 2,
       "version_minor": 0
      },
      "text/plain": [
       "  0%|          | 0/3 [00:00<?, ?it/s]"
      ]
     },
     "metadata": {},
     "output_type": "display_data"
    },
    {
     "name": "stderr",
     "output_type": "stream",
     "text": [
      "00:21:41 - cmdstanpy - INFO - Chain [1] start processing\n",
      "00:21:41 - cmdstanpy - INFO - Chain [1] done processing\n",
      "00:21:43 - cmdstanpy - INFO - Chain [1] start processing\n",
      "00:21:43 - cmdstanpy - INFO - Chain [1] done processing\n",
      "00:21:45 - cmdstanpy - INFO - Chain [1] start processing\n",
      "00:21:45 - cmdstanpy - INFO - Chain [1] done processing\n",
      "00:21:47 - cmdstanpy - INFO - Chain [1] start processing\n",
      "00:21:47 - cmdstanpy - INFO - Chain [1] done processing\n"
     ]
    },
    {
     "data": {
      "application/vnd.jupyter.widget-view+json": {
       "model_id": "c3794455bdd14ad3bc06b4fb7254caf8",
       "version_major": 2,
       "version_minor": 0
      },
      "text/plain": [
       "  0%|          | 0/3 [00:00<?, ?it/s]"
      ]
     },
     "metadata": {},
     "output_type": "display_data"
    },
    {
     "name": "stderr",
     "output_type": "stream",
     "text": [
      "00:21:47 - cmdstanpy - INFO - Chain [1] start processing\n",
      "00:21:47 - cmdstanpy - INFO - Chain [1] done processing\n",
      "00:21:49 - cmdstanpy - INFO - Chain [1] start processing\n",
      "00:21:49 - cmdstanpy - INFO - Chain [1] done processing\n",
      "00:21:51 - cmdstanpy - INFO - Chain [1] start processing\n",
      "00:21:51 - cmdstanpy - INFO - Chain [1] done processing\n",
      "00:21:53 - cmdstanpy - INFO - Chain [1] start processing\n",
      "00:21:53 - cmdstanpy - INFO - Chain [1] done processing\n"
     ]
    },
    {
     "data": {
      "application/vnd.jupyter.widget-view+json": {
       "model_id": "1b3855b9fd6c42ae9961c0a9b90ceffe",
       "version_major": 2,
       "version_minor": 0
      },
      "text/plain": [
       "  0%|          | 0/3 [00:00<?, ?it/s]"
      ]
     },
     "metadata": {},
     "output_type": "display_data"
    },
    {
     "name": "stderr",
     "output_type": "stream",
     "text": [
      "00:21:53 - cmdstanpy - INFO - Chain [1] start processing\n",
      "00:21:54 - cmdstanpy - INFO - Chain [1] done processing\n",
      "00:21:56 - cmdstanpy - INFO - Chain [1] start processing\n",
      "00:21:56 - cmdstanpy - INFO - Chain [1] done processing\n",
      "00:21:57 - cmdstanpy - INFO - Chain [1] start processing\n",
      "00:21:58 - cmdstanpy - INFO - Chain [1] done processing\n",
      "00:22:00 - cmdstanpy - INFO - Chain [1] start processing\n",
      "00:22:00 - cmdstanpy - INFO - Chain [1] done processing\n"
     ]
    },
    {
     "data": {
      "application/vnd.jupyter.widget-view+json": {
       "model_id": "232c4833510f4a4185ff9d203fa96833",
       "version_major": 2,
       "version_minor": 0
      },
      "text/plain": [
       "  0%|          | 0/3 [00:00<?, ?it/s]"
      ]
     },
     "metadata": {},
     "output_type": "display_data"
    },
    {
     "name": "stderr",
     "output_type": "stream",
     "text": [
      "00:22:00 - cmdstanpy - INFO - Chain [1] start processing\n",
      "00:22:00 - cmdstanpy - INFO - Chain [1] done processing\n",
      "00:22:05 - cmdstanpy - INFO - Chain [1] start processing\n",
      "00:22:05 - cmdstanpy - INFO - Chain [1] done processing\n",
      "00:22:07 - cmdstanpy - INFO - Chain [1] start processing\n",
      "00:22:07 - cmdstanpy - INFO - Chain [1] done processing\n",
      "00:22:09 - cmdstanpy - INFO - Chain [1] start processing\n",
      "00:22:10 - cmdstanpy - INFO - Chain [1] done processing\n"
     ]
    },
    {
     "data": {
      "application/vnd.jupyter.widget-view+json": {
       "model_id": "afbeb99c0bc4472d92f45526eb2ac2b7",
       "version_major": 2,
       "version_minor": 0
      },
      "text/plain": [
       "  0%|          | 0/3 [00:00<?, ?it/s]"
      ]
     },
     "metadata": {},
     "output_type": "display_data"
    },
    {
     "name": "stderr",
     "output_type": "stream",
     "text": [
      "00:22:10 - cmdstanpy - INFO - Chain [1] start processing\n",
      "00:22:10 - cmdstanpy - INFO - Chain [1] done processing\n",
      "00:22:12 - cmdstanpy - INFO - Chain [1] start processing\n",
      "00:22:12 - cmdstanpy - INFO - Chain [1] done processing\n",
      "00:22:14 - cmdstanpy - INFO - Chain [1] start processing\n",
      "00:22:14 - cmdstanpy - INFO - Chain [1] done processing\n",
      "00:22:16 - cmdstanpy - INFO - Chain [1] start processing\n",
      "00:22:16 - cmdstanpy - INFO - Chain [1] done processing\n"
     ]
    },
    {
     "data": {
      "application/vnd.jupyter.widget-view+json": {
       "model_id": "52d6f616f217448ba37c2578d66ab559",
       "version_major": 2,
       "version_minor": 0
      },
      "text/plain": [
       "  0%|          | 0/3 [00:00<?, ?it/s]"
      ]
     },
     "metadata": {},
     "output_type": "display_data"
    },
    {
     "name": "stderr",
     "output_type": "stream",
     "text": [
      "00:22:17 - cmdstanpy - INFO - Chain [1] start processing\n",
      "00:22:17 - cmdstanpy - INFO - Chain [1] done processing\n",
      "00:22:19 - cmdstanpy - INFO - Chain [1] start processing\n",
      "00:22:19 - cmdstanpy - INFO - Chain [1] done processing\n",
      "00:22:21 - cmdstanpy - INFO - Chain [1] start processing\n",
      "00:22:21 - cmdstanpy - INFO - Chain [1] done processing\n",
      "00:22:23 - cmdstanpy - INFO - Chain [1] start processing\n",
      "00:22:23 - cmdstanpy - INFO - Chain [1] done processing\n"
     ]
    },
    {
     "data": {
      "application/vnd.jupyter.widget-view+json": {
       "model_id": "49da39e08502455f8d2e41b3cb7ae593",
       "version_major": 2,
       "version_minor": 0
      },
      "text/plain": [
       "  0%|          | 0/3 [00:00<?, ?it/s]"
      ]
     },
     "metadata": {},
     "output_type": "display_data"
    },
    {
     "name": "stderr",
     "output_type": "stream",
     "text": [
      "00:22:23 - cmdstanpy - INFO - Chain [1] start processing\n",
      "00:22:23 - cmdstanpy - INFO - Chain [1] done processing\n",
      "00:22:25 - cmdstanpy - INFO - Chain [1] start processing\n",
      "00:22:25 - cmdstanpy - INFO - Chain [1] done processing\n",
      "00:22:27 - cmdstanpy - INFO - Chain [1] start processing\n",
      "00:22:27 - cmdstanpy - INFO - Chain [1] done processing\n",
      "00:22:29 - cmdstanpy - INFO - Chain [1] start processing\n",
      "00:22:29 - cmdstanpy - INFO - Chain [1] done processing\n"
     ]
    },
    {
     "data": {
      "application/vnd.jupyter.widget-view+json": {
       "model_id": "ac619ed230304fc6bb4b9499af151006",
       "version_major": 2,
       "version_minor": 0
      },
      "text/plain": [
       "  0%|          | 0/3 [00:00<?, ?it/s]"
      ]
     },
     "metadata": {},
     "output_type": "display_data"
    },
    {
     "name": "stderr",
     "output_type": "stream",
     "text": [
      "00:22:29 - cmdstanpy - INFO - Chain [1] start processing\n",
      "00:22:29 - cmdstanpy - INFO - Chain [1] done processing\n",
      "00:22:31 - cmdstanpy - INFO - Chain [1] start processing\n",
      "00:22:31 - cmdstanpy - INFO - Chain [1] done processing\n",
      "00:22:33 - cmdstanpy - INFO - Chain [1] start processing\n",
      "00:22:33 - cmdstanpy - INFO - Chain [1] done processing\n",
      "00:22:35 - cmdstanpy - INFO - Chain [1] start processing\n",
      "00:22:35 - cmdstanpy - INFO - Chain [1] done processing\n"
     ]
    },
    {
     "data": {
      "application/vnd.jupyter.widget-view+json": {
       "model_id": "56915d2d5f8f4d97913ac9f9ccf5f352",
       "version_major": 2,
       "version_minor": 0
      },
      "text/plain": [
       "  0%|          | 0/3 [00:00<?, ?it/s]"
      ]
     },
     "metadata": {},
     "output_type": "display_data"
    },
    {
     "name": "stderr",
     "output_type": "stream",
     "text": [
      "00:22:35 - cmdstanpy - INFO - Chain [1] start processing\n",
      "00:22:35 - cmdstanpy - INFO - Chain [1] done processing\n",
      "00:22:37 - cmdstanpy - INFO - Chain [1] start processing\n",
      "00:22:37 - cmdstanpy - INFO - Chain [1] done processing\n",
      "00:22:39 - cmdstanpy - INFO - Chain [1] start processing\n",
      "00:22:39 - cmdstanpy - INFO - Chain [1] done processing\n",
      "00:22:41 - cmdstanpy - INFO - Chain [1] start processing\n",
      "00:22:41 - cmdstanpy - INFO - Chain [1] done processing\n"
     ]
    },
    {
     "data": {
      "application/vnd.jupyter.widget-view+json": {
       "model_id": "94d8c12be657493eadad75a362fbd184",
       "version_major": 2,
       "version_minor": 0
      },
      "text/plain": [
       "  0%|          | 0/3 [00:00<?, ?it/s]"
      ]
     },
     "metadata": {},
     "output_type": "display_data"
    },
    {
     "name": "stderr",
     "output_type": "stream",
     "text": [
      "00:22:41 - cmdstanpy - INFO - Chain [1] start processing\n",
      "00:22:41 - cmdstanpy - INFO - Chain [1] done processing\n",
      "00:22:43 - cmdstanpy - INFO - Chain [1] start processing\n",
      "00:22:43 - cmdstanpy - INFO - Chain [1] done processing\n",
      "00:22:45 - cmdstanpy - INFO - Chain [1] start processing\n",
      "00:22:45 - cmdstanpy - INFO - Chain [1] done processing\n",
      "00:22:47 - cmdstanpy - INFO - Chain [1] start processing\n",
      "00:22:47 - cmdstanpy - INFO - Chain [1] done processing\n"
     ]
    },
    {
     "data": {
      "application/vnd.jupyter.widget-view+json": {
       "model_id": "d5cb72b7a1c24e699cbfc2b6fbf16d33",
       "version_major": 2,
       "version_minor": 0
      },
      "text/plain": [
       "  0%|          | 0/3 [00:00<?, ?it/s]"
      ]
     },
     "metadata": {},
     "output_type": "display_data"
    },
    {
     "name": "stderr",
     "output_type": "stream",
     "text": [
      "00:22:47 - cmdstanpy - INFO - Chain [1] start processing\n",
      "00:22:47 - cmdstanpy - INFO - Chain [1] done processing\n",
      "00:22:49 - cmdstanpy - INFO - Chain [1] start processing\n",
      "00:22:49 - cmdstanpy - INFO - Chain [1] done processing\n",
      "00:22:51 - cmdstanpy - INFO - Chain [1] start processing\n",
      "00:22:51 - cmdstanpy - INFO - Chain [1] done processing\n",
      "00:22:53 - cmdstanpy - INFO - Chain [1] start processing\n",
      "00:22:53 - cmdstanpy - INFO - Chain [1] done processing\n"
     ]
    },
    {
     "data": {
      "application/vnd.jupyter.widget-view+json": {
       "model_id": "75954fc361424ea188afb09fc79ce3dd",
       "version_major": 2,
       "version_minor": 0
      },
      "text/plain": [
       "  0%|          | 0/3 [00:00<?, ?it/s]"
      ]
     },
     "metadata": {},
     "output_type": "display_data"
    },
    {
     "name": "stderr",
     "output_type": "stream",
     "text": [
      "00:22:53 - cmdstanpy - INFO - Chain [1] start processing\n",
      "00:22:53 - cmdstanpy - INFO - Chain [1] done processing\n",
      "00:22:55 - cmdstanpy - INFO - Chain [1] start processing\n",
      "00:22:55 - cmdstanpy - INFO - Chain [1] done processing\n",
      "00:22:57 - cmdstanpy - INFO - Chain [1] start processing\n",
      "00:22:57 - cmdstanpy - INFO - Chain [1] done processing\n",
      "00:22:59 - cmdstanpy - INFO - Chain [1] start processing\n",
      "00:22:59 - cmdstanpy - INFO - Chain [1] done processing\n"
     ]
    },
    {
     "data": {
      "application/vnd.jupyter.widget-view+json": {
       "model_id": "78b12656850a4fcea86daa34b337d810",
       "version_major": 2,
       "version_minor": 0
      },
      "text/plain": [
       "  0%|          | 0/3 [00:00<?, ?it/s]"
      ]
     },
     "metadata": {},
     "output_type": "display_data"
    },
    {
     "name": "stderr",
     "output_type": "stream",
     "text": [
      "00:22:59 - cmdstanpy - INFO - Chain [1] start processing\n",
      "00:22:59 - cmdstanpy - INFO - Chain [1] done processing\n",
      "00:23:01 - cmdstanpy - INFO - Chain [1] start processing\n",
      "00:23:01 - cmdstanpy - INFO - Chain [1] done processing\n",
      "00:23:03 - cmdstanpy - INFO - Chain [1] start processing\n",
      "00:23:03 - cmdstanpy - INFO - Chain [1] done processing\n",
      "00:23:05 - cmdstanpy - INFO - Chain [1] start processing\n",
      "00:23:05 - cmdstanpy - INFO - Chain [1] done processing\n"
     ]
    },
    {
     "data": {
      "application/vnd.jupyter.widget-view+json": {
       "model_id": "48c36272ef17411b99892272fe4e7cc8",
       "version_major": 2,
       "version_minor": 0
      },
      "text/plain": [
       "  0%|          | 0/3 [00:00<?, ?it/s]"
      ]
     },
     "metadata": {},
     "output_type": "display_data"
    },
    {
     "name": "stderr",
     "output_type": "stream",
     "text": [
      "00:23:05 - cmdstanpy - INFO - Chain [1] start processing\n",
      "00:23:05 - cmdstanpy - INFO - Chain [1] done processing\n",
      "00:23:07 - cmdstanpy - INFO - Chain [1] start processing\n",
      "00:23:07 - cmdstanpy - INFO - Chain [1] done processing\n",
      "00:23:09 - cmdstanpy - INFO - Chain [1] start processing\n",
      "00:23:09 - cmdstanpy - INFO - Chain [1] done processing\n",
      "00:23:11 - cmdstanpy - INFO - Chain [1] start processing\n",
      "00:23:11 - cmdstanpy - INFO - Chain [1] done processing\n"
     ]
    },
    {
     "data": {
      "application/vnd.jupyter.widget-view+json": {
       "model_id": "5e7db4dc0ed44582aa81fc2ec0157a6e",
       "version_major": 2,
       "version_minor": 0
      },
      "text/plain": [
       "  0%|          | 0/3 [00:00<?, ?it/s]"
      ]
     },
     "metadata": {},
     "output_type": "display_data"
    },
    {
     "name": "stderr",
     "output_type": "stream",
     "text": [
      "00:23:11 - cmdstanpy - INFO - Chain [1] start processing\n",
      "00:23:11 - cmdstanpy - INFO - Chain [1] done processing\n",
      "00:23:13 - cmdstanpy - INFO - Chain [1] start processing\n",
      "00:23:13 - cmdstanpy - INFO - Chain [1] done processing\n",
      "00:23:15 - cmdstanpy - INFO - Chain [1] start processing\n",
      "00:23:15 - cmdstanpy - INFO - Chain [1] done processing\n",
      "00:23:16 - cmdstanpy - INFO - Chain [1] start processing\n",
      "00:23:17 - cmdstanpy - INFO - Chain [1] done processing\n"
     ]
    },
    {
     "data": {
      "application/vnd.jupyter.widget-view+json": {
       "model_id": "73174f8349fd4cc39b3d90720ac3f8fb",
       "version_major": 2,
       "version_minor": 0
      },
      "text/plain": [
       "  0%|          | 0/3 [00:00<?, ?it/s]"
      ]
     },
     "metadata": {},
     "output_type": "display_data"
    },
    {
     "name": "stderr",
     "output_type": "stream",
     "text": [
      "00:23:17 - cmdstanpy - INFO - Chain [1] start processing\n",
      "00:23:17 - cmdstanpy - INFO - Chain [1] done processing\n",
      "00:23:18 - cmdstanpy - INFO - Chain [1] start processing\n",
      "00:23:19 - cmdstanpy - INFO - Chain [1] done processing\n",
      "00:23:20 - cmdstanpy - INFO - Chain [1] start processing\n",
      "00:23:20 - cmdstanpy - INFO - Chain [1] done processing\n",
      "00:23:22 - cmdstanpy - INFO - Chain [1] start processing\n",
      "00:23:22 - cmdstanpy - INFO - Chain [1] done processing\n"
     ]
    },
    {
     "data": {
      "application/vnd.jupyter.widget-view+json": {
       "model_id": "5370137ea33f4d8c815b6100479bafe8",
       "version_major": 2,
       "version_minor": 0
      },
      "text/plain": [
       "  0%|          | 0/3 [00:00<?, ?it/s]"
      ]
     },
     "metadata": {},
     "output_type": "display_data"
    },
    {
     "name": "stderr",
     "output_type": "stream",
     "text": [
      "00:23:22 - cmdstanpy - INFO - Chain [1] start processing\n",
      "00:23:22 - cmdstanpy - INFO - Chain [1] done processing\n",
      "00:23:28 - cmdstanpy - INFO - Chain [1] start processing\n",
      "00:23:28 - cmdstanpy - INFO - Chain [1] done processing\n",
      "00:23:30 - cmdstanpy - INFO - Chain [1] start processing\n",
      "00:23:30 - cmdstanpy - INFO - Chain [1] done processing\n",
      "00:23:32 - cmdstanpy - INFO - Chain [1] start processing\n",
      "00:23:32 - cmdstanpy - INFO - Chain [1] done processing\n"
     ]
    },
    {
     "data": {
      "application/vnd.jupyter.widget-view+json": {
       "model_id": "9f448a400d6a4a869b708829cf5d175a",
       "version_major": 2,
       "version_minor": 0
      },
      "text/plain": [
       "  0%|          | 0/3 [00:00<?, ?it/s]"
      ]
     },
     "metadata": {},
     "output_type": "display_data"
    },
    {
     "name": "stderr",
     "output_type": "stream",
     "text": [
      "00:23:32 - cmdstanpy - INFO - Chain [1] start processing\n",
      "00:23:32 - cmdstanpy - INFO - Chain [1] done processing\n",
      "00:23:34 - cmdstanpy - INFO - Chain [1] start processing\n",
      "00:23:34 - cmdstanpy - INFO - Chain [1] done processing\n",
      "00:23:35 - cmdstanpy - INFO - Chain [1] start processing\n",
      "00:23:35 - cmdstanpy - INFO - Chain [1] done processing\n",
      "00:23:37 - cmdstanpy - INFO - Chain [1] start processing\n",
      "00:23:38 - cmdstanpy - INFO - Chain [1] done processing\n"
     ]
    },
    {
     "data": {
      "application/vnd.jupyter.widget-view+json": {
       "model_id": "6dfb816c22dc4d2a9e97268caffa9edd",
       "version_major": 2,
       "version_minor": 0
      },
      "text/plain": [
       "  0%|          | 0/3 [00:00<?, ?it/s]"
      ]
     },
     "metadata": {},
     "output_type": "display_data"
    },
    {
     "name": "stderr",
     "output_type": "stream",
     "text": [
      "00:23:38 - cmdstanpy - INFO - Chain [1] start processing\n",
      "00:23:38 - cmdstanpy - INFO - Chain [1] done processing\n",
      "00:23:40 - cmdstanpy - INFO - Chain [1] start processing\n",
      "00:23:40 - cmdstanpy - INFO - Chain [1] done processing\n",
      "00:23:41 - cmdstanpy - INFO - Chain [1] start processing\n",
      "00:23:42 - cmdstanpy - INFO - Chain [1] done processing\n",
      "00:23:44 - cmdstanpy - INFO - Chain [1] start processing\n",
      "00:23:44 - cmdstanpy - INFO - Chain [1] done processing\n"
     ]
    },
    {
     "data": {
      "application/vnd.jupyter.widget-view+json": {
       "model_id": "1c00131d1def47deb89244eeeb5193e3",
       "version_major": 2,
       "version_minor": 0
      },
      "text/plain": [
       "  0%|          | 0/3 [00:00<?, ?it/s]"
      ]
     },
     "metadata": {},
     "output_type": "display_data"
    },
    {
     "name": "stderr",
     "output_type": "stream",
     "text": [
      "00:23:44 - cmdstanpy - INFO - Chain [1] start processing\n",
      "00:23:44 - cmdstanpy - INFO - Chain [1] done processing\n",
      "00:23:46 - cmdstanpy - INFO - Chain [1] start processing\n",
      "00:23:46 - cmdstanpy - INFO - Chain [1] done processing\n",
      "00:23:48 - cmdstanpy - INFO - Chain [1] start processing\n",
      "00:23:48 - cmdstanpy - INFO - Chain [1] done processing\n"
     ]
    },
    {
     "ename": "ValueError",
     "evalue": "Length of values (256) does not match length of index (128)",
     "output_type": "error",
     "traceback": [
      "\u001b[1;31m---------------------------------------------------------------------------\u001b[0m",
      "\u001b[1;31mValueError\u001b[0m                                Traceback (most recent call last)",
      "\u001b[1;32m~\\AppData\\Local\\Temp/ipykernel_17992/947478080.py\u001b[0m in \u001b[0;36m<module>\u001b[1;34m\u001b[0m\n\u001b[0;32m     10\u001b[0m \u001b[1;31m# Find the best parameters\u001b[0m\u001b[1;33m\u001b[0m\u001b[1;33m\u001b[0m\u001b[0m\n\u001b[0;32m     11\u001b[0m \u001b[0mtuning_results\u001b[0m \u001b[1;33m=\u001b[0m \u001b[0mpd\u001b[0m\u001b[1;33m.\u001b[0m\u001b[0mDataFrame\u001b[0m\u001b[1;33m(\u001b[0m\u001b[0mall_params\u001b[0m\u001b[1;33m)\u001b[0m\u001b[1;33m\u001b[0m\u001b[1;33m\u001b[0m\u001b[0m\n\u001b[1;32m---> 12\u001b[1;33m \u001b[0mtuning_results\u001b[0m\u001b[1;33m[\u001b[0m\u001b[1;34m'rmse'\u001b[0m\u001b[1;33m]\u001b[0m \u001b[1;33m=\u001b[0m \u001b[0mrmses\u001b[0m\u001b[1;33m\u001b[0m\u001b[1;33m\u001b[0m\u001b[0m\n\u001b[0m\u001b[0;32m     13\u001b[0m \u001b[0mprint\u001b[0m\u001b[1;33m(\u001b[0m\u001b[0mtuning_results\u001b[0m\u001b[1;33m)\u001b[0m\u001b[1;33m\u001b[0m\u001b[1;33m\u001b[0m\u001b[0m\n\u001b[0;32m     14\u001b[0m \u001b[1;33m\u001b[0m\u001b[0m\n",
      "\u001b[1;32m~\\anaconda3\\lib\\site-packages\\pandas\\core\\frame.py\u001b[0m in \u001b[0;36m__setitem__\u001b[1;34m(self, key, value)\u001b[0m\n\u001b[0;32m   3610\u001b[0m         \u001b[1;32melse\u001b[0m\u001b[1;33m:\u001b[0m\u001b[1;33m\u001b[0m\u001b[1;33m\u001b[0m\u001b[0m\n\u001b[0;32m   3611\u001b[0m             \u001b[1;31m# set column\u001b[0m\u001b[1;33m\u001b[0m\u001b[1;33m\u001b[0m\u001b[0m\n\u001b[1;32m-> 3612\u001b[1;33m             \u001b[0mself\u001b[0m\u001b[1;33m.\u001b[0m\u001b[0m_set_item\u001b[0m\u001b[1;33m(\u001b[0m\u001b[0mkey\u001b[0m\u001b[1;33m,\u001b[0m \u001b[0mvalue\u001b[0m\u001b[1;33m)\u001b[0m\u001b[1;33m\u001b[0m\u001b[1;33m\u001b[0m\u001b[0m\n\u001b[0m\u001b[0;32m   3613\u001b[0m \u001b[1;33m\u001b[0m\u001b[0m\n\u001b[0;32m   3614\u001b[0m     \u001b[1;32mdef\u001b[0m \u001b[0m_setitem_slice\u001b[0m\u001b[1;33m(\u001b[0m\u001b[0mself\u001b[0m\u001b[1;33m,\u001b[0m \u001b[0mkey\u001b[0m\u001b[1;33m:\u001b[0m \u001b[0mslice\u001b[0m\u001b[1;33m,\u001b[0m \u001b[0mvalue\u001b[0m\u001b[1;33m)\u001b[0m\u001b[1;33m:\u001b[0m\u001b[1;33m\u001b[0m\u001b[1;33m\u001b[0m\u001b[0m\n",
      "\u001b[1;32m~\\anaconda3\\lib\\site-packages\\pandas\\core\\frame.py\u001b[0m in \u001b[0;36m_set_item\u001b[1;34m(self, key, value)\u001b[0m\n\u001b[0;32m   3782\u001b[0m         \u001b[0mensure\u001b[0m \u001b[0mhomogeneity\u001b[0m\u001b[1;33m.\u001b[0m\u001b[1;33m\u001b[0m\u001b[1;33m\u001b[0m\u001b[0m\n\u001b[0;32m   3783\u001b[0m         \"\"\"\n\u001b[1;32m-> 3784\u001b[1;33m         \u001b[0mvalue\u001b[0m \u001b[1;33m=\u001b[0m \u001b[0mself\u001b[0m\u001b[1;33m.\u001b[0m\u001b[0m_sanitize_column\u001b[0m\u001b[1;33m(\u001b[0m\u001b[0mvalue\u001b[0m\u001b[1;33m)\u001b[0m\u001b[1;33m\u001b[0m\u001b[1;33m\u001b[0m\u001b[0m\n\u001b[0m\u001b[0;32m   3785\u001b[0m \u001b[1;33m\u001b[0m\u001b[0m\n\u001b[0;32m   3786\u001b[0m         if (\n",
      "\u001b[1;32m~\\anaconda3\\lib\\site-packages\\pandas\\core\\frame.py\u001b[0m in \u001b[0;36m_sanitize_column\u001b[1;34m(self, value)\u001b[0m\n\u001b[0;32m   4507\u001b[0m \u001b[1;33m\u001b[0m\u001b[0m\n\u001b[0;32m   4508\u001b[0m         \u001b[1;32mif\u001b[0m \u001b[0mis_list_like\u001b[0m\u001b[1;33m(\u001b[0m\u001b[0mvalue\u001b[0m\u001b[1;33m)\u001b[0m\u001b[1;33m:\u001b[0m\u001b[1;33m\u001b[0m\u001b[1;33m\u001b[0m\u001b[0m\n\u001b[1;32m-> 4509\u001b[1;33m             \u001b[0mcom\u001b[0m\u001b[1;33m.\u001b[0m\u001b[0mrequire_length_match\u001b[0m\u001b[1;33m(\u001b[0m\u001b[0mvalue\u001b[0m\u001b[1;33m,\u001b[0m \u001b[0mself\u001b[0m\u001b[1;33m.\u001b[0m\u001b[0mindex\u001b[0m\u001b[1;33m)\u001b[0m\u001b[1;33m\u001b[0m\u001b[1;33m\u001b[0m\u001b[0m\n\u001b[0m\u001b[0;32m   4510\u001b[0m         \u001b[1;32mreturn\u001b[0m \u001b[0msanitize_array\u001b[0m\u001b[1;33m(\u001b[0m\u001b[0mvalue\u001b[0m\u001b[1;33m,\u001b[0m \u001b[0mself\u001b[0m\u001b[1;33m.\u001b[0m\u001b[0mindex\u001b[0m\u001b[1;33m,\u001b[0m \u001b[0mcopy\u001b[0m\u001b[1;33m=\u001b[0m\u001b[1;32mTrue\u001b[0m\u001b[1;33m,\u001b[0m \u001b[0mallow_2d\u001b[0m\u001b[1;33m=\u001b[0m\u001b[1;32mTrue\u001b[0m\u001b[1;33m)\u001b[0m\u001b[1;33m\u001b[0m\u001b[1;33m\u001b[0m\u001b[0m\n\u001b[0;32m   4511\u001b[0m \u001b[1;33m\u001b[0m\u001b[0m\n",
      "\u001b[1;32m~\\anaconda3\\lib\\site-packages\\pandas\\core\\common.py\u001b[0m in \u001b[0;36mrequire_length_match\u001b[1;34m(data, index)\u001b[0m\n\u001b[0;32m    529\u001b[0m     \"\"\"\n\u001b[0;32m    530\u001b[0m     \u001b[1;32mif\u001b[0m \u001b[0mlen\u001b[0m\u001b[1;33m(\u001b[0m\u001b[0mdata\u001b[0m\u001b[1;33m)\u001b[0m \u001b[1;33m!=\u001b[0m \u001b[0mlen\u001b[0m\u001b[1;33m(\u001b[0m\u001b[0mindex\u001b[0m\u001b[1;33m)\u001b[0m\u001b[1;33m:\u001b[0m\u001b[1;33m\u001b[0m\u001b[1;33m\u001b[0m\u001b[0m\n\u001b[1;32m--> 531\u001b[1;33m         raise ValueError(\n\u001b[0m\u001b[0;32m    532\u001b[0m             \u001b[1;34m\"Length of values \"\u001b[0m\u001b[1;33m\u001b[0m\u001b[1;33m\u001b[0m\u001b[0m\n\u001b[0;32m    533\u001b[0m             \u001b[1;34mf\"({len(data)}) \"\u001b[0m\u001b[1;33m\u001b[0m\u001b[1;33m\u001b[0m\u001b[0m\n",
      "\u001b[1;31mValueError\u001b[0m: Length of values (256) does not match length of index (128)"
     ]
    }
   ],
   "source": [
    "\n",
    "# Use cross validation to evaluate all parameters\n",
    "cutoffs = pd.to_datetime(['2021-02-15', '2021-08-15', '2022-02-15'])\n",
    "\n",
    "for params in all_params:\n",
    "    m = Prophet(**params).fit(cruiser_df)  # Fit model with given params\n",
    "    df_cv = cross_validation(m, cutoffs=cutoffs, horizon='28 days')\n",
    "    df_p = performance_metrics(df_cv, rolling_window=7)\n",
    "    rmses.append(df_p['rmse'].values[0])\n",
    "    \n",
    "# Find the best parameters\n",
    "tuning_results = pd.DataFrame(all_params)\n",
    "tuning_results['rmse'] = rmses\n",
    "print(tuning_results)\n",
    "\n",
    "best_params = all_params[np.argmin(rmses)]\n",
    "print(best_params)\n"
   ]
  },
  {
   "cell_type": "code",
   "execution_count": null,
   "id": "a5f64e5a",
   "metadata": {
    "scrolled": true
   },
   "outputs": [],
   "source": [
    "print(df_cv)"
   ]
  },
  {
   "cell_type": "code",
   "execution_count": null,
   "id": "680301aa",
   "metadata": {},
   "outputs": [],
   "source": [
    "print(df_p)"
   ]
  },
  {
   "cell_type": "code",
   "execution_count": null,
   "id": "9b3e3139",
   "metadata": {},
   "outputs": [],
   "source": [
    "from prophet.plot import plot_cross_validation_metric\n",
    "fig = plot_cross_validation_metric(df_cv, metric='mape')"
   ]
  },
  {
   "cell_type": "code",
   "execution_count": null,
   "id": "28afc4fe",
   "metadata": {
    "scrolled": true
   },
   "outputs": [],
   "source": [
    "m = Prophet(yearly_seasonality=20)\n",
    "m.fit(cruiser_df)\n"
   ]
  },
  {
   "cell_type": "code",
   "execution_count": null,
   "id": "ed3784a6",
   "metadata": {},
   "outputs": [],
   "source": [
    "future = m.make_future_dataframe(periods=7)\n",
    "future[-7:]\n"
   ]
  },
  {
   "cell_type": "code",
   "execution_count": null,
   "id": "64a0df3a",
   "metadata": {},
   "outputs": [],
   "source": [
    "forecast = m.predict(future)\n",
    "print(forecast[-7:])\n",
    "weekly_forecast = forecast[-7:]\n",
    "\n",
    "print(weekly_forecast['yhat'].sum(axis=0))\n"
   ]
  },
  {
   "cell_type": "code",
   "execution_count": null,
   "id": "d8094971",
   "metadata": {},
   "outputs": [],
   "source": [
    "fig1 = m.plot(forecast)"
   ]
  },
  {
   "cell_type": "code",
   "execution_count": 53,
   "id": "93c29d1f",
   "metadata": {},
   "outputs": [
    {
     "data": {
      "text/html": [
       "<div>\n",
       "<style scoped>\n",
       "    .dataframe tbody tr th:only-of-type {\n",
       "        vertical-align: middle;\n",
       "    }\n",
       "\n",
       "    .dataframe tbody tr th {\n",
       "        vertical-align: top;\n",
       "    }\n",
       "\n",
       "    .dataframe thead th {\n",
       "        text-align: right;\n",
       "    }\n",
       "</style>\n",
       "<table border=\"1\" class=\"dataframe\">\n",
       "  <thead>\n",
       "    <tr style=\"text-align: right;\">\n",
       "      <th></th>\n",
       "      <th>ds</th>\n",
       "    </tr>\n",
       "  </thead>\n",
       "  <tbody>\n",
       "    <tr>\n",
       "      <th>828</th>\n",
       "      <td>2022-07-04</td>\n",
       "    </tr>\n",
       "    <tr>\n",
       "      <th>829</th>\n",
       "      <td>2022-07-05</td>\n",
       "    </tr>\n",
       "    <tr>\n",
       "      <th>830</th>\n",
       "      <td>2022-07-06</td>\n",
       "    </tr>\n",
       "    <tr>\n",
       "      <th>831</th>\n",
       "      <td>2022-07-07</td>\n",
       "    </tr>\n",
       "    <tr>\n",
       "      <th>832</th>\n",
       "      <td>2022-07-08</td>\n",
       "    </tr>\n",
       "    <tr>\n",
       "      <th>833</th>\n",
       "      <td>2022-07-09</td>\n",
       "    </tr>\n",
       "    <tr>\n",
       "      <th>834</th>\n",
       "      <td>2022-07-10</td>\n",
       "    </tr>\n",
       "  </tbody>\n",
       "</table>\n",
       "</div>"
      ],
      "text/plain": [
       "            ds\n",
       "828 2022-07-04\n",
       "829 2022-07-05\n",
       "830 2022-07-06\n",
       "831 2022-07-07\n",
       "832 2022-07-08\n",
       "833 2022-07-09\n",
       "834 2022-07-10"
      ]
     },
     "execution_count": 53,
     "metadata": {},
     "output_type": "execute_result"
    }
   ],
   "source": []
  },
  {
   "cell_type": "code",
   "execution_count": null,
   "id": "9799011b",
   "metadata": {},
   "outputs": [],
   "source": []
  }
 ],
 "metadata": {
  "kernelspec": {
   "display_name": "Python 3.9.13 64-bit",
   "language": "python",
   "name": "python3"
  },
  "language_info": {
   "codemirror_mode": {
    "name": "ipython",
    "version": 3
   },
   "file_extension": ".py",
   "mimetype": "text/x-python",
   "name": "python",
   "nbconvert_exporter": "python",
   "pygments_lexer": "ipython3",
   "version": "3.9.13"
  },
  "vscode": {
   "interpreter": {
    "hash": "461f5957f6160bb42a7783dc1aad772beed658104c0595b6c8a0bf09937b397e"
   }
  }
 },
 "nbformat": 4,
 "nbformat_minor": 5
}
