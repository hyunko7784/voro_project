{
  "cells": [
    {
      "cell_type": "markdown",
      "metadata": {
        "id": "M0LtMLjSg7yE"
      },
      "source": [
        "#List of vendors and price"
      ]
    },
    {
      "cell_type": "code",
      "execution_count": 1,
      "metadata": {
        "id": "vy9zsGMsWsSD"
      },
      "outputs": [],
      "source": [
        "vendor_sku={'Dualtron': ['DUALTRON-VICTOR-LUXURY',\n",
        "  'DUALTRON-ULTRA-2',\n",
        "  'DUALTRON-STORM',\n",
        "  'DUALTRON-ACHILLEUS',\n",
        "  'DUALTRON-MINI',\n",
        "  'DUALTRON-X-LIMITED',\n",
        "  'DUALTRON-CITY',\n",
        "  'DUALTRON-THUNDER2',\n",
        "  'DUALTRON-SPIDER-2',\n",
        "  'DUALTRON-STORM-LIMITED',\n",
        "  'DUALTRON-THUNDER',\n",
        "  'DUALTRON-EAGLE-PRO',\n",
        "  'DUALTRON-X2',\n",
        "  'DUALTRON-VICTOR'],\n",
        " 'FIIDO': ['FIIDO-Q1S-BLACK',\n",
        "  'FIIDO-Q1-BLACK',\n",
        "  'FIIDO-Q1S-GREEN'],\n",
        " 'Kaabo': ['KAABO-WOLF-WARRIOR-GT-STREET',\n",
        "  'KAABO-MANTIS-KING-GT-BLACK',\n",
        "  'KAABO-MANTIS-KING-GT-GOLD',\n",
        "  'WKGT-GOLD-STREET',\n",
        "  'WKGT-BLACK-STREET',\n",
        "  'WKGT-BLACK-OFFROAD',\n",
        "  'WKGT-GOLD-OFFROAD',\n",
        "  'WKGT-GOLD-RACING',\n",
        "  'KAABO-WOLF-WARRIOR-GT-OFF-ROAD',\n",
        "  'BLACK-KAABO-OFFROAD-WOLF-KING',\n",
        "  'KAABO-WOLF-KING',\n",
        "  'BLACK-KAABO-WOLF-KING',\n",
        "  'KAABO-OFFROAD-WOLF-KING',\n",
        "  'GOLD-KAABO-OFFROAD-WOLF-KING',\n",
        "  'GOLD-KAABO-WOLF-KING',\n",
        "  'KAABO-MANTISPRO-GOLD-18.2AH',\n",
        "  'KAABO-MANTISPRO-BLACK-18.2AH',\n",
        "  'KAABO-MANTISPRO-GOLD-24AH',\n",
        "  'KAABO-MANTISPRO-BLACK-24AH',\n",
        "  'KAABO-MANTISPRO-GOLD'],\n",
        " 'EMOVE': ['CRUISER-BLUE',\n",
        "  'EMOVE-ROADRUNNER',\n",
        "  'CRUISER-ORANGE',\n",
        "  'CRUISER-RED',\n",
        "  'CRUISER-BLACK',\n",
        "  'CRUISER-PURPLE',\n",
        "  'CRUISER-WHITE',\n",
        "  'CRUISER-YELLOW',\n",
        "  'TOURING-BLACK',\n",
        "  'TOURING-ORANGE',\n",
        "  'TOURING-PURPLE',\n",
        "  'TOURING-RED',\n",
        "  'TOURING-WHITE',\n",
        "  'EMOVE-ROADRUNNER-TRONIC']}"
      ]
    },
    {
      "cell_type": "code",
      "execution_count": 2,
      "metadata": {
        "id": "eKOSTnFyXW2z"
      },
      "outputs": [],
      "source": [
        "\n",
        "var_price=\\\n",
        "{'DUALTRON-VICTOR-LUXURY': 2995.0,\n",
        " 'FIIDO-Q1S-BLACK': 899.0,\n",
        " 'KAABO-WOLF-WARRIOR-GT-STREET': 3195.0,\n",
        " 'DUALTRON-ULTRA-2': 3990.0,\n",
        " 'FIIDO-Q1-BLACK': 599.0,\n",
        " 'FIIDO-Q1S-GREEN': 799.0,\n",
        " 'DUALTRON-STORM': 4490.0,\n",
        " 'CRUISER-BLUE': 1499.0,\n",
        " 'KAABO-MANTIS-KING-GT-BLACK': 2495.0,\n",
        " 'KAABO-MANTIS-KING-GT-GOLD': 2495.0,\n",
        " 'DUALTRON-ACHILLEUS': 3599.0,\n",
        " 'DUALTRON-MINI': 1499.0,\n",
        " 'DUALTRON-X-LIMITED': 6995.0,\n",
        " 'DUALTRON-CITY': 3399.0,\n",
        " 'EMOVE-ROADRUNNER': 1695.0,\n",
        " 'WKGT-GOLD-STREET': 3595.0,\n",
        " 'WKGT-BLACK-STREET': 3595.0,\n",
        " 'WKGT-BLACK-OFFROAD': 3595.0,\n",
        " 'WKGT-GOLD-OFFROAD': 3595.0,\n",
        " 'WKGT-GOLD-RACING': 3595.0,\n",
        " 'CRUISER-ORANGE': 1399.0,\n",
        " 'CRUISER-RED': 1399.0,\n",
        " 'CRUISER-BLACK': 1399.0,\n",
        " 'CRUISER-PURPLE': 1399.0,\n",
        " 'CRUISER-WHITE': 1399.0,\n",
        " 'CRUISER-YELLOW': 1399.0,\n",
        " 'DUALTRON-THUNDER2': 4299.0,\n",
        " 'DUALTRON-SPIDER-2': 2699.0,\n",
        " 'TOURING-BLACK': 899.0,\n",
        " 'TOURING-ORANGE': 899.0,\n",
        " 'TOURING-PURPLE': 899.0,\n",
        " 'TOURING-RED': 899.0,\n",
        " 'TOURING-WHITE': 899.0,\n",
        " 'DUALTRON-STORM-LIMITED': 5399.0,\n",
        " 'DUALTRON-THUNDER': 3499.0,\n",
        " 'DUALTRON-EAGLE-PRO': 2290.0,\n",
        " 'DUALTRON-X2': 6490.0,\n",
        " 'FIIDO-Q1': 599.0,\n",
        " 'FIIDO-Q1S': 899.0,\n",
        " 'EMOVE-ROADRUNNER-TRONIC': 4500.0,\n",
        " 'KAABO-WOLF-WARRIOR-GT-OFF-ROAD': 3195.0,\n",
        " 'BLACK-KAABO-OFFROAD-WOLF-KING': 2999.0,\n",
        " 'KAABO-WOLF-KING': 2999.0,\n",
        " 'BLACK-KAABO-WOLF-KING': 2999.0,\n",
        " 'KAABO-OFFROAD-WOLF-KING': 2999.0,\n",
        " 'GOLD-KAABO-OFFROAD-WOLF-KING': 2999.0,\n",
        " 'GOLD-KAABO-WOLF-KING': 2999.0,\n",
        " 'KAABO-MANTISPRO-GOLD-18.2AH': 1799.0,\n",
        " 'KAABO-MANTISPRO-BLACK-18.2AH': 1695.0,\n",
        " 'KAABO-MANTISPRO-GOLD-24AH': 2299.0,\n",
        " 'KAABO-MANTISPRO-BLACK-24AH': 1995.0,\n",
        " 'KAABO-MANTISPRO-GOLD': 1899.0,\n",
        " 'DUALTRON-VICTOR': 2699.0}"
      ]
    },
    {
      "cell_type": "markdown",
      "metadata": {
        "id": "VqiJftCOhA_h"
      },
      "source": [
        "#Functions"
      ]
    },
    {
      "cell_type": "code",
      "execution_count": 3,
      "metadata": {
        "colab": {
          "base_uri": "https://localhost:8080/"
        },
        "id": "scb3zMbnXdBi",
        "outputId": "be9951eb-7333-4da9-f84f-b24223d19465"
      },
      "outputs": [
        {
          "ename": "ModuleNotFoundError",
          "evalue": "No module named 'google'",
          "output_type": "error",
          "traceback": [
            "\u001b[1;31m---------------------------------------------------------------------------\u001b[0m",
            "\u001b[1;31mModuleNotFoundError\u001b[0m                       Traceback (most recent call last)",
            "\u001b[1;32mc:\\Users\\hyunk\\Downloads\\DemandFunctions.ipynb Cell 5'\u001b[0m in \u001b[0;36m<cell line: 1>\u001b[1;34m()\u001b[0m\n\u001b[1;32m----> <a href='vscode-notebook-cell:/c%3A/Users/hyunk/Downloads/DemandFunctions.ipynb#W4sZmlsZQ%3D%3D?line=0'>1</a>\u001b[0m \u001b[39mfrom\u001b[39;00m \u001b[39mgoogle\u001b[39;00m\u001b[39m.\u001b[39;00m\u001b[39mcolab\u001b[39;00m \u001b[39mimport\u001b[39;00m drive\n\u001b[0;32m      <a href='vscode-notebook-cell:/c%3A/Users/hyunk/Downloads/DemandFunctions.ipynb#W4sZmlsZQ%3D%3D?line=1'>2</a>\u001b[0m drive\u001b[39m.\u001b[39mmount(\u001b[39m'\u001b[39m\u001b[39m/content/drive\u001b[39m\u001b[39m'\u001b[39m)\n",
            "\u001b[1;31mModuleNotFoundError\u001b[0m: No module named 'google'"
          ]
        }
      ],
      "source": [
        "from google.colab import drive\n",
        "drive.mount('/content/drive')"
      ]
    },
    {
      "cell_type": "code",
      "execution_count": null,
      "metadata": {
        "id": "YAQ-IEiFT9J9"
      },
      "outputs": [],
      "source": [
        "import pandas as pd\n",
        "import numpy as np"
      ]
    },
    {
      "cell_type": "code",
      "execution_count": null,
      "metadata": {
        "id": "K7tF1F36Xdgl"
      },
      "outputs": [],
      "source": [
        "df=pd.read_csv('/content/drive/MyDrive/Product Demand/sales_df.csv')"
      ]
    },
    {
      "cell_type": "code",
      "execution_count": null,
      "metadata": {
        "id": "cnTiuhI9XsKR"
      },
      "outputs": [],
      "source": [
        "df=df.iloc[:,1:]"
      ]
    },
    {
      "cell_type": "code",
      "execution_count": null,
      "metadata": {
        "id": "Kx5GYb-3wkqD"
      },
      "outputs": [],
      "source": [
        "df['day']=pd.to_datetime(df['day'])"
      ]
    },
    {
      "cell_type": "code",
      "execution_count": null,
      "metadata": {
        "id": "NJieghgc2fCi"
      },
      "outputs": [],
      "source": [
        "regions=df['shipping_region'].unique()\n"
      ]
    },
    {
      "cell_type": "markdown",
      "metadata": {
        "id": "6kjufs1knceq"
      },
      "source": [
        "##Concat DF"
      ]
    },
    {
      "cell_type": "code",
      "execution_count": null,
      "metadata": {
        "id": "vBL2nfbjpoib"
      },
      "outputs": [],
      "source": [
        "def create_predict(start,end,vendor,sku,region,price=False,Manual=False):\n",
        "  df=pd.DataFrame(pd.date_range(start,end),columns=['day'])\n",
        "  df['product_vendor']=vendor\n",
        "  df['variant_sku']=sku\n",
        "  if region not in regions:\n",
        "    return \n",
        "  df['shipping_region']=region\n",
        "  if Manual:\n",
        "    price = float(input(\"Enter price for \"+ str(sku)+ \":\") or False)\n",
        "  if not price:\n",
        "    price=var_price[sku]\n",
        "  df['product_price']=price\n",
        "  return df"
      ]
    },
    {
      "cell_type": "code",
      "execution_count": null,
      "metadata": {
        "id": "2EejWqXY44jN"
      },
      "outputs": [],
      "source": [
        "#Add to dictionary vendor and sku\n",
        "def add_to_d(d,vendor,sku):\n",
        "  try:\n",
        "    if sku not in d[vendor]:\n",
        "      d.setdefault( vendor, [] ).append( sku )\n",
        "  except:\n",
        "    d.setdefault( vendor, [] ).append( sku )\n",
        "  return d\n",
        "\n",
        "#remove from dictionary\n",
        "def remove_from_d(d,vendor=False,sku=False):\n",
        "  if vendor and not sku:\n",
        "    del d[vendor]\n",
        "    return d\n",
        "  elif vendor and sku:\n",
        "    d[vendor].remove(sku)\n",
        "    if not d[vendor]:\n",
        "      del d[vendor]\n",
        "    return d\n",
        "  else:\n",
        "    return"
      ]
    },
    {
      "cell_type": "code",
      "execution_count": null,
      "metadata": {
        "id": "NzzNfDZx4yx5"
      },
      "outputs": [],
      "source": [
        "#Create and combine dfs to predict from dictionary\n",
        "def create_df(start,end,region,d):\n",
        "  x=pd.DataFrame()\n",
        "  for vendor in d:\n",
        "    for sku in d[vendor]:\n",
        "      x=pd.concat([x,create_predict(start,end,vendor,sku,region)])\n",
        "  return x"
      ]
    },
    {
      "cell_type": "code",
      "execution_count": null,
      "metadata": {
        "id": "YIGLbRb4mgfd"
      },
      "outputs": [],
      "source": [
        "#Combine pred_df and original\n",
        "def concat_df(df,to_pred):\n",
        "  df['to_pred']=False\n",
        "  to_pred['to_pred']=True\n",
        "  return pd.concat([df,to_pred]).sort_values('day')"
      ]
    },
    {
      "cell_type": "markdown",
      "metadata": {
        "id": "lNI4cwCYnebc"
      },
      "source": [
        "##Color Model Separation"
      ]
    },
    {
      "cell_type": "code",
      "execution_count": null,
      "metadata": {
        "colab": {
          "base_uri": "https://localhost:8080/"
        },
        "id": "WvcAC9zHoT1Q",
        "outputId": "4ed56a22-bdac-40ac-dd4c-a23b2b476f46"
      },
      "outputs": [
        {
          "name": "stdout",
          "output_type": "stream",
          "text": [
            "Looking in indexes: https://pypi.org/simple, https://us-python.pkg.dev/colab-wheels/public/simple/\n",
            "Requirement already satisfied: colour in /usr/local/lib/python3.7/dist-packages (0.1.5)\n"
          ]
        }
      ],
      "source": [
        "pip install colour"
      ]
    },
    {
      "cell_type": "code",
      "execution_count": null,
      "metadata": {
        "id": "AQSV2YV3oRcZ"
      },
      "outputs": [],
      "source": [
        "from colour import Color\n",
        "def check_color(color):\n",
        "    try:\n",
        "        Color(color)\n",
        "        return True\n",
        "    except ValueError:\n",
        "        return False\n",
        "def get_color(s):\n",
        "  color = [i for i in s.split('-') if check_color(i) ]\n",
        "  return color[0]\n",
        "\n",
        "def get_model(s):\n",
        "  model = [i for i in s.split('-') if not check_color(i)]\n",
        "  return '-'.join(model)\n",
        "\n",
        "def get_color_ser(s):\n",
        "  try:\n",
        "    return get_color(s)\n",
        "  except:\n",
        "    return np.nan"
      ]
    },
    {
      "cell_type": "code",
      "execution_count": null,
      "metadata": {
        "id": "0YRi-cY3rF-8"
      },
      "outputs": [],
      "source": [
        "#Color Model Separation function\n",
        "def sep_col(df):\n",
        "  df['color']=df['variant_sku'].apply(get_color_ser)\n",
        "  #create model column\n",
        "  df['model']=df['variant_sku'].apply(get_model)\n",
        "  #fill na of color (Dualtron sku don't have color, assumiong all black)\n",
        "  df['color'].fillna('BLACK',inplace=True)\n",
        "  return df"
      ]
    },
    {
      "cell_type": "markdown",
      "metadata": {
        "id": "mY6K3UUEvsC5"
      },
      "source": [
        "##Date dependant features"
      ]
    },
    {
      "cell_type": "code",
      "execution_count": null,
      "metadata": {
        "id": "3yyxwtIqweRg"
      },
      "outputs": [],
      "source": [
        "from pandas.tseries.holiday import USFederalHolidayCalendar as calendar"
      ]
    },
    {
      "cell_type": "code",
      "execution_count": null,
      "metadata": {
        "id": "25VivGpt04R5"
      },
      "outputs": [],
      "source": [
        "#get date features\n",
        "def date_convert(df):\n",
        "  df['dayofmonth'] = df.day.dt.day\n",
        "  df['dayofyear'] = df.day.dt.dayofyear\n",
        "  df['dayofweek'] = df.day.dt.dayofweek\n",
        "  df['month'] = df.day.dt.month\n",
        "  df['year'] = df.day.dt.year\n",
        "  df['weekofyear'] = df.day.dt.weekofyear\n",
        "  df['is_month_start'] = (df.day.dt.is_month_start).astype(int)\n",
        "  df['is_month_end'] = (df.day.dt.is_month_end).astype(int)\n",
        "\n",
        "  #holiday dates\n",
        "  cal = calendar()\n",
        "  holidays = cal.holidays(start=df.day.min(), end=df.day.max())\n",
        "  df['is_holiday']=df['day'].isin(holidays)\n",
        "  return df"
      ]
    },
    {
      "cell_type": "code",
      "execution_count": null,
      "metadata": {
        "id": "r7fX00wj0_ZI"
      },
      "outputs": [],
      "source": [
        "#function to add lag to sales\n",
        "def sales_lag(df, group_col, target, lags):\n",
        "  gb=df.groupby(group_col)\n",
        "  for lag in lags:\n",
        "    df['_'.join([target,'lag',str(lag)])]=\\\n",
        "    gb[target].shift(lag).values +\\\n",
        "     np.random.normal(scale=1.6,size=len(df))\n",
        "  return df\n",
        "\n",
        "#Function to calculate rolling mean of window\n",
        "def create_rmean(df,group_col, target, windows, min_periods=2, \n",
        "                             shift=1, win_type=None):\n",
        "  gb = df.groupby(group_col)\n",
        "  for w in windows:\n",
        "      df['_'.join([target, 'rmean', str(w)])] = \\\n",
        "      gb[target].shift(shift).rolling(window=w, \n",
        "                                                min_periods=min_periods,\n",
        "                                                win_type=win_type).mean().values +\\\n",
        "          np.random.normal(scale=1.6, size=(len(df),))\n",
        "  return df\n",
        "\n",
        "#function to calculate exponential weighted mean\n",
        "def create_ewm(df, group_col, target, alpha=[0.9],shift=[1]):\n",
        "  gb=gb = df.groupby(group_col)\n",
        "  for a in alpha:\n",
        "    for s in shift:\n",
        "      df['_'.join([target,'lag',str(s),'alpha',str(a)])]=\\\n",
        "      gb[target].shift(s).ewm(alpha=a).mean().values\n",
        "  return df\n",
        "\n",
        "#function to do One Hot Encoding\n",
        "def one_hot_encoder(df, ohe_cols=['product_vendor','variant_sku','dayofmonth','dayofweek','month','weekofyear','dayofmonth']):\n",
        "#def one_hot_encoder(df, ohe_cols=['product_vendor','product_title','dayofmonth','dayofweek','month','weekofyear']):\n",
        "  print('Shape of DataFrame before OHE: {}'.format(df.shape))\n",
        "  df=pd.get_dummies(df,columns=ohe_cols)\n",
        "  print('Shape of DataFrame after OHE: {}'.format(df.shape))\n",
        "  return df"
      ]
    },
    {
      "cell_type": "code",
      "execution_count": null,
      "metadata": {
        "id": "TRY1bk2FnMlu"
      },
      "outputs": [],
      "source": [
        "def feature_engineering(df,new_df):\n",
        "  new_df1=new_df.copy()\n",
        "  comb=concat_df(df,new_df)\n",
        "  comb=sep_col(comb)\n",
        "  comb=date_convert(comb)\n",
        "  #get lag\n",
        "  comb=sales_lag(comb,group_col=['product_vendor','model','color'],target='net_quantity',lags=[1,3,7])\n",
        "  #get rmean\n",
        "  comb=create_rmean(comb,group_col=['product_vendor','model','color'],target='net_quantity',windows=[7,30],win_type='triang')\n",
        "  #get ewm\n",
        "  comb=create_ewm(comb,group_col=['product_vendor','model','color'],target='net_quantity',alpha=[0.95, 0.9, 0.8, 0.7, 0.6, 0.5, 0.3],shift=[1,3,7])\n",
        "  #Do one hot encoding\n",
        "  comb=one_hot_encoder(comb,ohe_cols=['product_vendor','dayofweek','month','model','color','shipping_region'])\n",
        "  #split\n",
        "  new_df=comb[comb['to_pred']==True]\n",
        "  #drop variant and to_pred\n",
        "  return new_df.drop(columns=['day','variant_sku','to_pred','net_quantity','to_pred']),new_df1"
      ]
    },
    {
      "cell_type": "code",
      "execution_count": null,
      "metadata": {
        "id": "zfHr0aC3Cgzi"
      },
      "outputs": [],
      "source": [
        "import xgboost as xgb\n",
        "model_xgb_2 = xgb.Booster()\n",
        "model_xgb_2.load_model(\"/content/drive/MyDrive/Product Demand/demand_model.json\")\n",
        "def pred(df,new_df):\n",
        "  a,b=feature_engineering(df,new_df)\n",
        "  xga=xgb.DMatrix(data=a)\n",
        "  b['pred']=model_xgb_2.predict(xga)\n",
        "  b['pred']=np.expm1(b['pred'])\n",
        "  return b"
      ]
    },
    {
      "cell_type": "code",
      "execution_count": null,
      "metadata": {
        "id": "UcXvvxT1Clfy"
      },
      "outputs": [],
      "source": [
        "import plotly.express as px"
      ]
    },
    {
      "cell_type": "code",
      "execution_count": null,
      "metadata": {
        "id": "Lh_XFptnCj5T"
      },
      "outputs": [],
      "source": [
        "def to_display(df,cumulative=False,resample=False):\n",
        "  if resample:\n",
        "    df=df.set_index('day').groupby(['product_vendor','variant_sku','shipping_region']).resample(resample).sum()\n",
        "    df=df.reset_index()\n",
        "  df['pred']=np.round(df['pred'])\n",
        "  title=df['shipping_region'][0]\n",
        "  if not cumulative:\n",
        "    fig=px.line(df,x='day',y='pred',color='variant_sku',\n",
        "                labels=dict(day=\"Date\", pred=\"Amount\", variant_sku=\"Variant\"))\n",
        "    fig.update_xaxes(\n",
        "      dtick=\"M1\",\n",
        "      tickformat=\"%b\\n%Y\"\n",
        "      ,ticklabelmode=\"period\",\n",
        "      title=title)\n",
        "    fig.show()\n",
        "  else:\n",
        "    df['Cumulative']=df.groupby(['product_vendor','variant_sku'])['pred'].transform(pd.Series.cumsum)\n",
        "    fig=px.line(df,x='day',y='Cumulative',color='variant_sku',\n",
        "                labels=dict(day=\"Date\", Cumulative=\"Cumulative Amount\", variant_sku=\"Variant\"))\n",
        "    fig.update_xaxes(\n",
        "      dtick=\"M1\",\n",
        "      tickformat=\"%b\\n%Y\"\n",
        "      ,ticklabelmode=\"period\",\n",
        "      title=title)\n",
        "  \n",
        "    fig.show()\n",
        "  new_df=df.set_index(['product_vendor','variant_sku','day']).sort_index()\n",
        "  display(new_df)"
      ]
    },
    {
      "cell_type": "code",
      "execution_count": null,
      "metadata": {
        "id": "_WyXvvdzBurN"
      },
      "outputs": [],
      "source": [
        "d={}"
      ]
    },
    {
      "cell_type": "code",
      "execution_count": null,
      "metadata": {
        "colab": {
          "base_uri": "https://localhost:8080/"
        },
        "id": "_9o34Tgnq-a_",
        "outputId": "b496e994-2370-43fe-f2af-91e824b5944b"
      },
      "outputs": [
        {
          "data": {
            "text/plain": [
              "{'Dualtron': ['DUALTRON-CITY']}"
            ]
          },
          "execution_count": 347,
          "metadata": {},
          "output_type": "execute_result"
        }
      ],
      "source": [
        "d=add_to_d(d,'Dualtron','DUALTRON-CITY')\n",
        "d"
      ]
    },
    {
      "cell_type": "code",
      "execution_count": null,
      "metadata": {
        "colab": {
          "base_uri": "https://localhost:8080/"
        },
        "id": "OO3Y5AInOXxa",
        "outputId": "c0e7e0a0-6fae-42d7-adc5-3314a09807c4"
      },
      "outputs": [
        {
          "data": {
            "text/plain": [
              "{'Dualtron': ['DUALTRON-CITY'], 'EMOVE': ['CRUISER-BLACK']}"
            ]
          },
          "execution_count": 348,
          "metadata": {},
          "output_type": "execute_result"
        }
      ],
      "source": [
        "d=add_to_d(d,'EMOVE','CRUISER-BLACK')\n",
        "d"
      ]
    },
    {
      "cell_type": "code",
      "execution_count": null,
      "metadata": {
        "colab": {
          "base_uri": "https://localhost:8080/"
        },
        "id": "GsgcM3CdPjxh",
        "outputId": "74305bd0-cafd-4c0f-bc17-f149ddf4bc9f"
      },
      "outputs": [
        {
          "data": {
            "text/plain": [
              "{'Dualtron': ['DUALTRON-CITY']}"
            ]
          },
          "execution_count": 349,
          "metadata": {},
          "output_type": "execute_result"
        }
      ],
      "source": [
        "d=remove_from_d(d,'EMOVE','CRUISER-BLACK')\n",
        "d"
      ]
    },
    {
      "cell_type": "code",
      "execution_count": null,
      "metadata": {
        "colab": {
          "base_uri": "https://localhost:8080/"
        },
        "id": "zjP3NXf80Dig",
        "outputId": "ec3bdc34-4473-482d-8c36-f207540e48a0"
      },
      "outputs": [
        {
          "data": {
            "text/plain": [
              "{'Dualtron': ['DUALTRON-CITY'], 'EMOVE': ['CRUISER-BLACK']}"
            ]
          },
          "execution_count": 350,
          "metadata": {},
          "output_type": "execute_result"
        }
      ],
      "source": [
        "d=add_to_d(d,'EMOVE','CRUISER-BLACK')\n",
        "d"
      ]
    },
    {
      "cell_type": "code",
      "execution_count": null,
      "metadata": {
        "colab": {
          "base_uri": "https://localhost:8080/"
        },
        "id": "znPkSnXB2zdZ",
        "outputId": "fb69c8e4-0ad6-45e5-e39f-3b0f351bc280"
      },
      "outputs": [
        {
          "data": {
            "text/plain": [
              "{'Dualtron': ['DUALTRON-CITY'],\n",
              " 'EMOVE': ['CRUISER-BLACK'],\n",
              " 'Kaabo': ['KAABO-MANTISPRO-BLACK-24AH']}"
            ]
          },
          "execution_count": 351,
          "metadata": {},
          "output_type": "execute_result"
        }
      ],
      "source": [
        "d=add_to_d(d,'Kaabo','KAABO-MANTISPRO-BLACK-24AH')\n",
        "d\n"
      ]
    },
    {
      "cell_type": "code",
      "execution_count": null,
      "metadata": {
        "colab": {
          "base_uri": "https://localhost:8080/",
          "height": 424
        },
        "id": "tmDP6DEzM8sH",
        "outputId": "2a72f95f-a180-4773-d62f-0ba86da6e978"
      },
      "outputs": [
        {
          "data": {
            "text/html": [
              "\n",
              "  <div id=\"df-b9213a11-7adf-457d-b450-8b21f85467b3\">\n",
              "    <div class=\"colab-df-container\">\n",
              "      <div>\n",
              "<style scoped>\n",
              "    .dataframe tbody tr th:only-of-type {\n",
              "        vertical-align: middle;\n",
              "    }\n",
              "\n",
              "    .dataframe tbody tr th {\n",
              "        vertical-align: top;\n",
              "    }\n",
              "\n",
              "    .dataframe thead th {\n",
              "        text-align: right;\n",
              "    }\n",
              "</style>\n",
              "<table border=\"1\" class=\"dataframe\">\n",
              "  <thead>\n",
              "    <tr style=\"text-align: right;\">\n",
              "      <th></th>\n",
              "      <th>day</th>\n",
              "      <th>variant_sku</th>\n",
              "      <th>product_vendor</th>\n",
              "      <th>product_price</th>\n",
              "      <th>shipping_region</th>\n",
              "      <th>net_quantity</th>\n",
              "      <th>to_pred</th>\n",
              "    </tr>\n",
              "  </thead>\n",
              "  <tbody>\n",
              "    <tr>\n",
              "      <th>0</th>\n",
              "      <td>2020-09-08</td>\n",
              "      <td>CRUISER-BLACK</td>\n",
              "      <td>EMOVE</td>\n",
              "      <td>1399.0</td>\n",
              "      <td>Wyoming</td>\n",
              "      <td>1</td>\n",
              "      <td>False</td>\n",
              "    </tr>\n",
              "    <tr>\n",
              "      <th>1</th>\n",
              "      <td>2020-04-06</td>\n",
              "      <td>CRUISER-ORANGE</td>\n",
              "      <td>EMOVE</td>\n",
              "      <td>1399.0</td>\n",
              "      <td>Wyoming</td>\n",
              "      <td>1</td>\n",
              "      <td>False</td>\n",
              "    </tr>\n",
              "    <tr>\n",
              "      <th>2</th>\n",
              "      <td>2020-07-03</td>\n",
              "      <td>CRUISER-BLACK</td>\n",
              "      <td>EMOVE</td>\n",
              "      <td>1399.0</td>\n",
              "      <td>Wyoming</td>\n",
              "      <td>2</td>\n",
              "      <td>False</td>\n",
              "    </tr>\n",
              "    <tr>\n",
              "      <th>3</th>\n",
              "      <td>2020-06-09</td>\n",
              "      <td>CRUISER-ORANGE</td>\n",
              "      <td>EMOVE</td>\n",
              "      <td>1399.0</td>\n",
              "      <td>Wyoming</td>\n",
              "      <td>1</td>\n",
              "      <td>False</td>\n",
              "    </tr>\n",
              "    <tr>\n",
              "      <th>4</th>\n",
              "      <td>2022-04-20</td>\n",
              "      <td>CRUISER-WHITE</td>\n",
              "      <td>EMOVE</td>\n",
              "      <td>1399.0</td>\n",
              "      <td>Wyoming</td>\n",
              "      <td>1</td>\n",
              "      <td>False</td>\n",
              "    </tr>\n",
              "    <tr>\n",
              "      <th>...</th>\n",
              "      <td>...</td>\n",
              "      <td>...</td>\n",
              "      <td>...</td>\n",
              "      <td>...</td>\n",
              "      <td>...</td>\n",
              "      <td>...</td>\n",
              "      <td>...</td>\n",
              "    </tr>\n",
              "    <tr>\n",
              "      <th>14169</th>\n",
              "      <td>2021-10-14</td>\n",
              "      <td>CRUISER-BLACK</td>\n",
              "      <td>EMOVE</td>\n",
              "      <td>1399.0</td>\n",
              "      <td>Alabama</td>\n",
              "      <td>1</td>\n",
              "      <td>False</td>\n",
              "    </tr>\n",
              "    <tr>\n",
              "      <th>14170</th>\n",
              "      <td>2021-04-24</td>\n",
              "      <td>KAABO-MANTISPRO-GOLD</td>\n",
              "      <td>Kaabo</td>\n",
              "      <td>1699.0</td>\n",
              "      <td>Alabama</td>\n",
              "      <td>1</td>\n",
              "      <td>False</td>\n",
              "    </tr>\n",
              "    <tr>\n",
              "      <th>14171</th>\n",
              "      <td>2022-04-02</td>\n",
              "      <td>CRUISER-BLACK</td>\n",
              "      <td>EMOVE</td>\n",
              "      <td>1399.0</td>\n",
              "      <td>Alabama</td>\n",
              "      <td>1</td>\n",
              "      <td>False</td>\n",
              "    </tr>\n",
              "    <tr>\n",
              "      <th>14172</th>\n",
              "      <td>2022-04-01</td>\n",
              "      <td>WKGT-BLACK-STREET</td>\n",
              "      <td>Kaabo</td>\n",
              "      <td>3595.0</td>\n",
              "      <td>California</td>\n",
              "      <td>1</td>\n",
              "      <td>False</td>\n",
              "    </tr>\n",
              "    <tr>\n",
              "      <th>14173</th>\n",
              "      <td>2022-07-03</td>\n",
              "      <td>CRUISER-BLACK</td>\n",
              "      <td>EMOVE</td>\n",
              "      <td>1499.0</td>\n",
              "      <td>California</td>\n",
              "      <td>2</td>\n",
              "      <td>False</td>\n",
              "    </tr>\n",
              "  </tbody>\n",
              "</table>\n",
              "<p>14174 rows × 7 columns</p>\n",
              "</div>\n",
              "      <button class=\"colab-df-convert\" onclick=\"convertToInteractive('df-b9213a11-7adf-457d-b450-8b21f85467b3')\"\n",
              "              title=\"Convert this dataframe to an interactive table.\"\n",
              "              style=\"display:none;\">\n",
              "        \n",
              "  <svg xmlns=\"http://www.w3.org/2000/svg\" height=\"24px\"viewBox=\"0 0 24 24\"\n",
              "       width=\"24px\">\n",
              "    <path d=\"M0 0h24v24H0V0z\" fill=\"none\"/>\n",
              "    <path d=\"M18.56 5.44l.94 2.06.94-2.06 2.06-.94-2.06-.94-.94-2.06-.94 2.06-2.06.94zm-11 1L8.5 8.5l.94-2.06 2.06-.94-2.06-.94L8.5 2.5l-.94 2.06-2.06.94zm10 10l.94 2.06.94-2.06 2.06-.94-2.06-.94-.94-2.06-.94 2.06-2.06.94z\"/><path d=\"M17.41 7.96l-1.37-1.37c-.4-.4-.92-.59-1.43-.59-.52 0-1.04.2-1.43.59L10.3 9.45l-7.72 7.72c-.78.78-.78 2.05 0 2.83L4 21.41c.39.39.9.59 1.41.59.51 0 1.02-.2 1.41-.59l7.78-7.78 2.81-2.81c.8-.78.8-2.07 0-2.86zM5.41 20L4 18.59l7.72-7.72 1.47 1.35L5.41 20z\"/>\n",
              "  </svg>\n",
              "      </button>\n",
              "      \n",
              "  <style>\n",
              "    .colab-df-container {\n",
              "      display:flex;\n",
              "      flex-wrap:wrap;\n",
              "      gap: 12px;\n",
              "    }\n",
              "\n",
              "    .colab-df-convert {\n",
              "      background-color: #E8F0FE;\n",
              "      border: none;\n",
              "      border-radius: 50%;\n",
              "      cursor: pointer;\n",
              "      display: none;\n",
              "      fill: #1967D2;\n",
              "      height: 32px;\n",
              "      padding: 0 0 0 0;\n",
              "      width: 32px;\n",
              "    }\n",
              "\n",
              "    .colab-df-convert:hover {\n",
              "      background-color: #E2EBFA;\n",
              "      box-shadow: 0px 1px 2px rgba(60, 64, 67, 0.3), 0px 1px 3px 1px rgba(60, 64, 67, 0.15);\n",
              "      fill: #174EA6;\n",
              "    }\n",
              "\n",
              "    [theme=dark] .colab-df-convert {\n",
              "      background-color: #3B4455;\n",
              "      fill: #D2E3FC;\n",
              "    }\n",
              "\n",
              "    [theme=dark] .colab-df-convert:hover {\n",
              "      background-color: #434B5C;\n",
              "      box-shadow: 0px 1px 3px 1px rgba(0, 0, 0, 0.15);\n",
              "      filter: drop-shadow(0px 1px 2px rgba(0, 0, 0, 0.3));\n",
              "      fill: #FFFFFF;\n",
              "    }\n",
              "  </style>\n",
              "\n",
              "      <script>\n",
              "        const buttonEl =\n",
              "          document.querySelector('#df-b9213a11-7adf-457d-b450-8b21f85467b3 button.colab-df-convert');\n",
              "        buttonEl.style.display =\n",
              "          google.colab.kernel.accessAllowed ? 'block' : 'none';\n",
              "\n",
              "        async function convertToInteractive(key) {\n",
              "          const element = document.querySelector('#df-b9213a11-7adf-457d-b450-8b21f85467b3');\n",
              "          const dataTable =\n",
              "            await google.colab.kernel.invokeFunction('convertToInteractive',\n",
              "                                                     [key], {});\n",
              "          if (!dataTable) return;\n",
              "\n",
              "          const docLinkHtml = 'Like what you see? Visit the ' +\n",
              "            '<a target=\"_blank\" href=https://colab.research.google.com/notebooks/data_table.ipynb>data table notebook</a>'\n",
              "            + ' to learn more about interactive tables.';\n",
              "          element.innerHTML = '';\n",
              "          dataTable['output_type'] = 'display_data';\n",
              "          await google.colab.output.renderOutput(dataTable, element);\n",
              "          const docLink = document.createElement('div');\n",
              "          docLink.innerHTML = docLinkHtml;\n",
              "          element.appendChild(docLink);\n",
              "        }\n",
              "      </script>\n",
              "    </div>\n",
              "  </div>\n",
              "  "
            ],
            "text/plain": [
              "             day           variant_sku product_vendor  product_price  \\\n",
              "0     2020-09-08         CRUISER-BLACK          EMOVE         1399.0   \n",
              "1     2020-04-06        CRUISER-ORANGE          EMOVE         1399.0   \n",
              "2     2020-07-03         CRUISER-BLACK          EMOVE         1399.0   \n",
              "3     2020-06-09        CRUISER-ORANGE          EMOVE         1399.0   \n",
              "4     2022-04-20         CRUISER-WHITE          EMOVE         1399.0   \n",
              "...          ...                   ...            ...            ...   \n",
              "14169 2021-10-14         CRUISER-BLACK          EMOVE         1399.0   \n",
              "14170 2021-04-24  KAABO-MANTISPRO-GOLD          Kaabo         1699.0   \n",
              "14171 2022-04-02         CRUISER-BLACK          EMOVE         1399.0   \n",
              "14172 2022-04-01     WKGT-BLACK-STREET          Kaabo         3595.0   \n",
              "14173 2022-07-03         CRUISER-BLACK          EMOVE         1499.0   \n",
              "\n",
              "      shipping_region  net_quantity  to_pred  \n",
              "0             Wyoming             1    False  \n",
              "1             Wyoming             1    False  \n",
              "2             Wyoming             2    False  \n",
              "3             Wyoming             1    False  \n",
              "4             Wyoming             1    False  \n",
              "...               ...           ...      ...  \n",
              "14169         Alabama             1    False  \n",
              "14170         Alabama             1    False  \n",
              "14171         Alabama             1    False  \n",
              "14172      California             1    False  \n",
              "14173      California             2    False  \n",
              "\n",
              "[14174 rows x 7 columns]"
            ]
          },
          "execution_count": 352,
          "metadata": {},
          "output_type": "execute_result"
        }
      ],
      "source": [
        "df"
      ]
    },
    {
      "cell_type": "code",
      "execution_count": null,
      "metadata": {
        "colab": {
          "base_uri": "https://localhost:8080/"
        },
        "id": "LsO8bhPuM5yP",
        "outputId": "7b7a4f36-a052-42af-d9b3-3af4f750da47"
      },
      "outputs": [
        {
          "data": {
            "text/plain": [
              "{'Dualtron': ['DUALTRON-CITY'],\n",
              " 'EMOVE': ['CRUISER-BLACK', 'CRUISER-ORANGE'],\n",
              " 'Kaabo': ['KAABO-MANTISPRO-BLACK-24AH']}"
            ]
          },
          "execution_count": 353,
          "metadata": {},
          "output_type": "execute_result"
        }
      ],
      "source": [
        "d=add_to_d(d,'EMOVE','CRUISER-ORANGE')\n",
        "d\n"
      ]
    },
    {
      "cell_type": "code",
      "execution_count": null,
      "metadata": {
        "colab": {
          "base_uri": "https://localhost:8080/"
        },
        "id": "NXIT9RduNEYs",
        "outputId": "2688cd53-a0f3-4ec2-d2ee-5c7a052d7fb2"
      },
      "outputs": [
        {
          "data": {
            "text/plain": [
              "{'Dualtron': ['DUALTRON-CITY'],\n",
              " 'EMOVE': ['CRUISER-BLACK', 'CRUISER-ORANGE'],\n",
              " 'Kaabo': ['KAABO-MANTISPRO-BLACK-24AH', 'KAABO-MANTISPRO-GOLD']}"
            ]
          },
          "execution_count": 354,
          "metadata": {},
          "output_type": "execute_result"
        }
      ],
      "source": [
        "d=add_to_d(d,'Kaabo','KAABO-MANTISPRO-GOLD')\n",
        "d"
      ]
    },
    {
      "cell_type": "code",
      "execution_count": null,
      "metadata": {
        "colab": {
          "base_uri": "https://localhost:8080/",
          "height": 424
        },
        "id": "EDMN4kBF1Ta0",
        "outputId": "e21d3627-0246-4654-f0af-74124553eac3"
      },
      "outputs": [
        {
          "data": {
            "text/html": [
              "\n",
              "  <div id=\"df-465fe54e-d992-4a69-aab9-565cc7381966\">\n",
              "    <div class=\"colab-df-container\">\n",
              "      <div>\n",
              "<style scoped>\n",
              "    .dataframe tbody tr th:only-of-type {\n",
              "        vertical-align: middle;\n",
              "    }\n",
              "\n",
              "    .dataframe tbody tr th {\n",
              "        vertical-align: top;\n",
              "    }\n",
              "\n",
              "    .dataframe thead th {\n",
              "        text-align: right;\n",
              "    }\n",
              "</style>\n",
              "<table border=\"1\" class=\"dataframe\">\n",
              "  <thead>\n",
              "    <tr style=\"text-align: right;\">\n",
              "      <th></th>\n",
              "      <th>day</th>\n",
              "      <th>product_vendor</th>\n",
              "      <th>variant_sku</th>\n",
              "      <th>shipping_region</th>\n",
              "      <th>product_price</th>\n",
              "      <th>pred</th>\n",
              "    </tr>\n",
              "  </thead>\n",
              "  <tbody>\n",
              "    <tr>\n",
              "      <th>0</th>\n",
              "      <td>2022-01-01</td>\n",
              "      <td>Dualtron</td>\n",
              "      <td>DUALTRON-CITY</td>\n",
              "      <td>Utah</td>\n",
              "      <td>3399.0</td>\n",
              "      <td>1.836219</td>\n",
              "    </tr>\n",
              "    <tr>\n",
              "      <th>1</th>\n",
              "      <td>2022-01-02</td>\n",
              "      <td>Dualtron</td>\n",
              "      <td>DUALTRON-CITY</td>\n",
              "      <td>Utah</td>\n",
              "      <td>3399.0</td>\n",
              "      <td>2.215352</td>\n",
              "    </tr>\n",
              "    <tr>\n",
              "      <th>2</th>\n",
              "      <td>2022-01-03</td>\n",
              "      <td>Dualtron</td>\n",
              "      <td>DUALTRON-CITY</td>\n",
              "      <td>Utah</td>\n",
              "      <td>3399.0</td>\n",
              "      <td>1.997287</td>\n",
              "    </tr>\n",
              "    <tr>\n",
              "      <th>3</th>\n",
              "      <td>2022-01-04</td>\n",
              "      <td>Dualtron</td>\n",
              "      <td>DUALTRON-CITY</td>\n",
              "      <td>Utah</td>\n",
              "      <td>3399.0</td>\n",
              "      <td>1.060495</td>\n",
              "    </tr>\n",
              "    <tr>\n",
              "      <th>4</th>\n",
              "      <td>2022-01-05</td>\n",
              "      <td>Dualtron</td>\n",
              "      <td>DUALTRON-CITY</td>\n",
              "      <td>Utah</td>\n",
              "      <td>3399.0</td>\n",
              "      <td>2.360454</td>\n",
              "    </tr>\n",
              "    <tr>\n",
              "      <th>...</th>\n",
              "      <td>...</td>\n",
              "      <td>...</td>\n",
              "      <td>...</td>\n",
              "      <td>...</td>\n",
              "      <td>...</td>\n",
              "      <td>...</td>\n",
              "    </tr>\n",
              "    <tr>\n",
              "      <th>361</th>\n",
              "      <td>2022-12-28</td>\n",
              "      <td>Kaabo</td>\n",
              "      <td>KAABO-MANTISPRO-GOLD</td>\n",
              "      <td>Utah</td>\n",
              "      <td>1899.0</td>\n",
              "      <td>1.550996</td>\n",
              "    </tr>\n",
              "    <tr>\n",
              "      <th>362</th>\n",
              "      <td>2022-12-29</td>\n",
              "      <td>Kaabo</td>\n",
              "      <td>KAABO-MANTISPRO-GOLD</td>\n",
              "      <td>Utah</td>\n",
              "      <td>1899.0</td>\n",
              "      <td>1.097600</td>\n",
              "    </tr>\n",
              "    <tr>\n",
              "      <th>363</th>\n",
              "      <td>2022-12-30</td>\n",
              "      <td>Kaabo</td>\n",
              "      <td>KAABO-MANTISPRO-GOLD</td>\n",
              "      <td>Utah</td>\n",
              "      <td>1899.0</td>\n",
              "      <td>1.106925</td>\n",
              "    </tr>\n",
              "    <tr>\n",
              "      <th>364</th>\n",
              "      <td>2022-12-31</td>\n",
              "      <td>Kaabo</td>\n",
              "      <td>KAABO-MANTISPRO-GOLD</td>\n",
              "      <td>Utah</td>\n",
              "      <td>1899.0</td>\n",
              "      <td>1.290974</td>\n",
              "    </tr>\n",
              "    <tr>\n",
              "      <th>365</th>\n",
              "      <td>2023-01-01</td>\n",
              "      <td>Kaabo</td>\n",
              "      <td>KAABO-MANTISPRO-GOLD</td>\n",
              "      <td>Utah</td>\n",
              "      <td>1899.0</td>\n",
              "      <td>1.284635</td>\n",
              "    </tr>\n",
              "  </tbody>\n",
              "</table>\n",
              "<p>1830 rows × 6 columns</p>\n",
              "</div>\n",
              "      <button class=\"colab-df-convert\" onclick=\"convertToInteractive('df-465fe54e-d992-4a69-aab9-565cc7381966')\"\n",
              "              title=\"Convert this dataframe to an interactive table.\"\n",
              "              style=\"display:none;\">\n",
              "        \n",
              "  <svg xmlns=\"http://www.w3.org/2000/svg\" height=\"24px\"viewBox=\"0 0 24 24\"\n",
              "       width=\"24px\">\n",
              "    <path d=\"M0 0h24v24H0V0z\" fill=\"none\"/>\n",
              "    <path d=\"M18.56 5.44l.94 2.06.94-2.06 2.06-.94-2.06-.94-.94-2.06-.94 2.06-2.06.94zm-11 1L8.5 8.5l.94-2.06 2.06-.94-2.06-.94L8.5 2.5l-.94 2.06-2.06.94zm10 10l.94 2.06.94-2.06 2.06-.94-2.06-.94-.94-2.06-.94 2.06-2.06.94z\"/><path d=\"M17.41 7.96l-1.37-1.37c-.4-.4-.92-.59-1.43-.59-.52 0-1.04.2-1.43.59L10.3 9.45l-7.72 7.72c-.78.78-.78 2.05 0 2.83L4 21.41c.39.39.9.59 1.41.59.51 0 1.02-.2 1.41-.59l7.78-7.78 2.81-2.81c.8-.78.8-2.07 0-2.86zM5.41 20L4 18.59l7.72-7.72 1.47 1.35L5.41 20z\"/>\n",
              "  </svg>\n",
              "      </button>\n",
              "      \n",
              "  <style>\n",
              "    .colab-df-container {\n",
              "      display:flex;\n",
              "      flex-wrap:wrap;\n",
              "      gap: 12px;\n",
              "    }\n",
              "\n",
              "    .colab-df-convert {\n",
              "      background-color: #E8F0FE;\n",
              "      border: none;\n",
              "      border-radius: 50%;\n",
              "      cursor: pointer;\n",
              "      display: none;\n",
              "      fill: #1967D2;\n",
              "      height: 32px;\n",
              "      padding: 0 0 0 0;\n",
              "      width: 32px;\n",
              "    }\n",
              "\n",
              "    .colab-df-convert:hover {\n",
              "      background-color: #E2EBFA;\n",
              "      box-shadow: 0px 1px 2px rgba(60, 64, 67, 0.3), 0px 1px 3px 1px rgba(60, 64, 67, 0.15);\n",
              "      fill: #174EA6;\n",
              "    }\n",
              "\n",
              "    [theme=dark] .colab-df-convert {\n",
              "      background-color: #3B4455;\n",
              "      fill: #D2E3FC;\n",
              "    }\n",
              "\n",
              "    [theme=dark] .colab-df-convert:hover {\n",
              "      background-color: #434B5C;\n",
              "      box-shadow: 0px 1px 3px 1px rgba(0, 0, 0, 0.15);\n",
              "      filter: drop-shadow(0px 1px 2px rgba(0, 0, 0, 0.3));\n",
              "      fill: #FFFFFF;\n",
              "    }\n",
              "  </style>\n",
              "\n",
              "      <script>\n",
              "        const buttonEl =\n",
              "          document.querySelector('#df-465fe54e-d992-4a69-aab9-565cc7381966 button.colab-df-convert');\n",
              "        buttonEl.style.display =\n",
              "          google.colab.kernel.accessAllowed ? 'block' : 'none';\n",
              "\n",
              "        async function convertToInteractive(key) {\n",
              "          const element = document.querySelector('#df-465fe54e-d992-4a69-aab9-565cc7381966');\n",
              "          const dataTable =\n",
              "            await google.colab.kernel.invokeFunction('convertToInteractive',\n",
              "                                                     [key], {});\n",
              "          if (!dataTable) return;\n",
              "\n",
              "          const docLinkHtml = 'Like what you see? Visit the ' +\n",
              "            '<a target=\"_blank\" href=https://colab.research.google.com/notebooks/data_table.ipynb>data table notebook</a>'\n",
              "            + ' to learn more about interactive tables.';\n",
              "          element.innerHTML = '';\n",
              "          dataTable['output_type'] = 'display_data';\n",
              "          await google.colab.output.renderOutput(dataTable, element);\n",
              "          const docLink = document.createElement('div');\n",
              "          docLink.innerHTML = docLinkHtml;\n",
              "          element.appendChild(docLink);\n",
              "        }\n",
              "      </script>\n",
              "    </div>\n",
              "  </div>\n",
              "  "
            ],
            "text/plain": [
              "           day product_vendor           variant_sku shipping_region  \\\n",
              "0   2022-01-01       Dualtron         DUALTRON-CITY            Utah   \n",
              "1   2022-01-02       Dualtron         DUALTRON-CITY            Utah   \n",
              "2   2022-01-03       Dualtron         DUALTRON-CITY            Utah   \n",
              "3   2022-01-04       Dualtron         DUALTRON-CITY            Utah   \n",
              "4   2022-01-05       Dualtron         DUALTRON-CITY            Utah   \n",
              "..         ...            ...                   ...             ...   \n",
              "361 2022-12-28          Kaabo  KAABO-MANTISPRO-GOLD            Utah   \n",
              "362 2022-12-29          Kaabo  KAABO-MANTISPRO-GOLD            Utah   \n",
              "363 2022-12-30          Kaabo  KAABO-MANTISPRO-GOLD            Utah   \n",
              "364 2022-12-31          Kaabo  KAABO-MANTISPRO-GOLD            Utah   \n",
              "365 2023-01-01          Kaabo  KAABO-MANTISPRO-GOLD            Utah   \n",
              "\n",
              "     product_price      pred  \n",
              "0           3399.0  1.836219  \n",
              "1           3399.0  2.215352  \n",
              "2           3399.0  1.997287  \n",
              "3           3399.0  1.060495  \n",
              "4           3399.0  2.360454  \n",
              "..             ...       ...  \n",
              "361         1899.0  1.550996  \n",
              "362         1899.0  1.097600  \n",
              "363         1899.0  1.106925  \n",
              "364         1899.0  1.290974  \n",
              "365         1899.0  1.284635  \n",
              "\n",
              "[1830 rows x 6 columns]"
            ]
          },
          "execution_count": 355,
          "metadata": {},
          "output_type": "execute_result"
        }
      ],
      "source": [
        "x"
      ]
    },
    {
      "cell_type": "code",
      "execution_count": null,
      "metadata": {
        "id": "r_rSZMwO4jxC"
      },
      "outputs": [],
      "source": [
        "new_df=create_df('2022-01-01','2023-01-01','Utah',d)"
      ]
    },
    {
      "cell_type": "code",
      "execution_count": null,
      "metadata": {
        "id": "A4H9-3Lc2St5"
      },
      "outputs": [],
      "source": []
    },
    {
      "cell_type": "code",
      "execution_count": null,
      "metadata": {
        "colab": {
          "base_uri": "https://localhost:8080/"
        },
        "id": "qSS187dukZFf",
        "outputId": "276cfda2-ba2b-4be6-c411-a0ef6751c4f0"
      },
      "outputs": [
        {
          "name": "stdout",
          "output_type": "stream",
          "text": [
            "Shape of DataFrame before OHE: (16004, 44)\n",
            "Shape of DataFrame after OHE: (16004, 172)\n"
          ]
        },
        {
          "name": "stderr",
          "output_type": "stream",
          "text": [
            "/usr/local/lib/python3.7/dist-packages/ipykernel_launcher.py:8: FutureWarning:\n",
            "\n",
            "Series.dt.weekofyear and Series.dt.week have been deprecated.  Please use Series.dt.isocalendar().week instead.\n",
            "\n"
          ]
        }
      ],
      "source": [
        "x=pred(df,new_df)"
      ]
    },
    {
      "cell_type": "code",
      "execution_count": null,
      "metadata": {
        "colab": {
          "base_uri": "https://localhost:8080/",
          "height": 980
        },
        "id": "p8Ywm-w3keO1",
        "outputId": "d1018712-d824-4051-da96-8a599d99df93"
      },
      "outputs": [
        {
          "data": {
            "text/html": [
              "<html>\n",
              "<head><meta charset=\"utf-8\" /></head>\n",
              "<body>\n",
              "    <div>            <script src=\"https://cdnjs.cloudflare.com/ajax/libs/mathjax/2.7.5/MathJax.js?config=TeX-AMS-MML_SVG\"></script><script type=\"text/javascript\">if (window.MathJax) {MathJax.Hub.Config({SVG: {font: \"STIX-Web\"}});}</script>                <script type=\"text/javascript\">window.PlotlyConfig = {MathJaxConfig: 'local'};</script>\n",
              "        <script src=\"https://cdn.plot.ly/plotly-2.8.3.min.js\"></script>                <div id=\"c0f2f1a4-0c39-4cb0-b722-d271187e5d9d\" class=\"plotly-graph-div\" style=\"height:525px; width:100%;\"></div>            <script type=\"text/javascript\">                                    window.PLOTLYENV=window.PLOTLYENV || {};                                    if (document.getElementById(\"c0f2f1a4-0c39-4cb0-b722-d271187e5d9d\")) {                    Plotly.newPlot(                        \"c0f2f1a4-0c39-4cb0-b722-d271187e5d9d\",                        [{\"hovertemplate\":\"Variant=DUALTRON-CITY<br>Date=%{x}<br>Amount=%{y}<extra></extra>\",\"legendgroup\":\"DUALTRON-CITY\",\"line\":{\"color\":\"#636efa\",\"dash\":\"solid\"},\"marker\":{\"symbol\":\"circle\"},\"mode\":\"lines\",\"name\":\"DUALTRON-CITY\",\"orientation\":\"v\",\"showlegend\":true,\"x\":[\"2022-01-02T00:00:00\",\"2022-01-09T00:00:00\",\"2022-01-16T00:00:00\",\"2022-01-23T00:00:00\",\"2022-01-30T00:00:00\",\"2022-02-06T00:00:00\",\"2022-02-13T00:00:00\",\"2022-02-20T00:00:00\",\"2022-02-27T00:00:00\",\"2022-03-06T00:00:00\",\"2022-03-13T00:00:00\",\"2022-03-20T00:00:00\",\"2022-03-27T00:00:00\",\"2022-04-03T00:00:00\",\"2022-04-10T00:00:00\",\"2022-04-17T00:00:00\",\"2022-04-24T00:00:00\",\"2022-05-01T00:00:00\",\"2022-05-08T00:00:00\",\"2022-05-15T00:00:00\",\"2022-05-22T00:00:00\",\"2022-05-29T00:00:00\",\"2022-06-05T00:00:00\",\"2022-06-12T00:00:00\",\"2022-06-19T00:00:00\",\"2022-06-26T00:00:00\",\"2022-07-03T00:00:00\",\"2022-07-10T00:00:00\",\"2022-07-17T00:00:00\",\"2022-07-24T00:00:00\",\"2022-07-31T00:00:00\",\"2022-08-07T00:00:00\",\"2022-08-14T00:00:00\",\"2022-08-21T00:00:00\",\"2022-08-28T00:00:00\",\"2022-09-04T00:00:00\",\"2022-09-11T00:00:00\",\"2022-09-18T00:00:00\",\"2022-09-25T00:00:00\",\"2022-10-02T00:00:00\",\"2022-10-09T00:00:00\",\"2022-10-16T00:00:00\",\"2022-10-23T00:00:00\",\"2022-10-30T00:00:00\",\"2022-11-06T00:00:00\",\"2022-11-13T00:00:00\",\"2022-11-20T00:00:00\",\"2022-11-27T00:00:00\",\"2022-12-04T00:00:00\",\"2022-12-11T00:00:00\",\"2022-12-18T00:00:00\",\"2022-12-25T00:00:00\",\"2023-01-01T00:00:00\"],\"xaxis\":\"x\",\"y\":[3.0,10.0,10.0,11.0,10.0,11.0,9.0,10.0,9.0,10.0,10.0,10.0,11.0,10.0,10.0,10.0,8.0,10.0,10.0,9.0,10.0,10.0,9.0,9.0,9.0,10.0,10.0,9.0,10.0,10.0,8.0,9.0,10.0,10.0,10.0,10.0,9.0,8.0,11.0,11.0,11.0,9.0,11.0,10.0,10.0,10.0,10.0,10.0,10.0,9.0,9.0,11.0,9.0],\"yaxis\":\"y\",\"type\":\"scatter\"},{\"hovertemplate\":\"Variant=CRUISER-BLACK<br>Date=%{x}<br>Amount=%{y}<extra></extra>\",\"legendgroup\":\"CRUISER-BLACK\",\"line\":{\"color\":\"#EF553B\",\"dash\":\"solid\"},\"marker\":{\"symbol\":\"circle\"},\"mode\":\"lines\",\"name\":\"CRUISER-BLACK\",\"orientation\":\"v\",\"showlegend\":true,\"x\":[\"2022-01-02T00:00:00\",\"2022-01-09T00:00:00\",\"2022-01-16T00:00:00\",\"2022-01-23T00:00:00\",\"2022-01-30T00:00:00\",\"2022-02-06T00:00:00\",\"2022-02-13T00:00:00\",\"2022-02-20T00:00:00\",\"2022-02-27T00:00:00\",\"2022-03-06T00:00:00\",\"2022-03-13T00:00:00\",\"2022-03-20T00:00:00\",\"2022-03-27T00:00:00\",\"2022-04-03T00:00:00\",\"2022-04-10T00:00:00\",\"2022-04-17T00:00:00\",\"2022-04-24T00:00:00\",\"2022-05-01T00:00:00\",\"2022-05-08T00:00:00\",\"2022-05-15T00:00:00\",\"2022-05-22T00:00:00\",\"2022-05-29T00:00:00\",\"2022-06-05T00:00:00\",\"2022-06-12T00:00:00\",\"2022-06-19T00:00:00\",\"2022-06-26T00:00:00\",\"2022-07-03T00:00:00\",\"2022-07-10T00:00:00\",\"2022-07-17T00:00:00\",\"2022-07-24T00:00:00\",\"2022-07-31T00:00:00\",\"2022-08-07T00:00:00\",\"2022-08-14T00:00:00\",\"2022-08-21T00:00:00\",\"2022-08-28T00:00:00\",\"2022-09-04T00:00:00\",\"2022-09-11T00:00:00\",\"2022-09-18T00:00:00\",\"2022-09-25T00:00:00\",\"2022-10-02T00:00:00\",\"2022-10-09T00:00:00\",\"2022-10-16T00:00:00\",\"2022-10-23T00:00:00\",\"2022-10-30T00:00:00\",\"2022-11-06T00:00:00\",\"2022-11-13T00:00:00\",\"2022-11-20T00:00:00\",\"2022-11-27T00:00:00\",\"2022-12-04T00:00:00\",\"2022-12-11T00:00:00\",\"2022-12-18T00:00:00\",\"2022-12-25T00:00:00\",\"2023-01-01T00:00:00\"],\"xaxis\":\"x\",\"y\":[2.0,10.0,10.0,10.0,10.0,10.0,10.0,10.0,11.0,10.0,11.0,9.0,11.0,9.0,10.0,10.0,10.0,9.0,10.0,10.0,9.0,10.0,9.0,10.0,9.0,10.0,8.0,9.0,8.0,10.0,9.0,9.0,10.0,10.0,9.0,9.0,8.0,10.0,10.0,9.0,9.0,9.0,10.0,8.0,10.0,11.0,9.0,9.0,9.0,8.0,11.0,9.0,10.0],\"yaxis\":\"y\",\"type\":\"scatter\"},{\"hovertemplate\":\"Variant=CRUISER-ORANGE<br>Date=%{x}<br>Amount=%{y}<extra></extra>\",\"legendgroup\":\"CRUISER-ORANGE\",\"line\":{\"color\":\"#00cc96\",\"dash\":\"solid\"},\"marker\":{\"symbol\":\"circle\"},\"mode\":\"lines\",\"name\":\"CRUISER-ORANGE\",\"orientation\":\"v\",\"showlegend\":true,\"x\":[\"2022-01-02T00:00:00\",\"2022-01-09T00:00:00\",\"2022-01-16T00:00:00\",\"2022-01-23T00:00:00\",\"2022-01-30T00:00:00\",\"2022-02-06T00:00:00\",\"2022-02-13T00:00:00\",\"2022-02-20T00:00:00\",\"2022-02-27T00:00:00\",\"2022-03-06T00:00:00\",\"2022-03-13T00:00:00\",\"2022-03-20T00:00:00\",\"2022-03-27T00:00:00\",\"2022-04-03T00:00:00\",\"2022-04-10T00:00:00\",\"2022-04-17T00:00:00\",\"2022-04-24T00:00:00\",\"2022-05-01T00:00:00\",\"2022-05-08T00:00:00\",\"2022-05-15T00:00:00\",\"2022-05-22T00:00:00\",\"2022-05-29T00:00:00\",\"2022-06-05T00:00:00\",\"2022-06-12T00:00:00\",\"2022-06-19T00:00:00\",\"2022-06-26T00:00:00\",\"2022-07-03T00:00:00\",\"2022-07-10T00:00:00\",\"2022-07-17T00:00:00\",\"2022-07-24T00:00:00\",\"2022-07-31T00:00:00\",\"2022-08-07T00:00:00\",\"2022-08-14T00:00:00\",\"2022-08-21T00:00:00\",\"2022-08-28T00:00:00\",\"2022-09-04T00:00:00\",\"2022-09-11T00:00:00\",\"2022-09-18T00:00:00\",\"2022-09-25T00:00:00\",\"2022-10-02T00:00:00\",\"2022-10-09T00:00:00\",\"2022-10-16T00:00:00\",\"2022-10-23T00:00:00\",\"2022-10-30T00:00:00\",\"2022-11-06T00:00:00\",\"2022-11-13T00:00:00\",\"2022-11-20T00:00:00\",\"2022-11-27T00:00:00\",\"2022-12-04T00:00:00\",\"2022-12-11T00:00:00\",\"2022-12-18T00:00:00\",\"2022-12-25T00:00:00\",\"2023-01-01T00:00:00\"],\"xaxis\":\"x\",\"y\":[3.0,10.0,10.0,9.0,12.0,11.0,10.0,9.0,9.0,8.0,8.0,10.0,8.0,9.0,8.0,9.0,9.0,8.0,9.0,9.0,9.0,7.0,9.0,9.0,8.0,11.0,10.0,10.0,10.0,8.0,9.0,8.0,9.0,9.0,9.0,8.0,8.0,9.0,8.0,8.0,9.0,10.0,9.0,8.0,8.0,9.0,8.0,9.0,10.0,9.0,10.0,11.0,7.0],\"yaxis\":\"y\",\"type\":\"scatter\"},{\"hovertemplate\":\"Variant=KAABO-MANTISPRO-BLACK-24AH<br>Date=%{x}<br>Amount=%{y}<extra></extra>\",\"legendgroup\":\"KAABO-MANTISPRO-BLACK-24AH\",\"line\":{\"color\":\"#ab63fa\",\"dash\":\"solid\"},\"marker\":{\"symbol\":\"circle\"},\"mode\":\"lines\",\"name\":\"KAABO-MANTISPRO-BLACK-24AH\",\"orientation\":\"v\",\"showlegend\":true,\"x\":[\"2022-01-02T00:00:00\",\"2022-01-09T00:00:00\",\"2022-01-16T00:00:00\",\"2022-01-23T00:00:00\",\"2022-01-30T00:00:00\",\"2022-02-06T00:00:00\",\"2022-02-13T00:00:00\",\"2022-02-20T00:00:00\",\"2022-02-27T00:00:00\",\"2022-03-06T00:00:00\",\"2022-03-13T00:00:00\",\"2022-03-20T00:00:00\",\"2022-03-27T00:00:00\",\"2022-04-03T00:00:00\",\"2022-04-10T00:00:00\",\"2022-04-17T00:00:00\",\"2022-04-24T00:00:00\",\"2022-05-01T00:00:00\",\"2022-05-08T00:00:00\",\"2022-05-15T00:00:00\",\"2022-05-22T00:00:00\",\"2022-05-29T00:00:00\",\"2022-06-05T00:00:00\",\"2022-06-12T00:00:00\",\"2022-06-19T00:00:00\",\"2022-06-26T00:00:00\",\"2022-07-03T00:00:00\",\"2022-07-10T00:00:00\",\"2022-07-17T00:00:00\",\"2022-07-24T00:00:00\",\"2022-07-31T00:00:00\",\"2022-08-07T00:00:00\",\"2022-08-14T00:00:00\",\"2022-08-21T00:00:00\",\"2022-08-28T00:00:00\",\"2022-09-04T00:00:00\",\"2022-09-11T00:00:00\",\"2022-09-18T00:00:00\",\"2022-09-25T00:00:00\",\"2022-10-02T00:00:00\",\"2022-10-09T00:00:00\",\"2022-10-16T00:00:00\",\"2022-10-23T00:00:00\",\"2022-10-30T00:00:00\",\"2022-11-06T00:00:00\",\"2022-11-13T00:00:00\",\"2022-11-20T00:00:00\",\"2022-11-27T00:00:00\",\"2022-12-04T00:00:00\",\"2022-12-11T00:00:00\",\"2022-12-18T00:00:00\",\"2022-12-25T00:00:00\",\"2023-01-01T00:00:00\"],\"xaxis\":\"x\",\"y\":[2.0,9.0,9.0,9.0,10.0,9.0,9.0,10.0,9.0,8.0,9.0,8.0,8.0,8.0,8.0,7.0,7.0,8.0,8.0,8.0,9.0,8.0,8.0,8.0,8.0,8.0,8.0,8.0,8.0,8.0,8.0,8.0,8.0,8.0,8.0,8.0,8.0,7.0,8.0,8.0,8.0,9.0,8.0,8.0,8.0,8.0,8.0,8.0,8.0,8.0,8.0,8.0,8.0],\"yaxis\":\"y\",\"type\":\"scatter\"},{\"hovertemplate\":\"Variant=KAABO-MANTISPRO-GOLD<br>Date=%{x}<br>Amount=%{y}<extra></extra>\",\"legendgroup\":\"KAABO-MANTISPRO-GOLD\",\"line\":{\"color\":\"#FFA15A\",\"dash\":\"solid\"},\"marker\":{\"symbol\":\"circle\"},\"mode\":\"lines\",\"name\":\"KAABO-MANTISPRO-GOLD\",\"orientation\":\"v\",\"showlegend\":true,\"x\":[\"2022-01-02T00:00:00\",\"2022-01-09T00:00:00\",\"2022-01-16T00:00:00\",\"2022-01-23T00:00:00\",\"2022-01-30T00:00:00\",\"2022-02-06T00:00:00\",\"2022-02-13T00:00:00\",\"2022-02-20T00:00:00\",\"2022-02-27T00:00:00\",\"2022-03-06T00:00:00\",\"2022-03-13T00:00:00\",\"2022-03-20T00:00:00\",\"2022-03-27T00:00:00\",\"2022-04-03T00:00:00\",\"2022-04-10T00:00:00\",\"2022-04-17T00:00:00\",\"2022-04-24T00:00:00\",\"2022-05-01T00:00:00\",\"2022-05-08T00:00:00\",\"2022-05-15T00:00:00\",\"2022-05-22T00:00:00\",\"2022-05-29T00:00:00\",\"2022-06-05T00:00:00\",\"2022-06-12T00:00:00\",\"2022-06-19T00:00:00\",\"2022-06-26T00:00:00\",\"2022-07-03T00:00:00\",\"2022-07-10T00:00:00\",\"2022-07-17T00:00:00\",\"2022-07-24T00:00:00\",\"2022-07-31T00:00:00\",\"2022-08-07T00:00:00\",\"2022-08-14T00:00:00\",\"2022-08-21T00:00:00\",\"2022-08-28T00:00:00\",\"2022-09-04T00:00:00\",\"2022-09-11T00:00:00\",\"2022-09-18T00:00:00\",\"2022-09-25T00:00:00\",\"2022-10-02T00:00:00\",\"2022-10-09T00:00:00\",\"2022-10-16T00:00:00\",\"2022-10-23T00:00:00\",\"2022-10-30T00:00:00\",\"2022-11-06T00:00:00\",\"2022-11-13T00:00:00\",\"2022-11-20T00:00:00\",\"2022-11-27T00:00:00\",\"2022-12-04T00:00:00\",\"2022-12-11T00:00:00\",\"2022-12-18T00:00:00\",\"2022-12-25T00:00:00\",\"2023-01-01T00:00:00\"],\"xaxis\":\"x\",\"y\":[2.0,8.0,8.0,8.0,8.0,8.0,8.0,8.0,8.0,8.0,8.0,8.0,9.0,8.0,8.0,8.0,8.0,8.0,8.0,8.0,8.0,8.0,8.0,8.0,8.0,8.0,8.0,8.0,8.0,8.0,8.0,8.0,9.0,9.0,9.0,8.0,8.0,9.0,9.0,8.0,8.0,9.0,8.0,8.0,8.0,8.0,8.0,8.0,8.0,8.0,8.0,8.0,8.0],\"yaxis\":\"y\",\"type\":\"scatter\"}],                        {\"template\":{\"data\":{\"bar\":[{\"error_x\":{\"color\":\"#2a3f5f\"},\"error_y\":{\"color\":\"#2a3f5f\"},\"marker\":{\"line\":{\"color\":\"#E5ECF6\",\"width\":0.5},\"pattern\":{\"fillmode\":\"overlay\",\"size\":10,\"solidity\":0.2}},\"type\":\"bar\"}],\"barpolar\":[{\"marker\":{\"line\":{\"color\":\"#E5ECF6\",\"width\":0.5},\"pattern\":{\"fillmode\":\"overlay\",\"size\":10,\"solidity\":0.2}},\"type\":\"barpolar\"}],\"carpet\":[{\"aaxis\":{\"endlinecolor\":\"#2a3f5f\",\"gridcolor\":\"white\",\"linecolor\":\"white\",\"minorgridcolor\":\"white\",\"startlinecolor\":\"#2a3f5f\"},\"baxis\":{\"endlinecolor\":\"#2a3f5f\",\"gridcolor\":\"white\",\"linecolor\":\"white\",\"minorgridcolor\":\"white\",\"startlinecolor\":\"#2a3f5f\"},\"type\":\"carpet\"}],\"choropleth\":[{\"colorbar\":{\"outlinewidth\":0,\"ticks\":\"\"},\"type\":\"choropleth\"}],\"contour\":[{\"colorbar\":{\"outlinewidth\":0,\"ticks\":\"\"},\"colorscale\":[[0.0,\"#0d0887\"],[0.1111111111111111,\"#46039f\"],[0.2222222222222222,\"#7201a8\"],[0.3333333333333333,\"#9c179e\"],[0.4444444444444444,\"#bd3786\"],[0.5555555555555556,\"#d8576b\"],[0.6666666666666666,\"#ed7953\"],[0.7777777777777778,\"#fb9f3a\"],[0.8888888888888888,\"#fdca26\"],[1.0,\"#f0f921\"]],\"type\":\"contour\"}],\"contourcarpet\":[{\"colorbar\":{\"outlinewidth\":0,\"ticks\":\"\"},\"type\":\"contourcarpet\"}],\"heatmap\":[{\"colorbar\":{\"outlinewidth\":0,\"ticks\":\"\"},\"colorscale\":[[0.0,\"#0d0887\"],[0.1111111111111111,\"#46039f\"],[0.2222222222222222,\"#7201a8\"],[0.3333333333333333,\"#9c179e\"],[0.4444444444444444,\"#bd3786\"],[0.5555555555555556,\"#d8576b\"],[0.6666666666666666,\"#ed7953\"],[0.7777777777777778,\"#fb9f3a\"],[0.8888888888888888,\"#fdca26\"],[1.0,\"#f0f921\"]],\"type\":\"heatmap\"}],\"heatmapgl\":[{\"colorbar\":{\"outlinewidth\":0,\"ticks\":\"\"},\"colorscale\":[[0.0,\"#0d0887\"],[0.1111111111111111,\"#46039f\"],[0.2222222222222222,\"#7201a8\"],[0.3333333333333333,\"#9c179e\"],[0.4444444444444444,\"#bd3786\"],[0.5555555555555556,\"#d8576b\"],[0.6666666666666666,\"#ed7953\"],[0.7777777777777778,\"#fb9f3a\"],[0.8888888888888888,\"#fdca26\"],[1.0,\"#f0f921\"]],\"type\":\"heatmapgl\"}],\"histogram\":[{\"marker\":{\"pattern\":{\"fillmode\":\"overlay\",\"size\":10,\"solidity\":0.2}},\"type\":\"histogram\"}],\"histogram2d\":[{\"colorbar\":{\"outlinewidth\":0,\"ticks\":\"\"},\"colorscale\":[[0.0,\"#0d0887\"],[0.1111111111111111,\"#46039f\"],[0.2222222222222222,\"#7201a8\"],[0.3333333333333333,\"#9c179e\"],[0.4444444444444444,\"#bd3786\"],[0.5555555555555556,\"#d8576b\"],[0.6666666666666666,\"#ed7953\"],[0.7777777777777778,\"#fb9f3a\"],[0.8888888888888888,\"#fdca26\"],[1.0,\"#f0f921\"]],\"type\":\"histogram2d\"}],\"histogram2dcontour\":[{\"colorbar\":{\"outlinewidth\":0,\"ticks\":\"\"},\"colorscale\":[[0.0,\"#0d0887\"],[0.1111111111111111,\"#46039f\"],[0.2222222222222222,\"#7201a8\"],[0.3333333333333333,\"#9c179e\"],[0.4444444444444444,\"#bd3786\"],[0.5555555555555556,\"#d8576b\"],[0.6666666666666666,\"#ed7953\"],[0.7777777777777778,\"#fb9f3a\"],[0.8888888888888888,\"#fdca26\"],[1.0,\"#f0f921\"]],\"type\":\"histogram2dcontour\"}],\"mesh3d\":[{\"colorbar\":{\"outlinewidth\":0,\"ticks\":\"\"},\"type\":\"mesh3d\"}],\"parcoords\":[{\"line\":{\"colorbar\":{\"outlinewidth\":0,\"ticks\":\"\"}},\"type\":\"parcoords\"}],\"pie\":[{\"automargin\":true,\"type\":\"pie\"}],\"scatter\":[{\"marker\":{\"colorbar\":{\"outlinewidth\":0,\"ticks\":\"\"}},\"type\":\"scatter\"}],\"scatter3d\":[{\"line\":{\"colorbar\":{\"outlinewidth\":0,\"ticks\":\"\"}},\"marker\":{\"colorbar\":{\"outlinewidth\":0,\"ticks\":\"\"}},\"type\":\"scatter3d\"}],\"scattercarpet\":[{\"marker\":{\"colorbar\":{\"outlinewidth\":0,\"ticks\":\"\"}},\"type\":\"scattercarpet\"}],\"scattergeo\":[{\"marker\":{\"colorbar\":{\"outlinewidth\":0,\"ticks\":\"\"}},\"type\":\"scattergeo\"}],\"scattergl\":[{\"marker\":{\"colorbar\":{\"outlinewidth\":0,\"ticks\":\"\"}},\"type\":\"scattergl\"}],\"scattermapbox\":[{\"marker\":{\"colorbar\":{\"outlinewidth\":0,\"ticks\":\"\"}},\"type\":\"scattermapbox\"}],\"scatterpolar\":[{\"marker\":{\"colorbar\":{\"outlinewidth\":0,\"ticks\":\"\"}},\"type\":\"scatterpolar\"}],\"scatterpolargl\":[{\"marker\":{\"colorbar\":{\"outlinewidth\":0,\"ticks\":\"\"}},\"type\":\"scatterpolargl\"}],\"scatterternary\":[{\"marker\":{\"colorbar\":{\"outlinewidth\":0,\"ticks\":\"\"}},\"type\":\"scatterternary\"}],\"surface\":[{\"colorbar\":{\"outlinewidth\":0,\"ticks\":\"\"},\"colorscale\":[[0.0,\"#0d0887\"],[0.1111111111111111,\"#46039f\"],[0.2222222222222222,\"#7201a8\"],[0.3333333333333333,\"#9c179e\"],[0.4444444444444444,\"#bd3786\"],[0.5555555555555556,\"#d8576b\"],[0.6666666666666666,\"#ed7953\"],[0.7777777777777778,\"#fb9f3a\"],[0.8888888888888888,\"#fdca26\"],[1.0,\"#f0f921\"]],\"type\":\"surface\"}],\"table\":[{\"cells\":{\"fill\":{\"color\":\"#EBF0F8\"},\"line\":{\"color\":\"white\"}},\"header\":{\"fill\":{\"color\":\"#C8D4E3\"},\"line\":{\"color\":\"white\"}},\"type\":\"table\"}]},\"layout\":{\"annotationdefaults\":{\"arrowcolor\":\"#2a3f5f\",\"arrowhead\":0,\"arrowwidth\":1},\"autotypenumbers\":\"strict\",\"coloraxis\":{\"colorbar\":{\"outlinewidth\":0,\"ticks\":\"\"}},\"colorscale\":{\"diverging\":[[0,\"#8e0152\"],[0.1,\"#c51b7d\"],[0.2,\"#de77ae\"],[0.3,\"#f1b6da\"],[0.4,\"#fde0ef\"],[0.5,\"#f7f7f7\"],[0.6,\"#e6f5d0\"],[0.7,\"#b8e186\"],[0.8,\"#7fbc41\"],[0.9,\"#4d9221\"],[1,\"#276419\"]],\"sequential\":[[0.0,\"#0d0887\"],[0.1111111111111111,\"#46039f\"],[0.2222222222222222,\"#7201a8\"],[0.3333333333333333,\"#9c179e\"],[0.4444444444444444,\"#bd3786\"],[0.5555555555555556,\"#d8576b\"],[0.6666666666666666,\"#ed7953\"],[0.7777777777777778,\"#fb9f3a\"],[0.8888888888888888,\"#fdca26\"],[1.0,\"#f0f921\"]],\"sequentialminus\":[[0.0,\"#0d0887\"],[0.1111111111111111,\"#46039f\"],[0.2222222222222222,\"#7201a8\"],[0.3333333333333333,\"#9c179e\"],[0.4444444444444444,\"#bd3786\"],[0.5555555555555556,\"#d8576b\"],[0.6666666666666666,\"#ed7953\"],[0.7777777777777778,\"#fb9f3a\"],[0.8888888888888888,\"#fdca26\"],[1.0,\"#f0f921\"]]},\"colorway\":[\"#636efa\",\"#EF553B\",\"#00cc96\",\"#ab63fa\",\"#FFA15A\",\"#19d3f3\",\"#FF6692\",\"#B6E880\",\"#FF97FF\",\"#FECB52\"],\"font\":{\"color\":\"#2a3f5f\"},\"geo\":{\"bgcolor\":\"white\",\"lakecolor\":\"white\",\"landcolor\":\"#E5ECF6\",\"showlakes\":true,\"showland\":true,\"subunitcolor\":\"white\"},\"hoverlabel\":{\"align\":\"left\"},\"hovermode\":\"closest\",\"mapbox\":{\"style\":\"light\"},\"paper_bgcolor\":\"white\",\"plot_bgcolor\":\"#E5ECF6\",\"polar\":{\"angularaxis\":{\"gridcolor\":\"white\",\"linecolor\":\"white\",\"ticks\":\"\"},\"bgcolor\":\"#E5ECF6\",\"radialaxis\":{\"gridcolor\":\"white\",\"linecolor\":\"white\",\"ticks\":\"\"}},\"scene\":{\"xaxis\":{\"backgroundcolor\":\"#E5ECF6\",\"gridcolor\":\"white\",\"gridwidth\":2,\"linecolor\":\"white\",\"showbackground\":true,\"ticks\":\"\",\"zerolinecolor\":\"white\"},\"yaxis\":{\"backgroundcolor\":\"#E5ECF6\",\"gridcolor\":\"white\",\"gridwidth\":2,\"linecolor\":\"white\",\"showbackground\":true,\"ticks\":\"\",\"zerolinecolor\":\"white\"},\"zaxis\":{\"backgroundcolor\":\"#E5ECF6\",\"gridcolor\":\"white\",\"gridwidth\":2,\"linecolor\":\"white\",\"showbackground\":true,\"ticks\":\"\",\"zerolinecolor\":\"white\"}},\"shapedefaults\":{\"line\":{\"color\":\"#2a3f5f\"}},\"ternary\":{\"aaxis\":{\"gridcolor\":\"white\",\"linecolor\":\"white\",\"ticks\":\"\"},\"baxis\":{\"gridcolor\":\"white\",\"linecolor\":\"white\",\"ticks\":\"\"},\"bgcolor\":\"#E5ECF6\",\"caxis\":{\"gridcolor\":\"white\",\"linecolor\":\"white\",\"ticks\":\"\"}},\"title\":{\"x\":0.05},\"xaxis\":{\"automargin\":true,\"gridcolor\":\"white\",\"linecolor\":\"white\",\"ticks\":\"\",\"title\":{\"standoff\":15},\"zerolinecolor\":\"white\",\"zerolinewidth\":2},\"yaxis\":{\"automargin\":true,\"gridcolor\":\"white\",\"linecolor\":\"white\",\"ticks\":\"\",\"title\":{\"standoff\":15},\"zerolinecolor\":\"white\",\"zerolinewidth\":2}}},\"xaxis\":{\"anchor\":\"y\",\"domain\":[0.0,1.0],\"title\":{\"text\":\"Utah\"},\"dtick\":\"M1\",\"tickformat\":\"%b\\n%Y\",\"ticklabelmode\":\"period\"},\"yaxis\":{\"anchor\":\"x\",\"domain\":[0.0,1.0],\"title\":{\"text\":\"Amount\"}},\"legend\":{\"title\":{\"text\":\"Variant\"},\"tracegroupgap\":0},\"margin\":{\"t\":60}},                        {\"responsive\": true}                    ).then(function(){\n",
              "                            \n",
              "var gd = document.getElementById('c0f2f1a4-0c39-4cb0-b722-d271187e5d9d');\n",
              "var x = new MutationObserver(function (mutations, observer) {{\n",
              "        var display = window.getComputedStyle(gd).display;\n",
              "        if (!display || display === 'none') {{\n",
              "            console.log([gd, 'removed!']);\n",
              "            Plotly.purge(gd);\n",
              "            observer.disconnect();\n",
              "        }}\n",
              "}});\n",
              "\n",
              "// Listen for the removal of the full notebook cells\n",
              "var notebookContainer = gd.closest('#notebook-container');\n",
              "if (notebookContainer) {{\n",
              "    x.observe(notebookContainer, {childList: true});\n",
              "}}\n",
              "\n",
              "// Listen for the clearing of the current output cell\n",
              "var outputEl = gd.closest('.output');\n",
              "if (outputEl) {{\n",
              "    x.observe(outputEl, {childList: true});\n",
              "}}\n",
              "\n",
              "                        })                };                            </script>        </div>\n",
              "</body>\n",
              "</html>"
            ]
          },
          "metadata": {},
          "output_type": "display_data"
        },
        {
          "data": {
            "text/html": [
              "\n",
              "  <div id=\"df-5e174336-8c75-4e26-a224-d29e1b7fc08a\">\n",
              "    <div class=\"colab-df-container\">\n",
              "      <div>\n",
              "<style scoped>\n",
              "    .dataframe tbody tr th:only-of-type {\n",
              "        vertical-align: middle;\n",
              "    }\n",
              "\n",
              "    .dataframe tbody tr th {\n",
              "        vertical-align: top;\n",
              "    }\n",
              "\n",
              "    .dataframe thead th {\n",
              "        text-align: right;\n",
              "    }\n",
              "</style>\n",
              "<table border=\"1\" class=\"dataframe\">\n",
              "  <thead>\n",
              "    <tr style=\"text-align: right;\">\n",
              "      <th></th>\n",
              "      <th></th>\n",
              "      <th></th>\n",
              "      <th>shipping_region</th>\n",
              "      <th>product_price</th>\n",
              "      <th>pred</th>\n",
              "    </tr>\n",
              "    <tr>\n",
              "      <th>product_vendor</th>\n",
              "      <th>variant_sku</th>\n",
              "      <th>day</th>\n",
              "      <th></th>\n",
              "      <th></th>\n",
              "      <th></th>\n",
              "    </tr>\n",
              "  </thead>\n",
              "  <tbody>\n",
              "    <tr>\n",
              "      <th rowspan=\"5\" valign=\"top\">Dualtron</th>\n",
              "      <th rowspan=\"5\" valign=\"top\">DUALTRON-CITY</th>\n",
              "      <th>2022-01-02</th>\n",
              "      <td>Utah</td>\n",
              "      <td>6798.0</td>\n",
              "      <td>3.0</td>\n",
              "    </tr>\n",
              "    <tr>\n",
              "      <th>2022-01-09</th>\n",
              "      <td>Utah</td>\n",
              "      <td>23793.0</td>\n",
              "      <td>10.0</td>\n",
              "    </tr>\n",
              "    <tr>\n",
              "      <th>2022-01-16</th>\n",
              "      <td>Utah</td>\n",
              "      <td>23793.0</td>\n",
              "      <td>10.0</td>\n",
              "    </tr>\n",
              "    <tr>\n",
              "      <th>2022-01-23</th>\n",
              "      <td>Utah</td>\n",
              "      <td>23793.0</td>\n",
              "      <td>11.0</td>\n",
              "    </tr>\n",
              "    <tr>\n",
              "      <th>2022-01-30</th>\n",
              "      <td>Utah</td>\n",
              "      <td>23793.0</td>\n",
              "      <td>10.0</td>\n",
              "    </tr>\n",
              "    <tr>\n",
              "      <th>...</th>\n",
              "      <th>...</th>\n",
              "      <th>...</th>\n",
              "      <td>...</td>\n",
              "      <td>...</td>\n",
              "      <td>...</td>\n",
              "    </tr>\n",
              "    <tr>\n",
              "      <th rowspan=\"5\" valign=\"top\">Kaabo</th>\n",
              "      <th rowspan=\"5\" valign=\"top\">KAABO-MANTISPRO-GOLD</th>\n",
              "      <th>2022-12-04</th>\n",
              "      <td>Utah</td>\n",
              "      <td>13293.0</td>\n",
              "      <td>8.0</td>\n",
              "    </tr>\n",
              "    <tr>\n",
              "      <th>2022-12-11</th>\n",
              "      <td>Utah</td>\n",
              "      <td>13293.0</td>\n",
              "      <td>8.0</td>\n",
              "    </tr>\n",
              "    <tr>\n",
              "      <th>2022-12-18</th>\n",
              "      <td>Utah</td>\n",
              "      <td>13293.0</td>\n",
              "      <td>8.0</td>\n",
              "    </tr>\n",
              "    <tr>\n",
              "      <th>2022-12-25</th>\n",
              "      <td>Utah</td>\n",
              "      <td>13293.0</td>\n",
              "      <td>8.0</td>\n",
              "    </tr>\n",
              "    <tr>\n",
              "      <th>2023-01-01</th>\n",
              "      <td>Utah</td>\n",
              "      <td>13293.0</td>\n",
              "      <td>8.0</td>\n",
              "    </tr>\n",
              "  </tbody>\n",
              "</table>\n",
              "<p>265 rows × 3 columns</p>\n",
              "</div>\n",
              "      <button class=\"colab-df-convert\" onclick=\"convertToInteractive('df-5e174336-8c75-4e26-a224-d29e1b7fc08a')\"\n",
              "              title=\"Convert this dataframe to an interactive table.\"\n",
              "              style=\"display:none;\">\n",
              "        \n",
              "  <svg xmlns=\"http://www.w3.org/2000/svg\" height=\"24px\"viewBox=\"0 0 24 24\"\n",
              "       width=\"24px\">\n",
              "    <path d=\"M0 0h24v24H0V0z\" fill=\"none\"/>\n",
              "    <path d=\"M18.56 5.44l.94 2.06.94-2.06 2.06-.94-2.06-.94-.94-2.06-.94 2.06-2.06.94zm-11 1L8.5 8.5l.94-2.06 2.06-.94-2.06-.94L8.5 2.5l-.94 2.06-2.06.94zm10 10l.94 2.06.94-2.06 2.06-.94-2.06-.94-.94-2.06-.94 2.06-2.06.94z\"/><path d=\"M17.41 7.96l-1.37-1.37c-.4-.4-.92-.59-1.43-.59-.52 0-1.04.2-1.43.59L10.3 9.45l-7.72 7.72c-.78.78-.78 2.05 0 2.83L4 21.41c.39.39.9.59 1.41.59.51 0 1.02-.2 1.41-.59l7.78-7.78 2.81-2.81c.8-.78.8-2.07 0-2.86zM5.41 20L4 18.59l7.72-7.72 1.47 1.35L5.41 20z\"/>\n",
              "  </svg>\n",
              "      </button>\n",
              "      \n",
              "  <style>\n",
              "    .colab-df-container {\n",
              "      display:flex;\n",
              "      flex-wrap:wrap;\n",
              "      gap: 12px;\n",
              "    }\n",
              "\n",
              "    .colab-df-convert {\n",
              "      background-color: #E8F0FE;\n",
              "      border: none;\n",
              "      border-radius: 50%;\n",
              "      cursor: pointer;\n",
              "      display: none;\n",
              "      fill: #1967D2;\n",
              "      height: 32px;\n",
              "      padding: 0 0 0 0;\n",
              "      width: 32px;\n",
              "    }\n",
              "\n",
              "    .colab-df-convert:hover {\n",
              "      background-color: #E2EBFA;\n",
              "      box-shadow: 0px 1px 2px rgba(60, 64, 67, 0.3), 0px 1px 3px 1px rgba(60, 64, 67, 0.15);\n",
              "      fill: #174EA6;\n",
              "    }\n",
              "\n",
              "    [theme=dark] .colab-df-convert {\n",
              "      background-color: #3B4455;\n",
              "      fill: #D2E3FC;\n",
              "    }\n",
              "\n",
              "    [theme=dark] .colab-df-convert:hover {\n",
              "      background-color: #434B5C;\n",
              "      box-shadow: 0px 1px 3px 1px rgba(0, 0, 0, 0.15);\n",
              "      filter: drop-shadow(0px 1px 2px rgba(0, 0, 0, 0.3));\n",
              "      fill: #FFFFFF;\n",
              "    }\n",
              "  </style>\n",
              "\n",
              "      <script>\n",
              "        const buttonEl =\n",
              "          document.querySelector('#df-5e174336-8c75-4e26-a224-d29e1b7fc08a button.colab-df-convert');\n",
              "        buttonEl.style.display =\n",
              "          google.colab.kernel.accessAllowed ? 'block' : 'none';\n",
              "\n",
              "        async function convertToInteractive(key) {\n",
              "          const element = document.querySelector('#df-5e174336-8c75-4e26-a224-d29e1b7fc08a');\n",
              "          const dataTable =\n",
              "            await google.colab.kernel.invokeFunction('convertToInteractive',\n",
              "                                                     [key], {});\n",
              "          if (!dataTable) return;\n",
              "\n",
              "          const docLinkHtml = 'Like what you see? Visit the ' +\n",
              "            '<a target=\"_blank\" href=https://colab.research.google.com/notebooks/data_table.ipynb>data table notebook</a>'\n",
              "            + ' to learn more about interactive tables.';\n",
              "          element.innerHTML = '';\n",
              "          dataTable['output_type'] = 'display_data';\n",
              "          await google.colab.output.renderOutput(dataTable, element);\n",
              "          const docLink = document.createElement('div');\n",
              "          docLink.innerHTML = docLinkHtml;\n",
              "          element.appendChild(docLink);\n",
              "        }\n",
              "      </script>\n",
              "    </div>\n",
              "  </div>\n",
              "  "
            ],
            "text/plain": [
              "                                               shipping_region  product_price  \\\n",
              "product_vendor variant_sku          day                                         \n",
              "Dualtron       DUALTRON-CITY        2022-01-02            Utah         6798.0   \n",
              "                                    2022-01-09            Utah        23793.0   \n",
              "                                    2022-01-16            Utah        23793.0   \n",
              "                                    2022-01-23            Utah        23793.0   \n",
              "                                    2022-01-30            Utah        23793.0   \n",
              "...                                                        ...            ...   \n",
              "Kaabo          KAABO-MANTISPRO-GOLD 2022-12-04            Utah        13293.0   \n",
              "                                    2022-12-11            Utah        13293.0   \n",
              "                                    2022-12-18            Utah        13293.0   \n",
              "                                    2022-12-25            Utah        13293.0   \n",
              "                                    2023-01-01            Utah        13293.0   \n",
              "\n",
              "                                                pred  \n",
              "product_vendor variant_sku          day               \n",
              "Dualtron       DUALTRON-CITY        2022-01-02   3.0  \n",
              "                                    2022-01-09  10.0  \n",
              "                                    2022-01-16  10.0  \n",
              "                                    2022-01-23  11.0  \n",
              "                                    2022-01-30  10.0  \n",
              "...                                              ...  \n",
              "Kaabo          KAABO-MANTISPRO-GOLD 2022-12-04   8.0  \n",
              "                                    2022-12-11   8.0  \n",
              "                                    2022-12-18   8.0  \n",
              "                                    2022-12-25   8.0  \n",
              "                                    2023-01-01   8.0  \n",
              "\n",
              "[265 rows x 3 columns]"
            ]
          },
          "metadata": {},
          "output_type": "display_data"
        }
      ],
      "source": [
        "to_display(x,resample='W')\n"
      ]
    },
    {
      "cell_type": "code",
      "execution_count": null,
      "metadata": {
        "id": "-sQKtxBWTNwA"
      },
      "outputs": [],
      "source": []
    }
  ],
  "metadata": {
    "colab": {
      "name": "DemandFunctions.ipynb",
      "provenance": []
    },
    "kernelspec": {
      "display_name": "Python 3.9.13 64-bit",
      "language": "python",
      "name": "python3"
    },
    "language_info": {
      "codemirror_mode": {
        "name": "ipython",
        "version": 3
      },
      "file_extension": ".py",
      "mimetype": "text/x-python",
      "name": "python",
      "nbconvert_exporter": "python",
      "pygments_lexer": "ipython3",
      "version": "3.9.13"
    },
    "vscode": {
      "interpreter": {
        "hash": "461f5957f6160bb42a7783dc1aad772beed658104c0595b6c8a0bf09937b397e"
      }
    }
  },
  "nbformat": 4,
  "nbformat_minor": 0
}
